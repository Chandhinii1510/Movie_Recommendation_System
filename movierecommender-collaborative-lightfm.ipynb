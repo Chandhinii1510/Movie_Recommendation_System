{
 "cells": [
  {
   "cell_type": "code",
   "execution_count": 1,
   "id": "minor-field",
   "metadata": {
    "_cell_guid": "b1076dfc-b9ad-4769-8c92-a6c4dae69d19",
    "_uuid": "8f2839f25d086af736a60e9eeb907d3b93b6e0e5",
    "execution": {
     "iopub.execute_input": "2021-06-22T11:04:06.720062Z",
     "iopub.status.busy": "2021-06-22T11:04:06.719423Z",
     "iopub.status.idle": "2021-06-22T11:04:08.943909Z",
     "shell.execute_reply": "2021-06-22T11:04:08.943182Z",
     "shell.execute_reply.started": "2021-06-22T09:22:33.831241Z"
    },
    "papermill": {
     "duration": 2.28105,
     "end_time": "2021-06-22T11:04:08.944064",
     "exception": false,
     "start_time": "2021-06-22T11:04:06.663014",
     "status": "completed"
    },
    "tags": []
   },
   "outputs": [
    {
     "data": {
      "text/html": [
       "        <script type=\"text/javascript\">\n",
       "        window.PlotlyConfig = {MathJaxConfig: 'local'};\n",
       "        if (window.MathJax) {MathJax.Hub.Config({SVG: {font: \"STIX-Web\"}});}\n",
       "        if (typeof require !== 'undefined') {\n",
       "        require.undef(\"plotly\");\n",
       "        requirejs.config({\n",
       "            paths: {\n",
       "                'plotly': ['https://cdn.plot.ly/plotly-latest.min']\n",
       "            }\n",
       "        });\n",
       "        require(['plotly'], function(Plotly) {\n",
       "            window._Plotly = Plotly;\n",
       "        });\n",
       "        }\n",
       "        </script>\n",
       "        "
      ]
     },
     "metadata": {},
     "output_type": "display_data"
    },
    {
     "name": "stdout",
     "output_type": "stream",
     "text": [
      "/kaggle/input/the-movies-dataset/ratings.csv\n",
      "/kaggle/input/the-movies-dataset/links_small.csv\n",
      "/kaggle/input/the-movies-dataset/credits.csv\n",
      "/kaggle/input/the-movies-dataset/keywords.csv\n",
      "/kaggle/input/the-movies-dataset/movies_metadata.csv\n",
      "/kaggle/input/the-movies-dataset/ratings_small.csv\n",
      "/kaggle/input/the-movies-dataset/links.csv\n"
     ]
    }
   ],
   "source": [
    "# This Python 3 environment comes with many helpful analytics libraries installed\n",
    "# It is defined by the kaggle/python Docker image: https://github.com/kaggle/docker-python\n",
    "# For example, here's several helpful packages to load\n",
    "\n",
    "import numpy as np # linear algebra\n",
    "import pandas as pd # data processing, CSV file I/O (e.g. pd.read_csv)\n",
    "import matplotlib.pyplot as plt\n",
    "import seaborn as sns\n",
    "import plotly.express as px\n",
    "from plotly.offline import init_notebook_mode\n",
    "init_notebook_mode(connected=True)\n",
    "\n",
    "# Input data files are available in the read-only \"../input/\" directory\n",
    "# For example, running this (by clicking run or pressing Shift+Enter) will list all files under the input directory\n",
    "\n",
    "import os\n",
    "for dirname, _, filenames in os.walk('/kaggle/input'):\n",
    "    for filename in filenames:\n",
    "        print(os.path.join(dirname, filename))\n",
    "\n",
    "# You can write up to 20GB to the current directory (/kaggle/working/) that gets preserved as output when you create a version using \"Save & Run All\" \n",
    "# You can also write temporary files to /kaggle/temp/, but they won't be saved outside of the current session"
   ]
  },
  {
   "cell_type": "code",
   "execution_count": 2,
   "id": "purple-python",
   "metadata": {
    "execution": {
     "iopub.execute_input": "2021-06-22T11:04:09.037386Z",
     "iopub.status.busy": "2021-06-22T11:04:09.036624Z",
     "iopub.status.idle": "2021-06-22T11:04:32.490408Z",
     "shell.execute_reply": "2021-06-22T11:04:32.489688Z",
     "shell.execute_reply.started": "2021-06-22T09:22:36.796179Z"
    },
    "papermill": {
     "duration": 23.502026,
     "end_time": "2021-06-22T11:04:32.490560",
     "exception": false,
     "start_time": "2021-06-22T11:04:08.988534",
     "status": "completed"
    },
    "tags": []
   },
   "outputs": [],
   "source": [
    "df1 = pd.read_csv('../input/the-movies-dataset/ratings.csv', low_memory=False)\n",
    "#df2 = pd.read_csv('../input/the-movies-dataset/links_small.csv', low_memory=False)\n",
    "df3 = pd.read_csv('../input/the-movies-dataset/credits.csv', low_memory=False)\n",
    "df4 = pd.read_csv('../input/the-movies-dataset/keywords.csv', low_memory=False)\n",
    "df5 = pd.read_csv('../input/the-movies-dataset/movies_metadata.csv', low_memory=False)\n",
    "#df6 = pd.read_csv('../input/the-movies-dataset/ratings_small.csv', low_memory=False)\n",
    "#df7 = pd.read_csv('../input/the-movies-dataset/links.csv', low_memory=False)"
   ]
  },
  {
   "cell_type": "markdown",
   "id": "parental-letter",
   "metadata": {
    "papermill": {
     "duration": 0.042397,
     "end_time": "2021-06-22T11:04:32.576110",
     "exception": false,
     "start_time": "2021-06-22T11:04:32.533713",
     "status": "completed"
    },
    "tags": []
   },
   "source": [
    "* Dataset 1 - ratings(26024289)\n",
    "    * userId\n",
    "    * movieId\n",
    "    * rating\n",
    "    * timestamp\n",
    "* Dataset 2 - links_small(9125)\n",
    "    * movieId\n",
    "    * imdbId\n",
    "    * tmdbId\n",
    "* Dataset 3 - credits(45476)\\\n",
    "    * cast\n",
    "    * crew\n",
    "    * id - movieId\n",
    "\n",
    "* Dataset 4 - keywords(46419)\n",
    "    * id - movieId\n",
    "    * keywords\n",
    "* Dataset 5 - movies_metadata(45466)\n",
    "    * adult - is movie adult rated ?\n",
    "    * belongs_to_collection - \n",
    "    * budget\n",
    "    * genres\n",
    "    * homepage - homepage link\n",
    "    * id - movieId\n",
    "    * imdb_id\n",
    "    * original_language\n",
    "    * original_title\n",
    "    * overview\n",
    "    * popularity\n",
    "    * poster_path\n",
    "    * production_companies\n",
    "    * production_countries\n",
    "    * release_date\n",
    "    * revenue\n",
    "    * runtime\n",
    "    * spoken_languages\n",
    "    * status\n",
    "    * tagline\n",
    "    * title\n",
    "    * video\n",
    "    * vote_average - rating out of 10\n",
    "    * vote_count - total number of votes\n",
    "* Dataset 6 - ratings_small(100004)\n",
    "    * userId\n",
    "    * movieId\n",
    "    * rating\n",
    "    * timestamp\n",
    "* Dataset 7 - links(45843)\n",
    "    * movieId\n",
    "    * imdbId\n",
    "    * tmdbId"
   ]
  },
  {
   "cell_type": "code",
   "execution_count": 3,
   "id": "worse-prescription",
   "metadata": {
    "execution": {
     "iopub.execute_input": "2021-06-22T11:04:32.665775Z",
     "iopub.status.busy": "2021-06-22T11:04:32.664801Z",
     "iopub.status.idle": "2021-06-22T11:04:32.774134Z",
     "shell.execute_reply": "2021-06-22T11:04:32.773606Z",
     "shell.execute_reply.started": "2021-06-22T09:23:04.593355Z"
    },
    "papermill": {
     "duration": 0.155477,
     "end_time": "2021-06-22T11:04:32.774300",
     "exception": false,
     "start_time": "2021-06-22T11:04:32.618823",
     "status": "completed"
    },
    "tags": []
   },
   "outputs": [
    {
     "name": "stdout",
     "output_type": "stream",
     "text": [
      "<class 'pandas.core.frame.DataFrame'>\n",
      "RangeIndex: 45466 entries, 0 to 45465\n",
      "Data columns (total 24 columns):\n",
      " #   Column                 Non-Null Count  Dtype  \n",
      "---  ------                 --------------  -----  \n",
      " 0   adult                  45466 non-null  object \n",
      " 1   belongs_to_collection  4494 non-null   object \n",
      " 2   budget                 45466 non-null  object \n",
      " 3   genres                 45466 non-null  object \n",
      " 4   homepage               7782 non-null   object \n",
      " 5   id                     45466 non-null  object \n",
      " 6   imdb_id                45449 non-null  object \n",
      " 7   original_language      45455 non-null  object \n",
      " 8   original_title         45466 non-null  object \n",
      " 9   overview               44512 non-null  object \n",
      " 10  popularity             45461 non-null  object \n",
      " 11  poster_path            45080 non-null  object \n",
      " 12  production_companies   45463 non-null  object \n",
      " 13  production_countries   45463 non-null  object \n",
      " 14  release_date           45379 non-null  object \n",
      " 15  revenue                45460 non-null  float64\n",
      " 16  runtime                45203 non-null  float64\n",
      " 17  spoken_languages       45460 non-null  object \n",
      " 18  status                 45379 non-null  object \n",
      " 19  tagline                20412 non-null  object \n",
      " 20  title                  45460 non-null  object \n",
      " 21  video                  45460 non-null  object \n",
      " 22  vote_average           45460 non-null  float64\n",
      " 23  vote_count             45460 non-null  float64\n",
      "dtypes: float64(4), object(20)\n",
      "memory usage: 8.3+ MB\n"
     ]
    }
   ],
   "source": [
    "df5.info()"
   ]
  },
  {
   "cell_type": "markdown",
   "id": "complimentary-reviewer",
   "metadata": {
    "papermill": {
     "duration": 0.043557,
     "end_time": "2021-06-22T11:04:32.862287",
     "exception": false,
     "start_time": "2021-06-22T11:04:32.818730",
     "status": "completed"
    },
    "tags": []
   },
   "source": [
    "**Updates-**\n",
    "* drop values without a title\n",
    "* popularity, budget, id - convert to numeric"
   ]
  },
  {
   "cell_type": "code",
   "execution_count": 4,
   "id": "regular-jacket",
   "metadata": {
    "execution": {
     "iopub.execute_input": "2021-06-22T11:04:32.961318Z",
     "iopub.status.busy": "2021-06-22T11:04:32.960626Z",
     "iopub.status.idle": "2021-06-22T11:04:33.992846Z",
     "shell.execute_reply": "2021-06-22T11:04:33.992316Z",
     "shell.execute_reply.started": "2021-06-22T09:23:04.708981Z"
    },
    "papermill": {
     "duration": 1.087433,
     "end_time": "2021-06-22T11:04:33.992992",
     "exception": false,
     "start_time": "2021-06-22T11:04:32.905559",
     "status": "completed"
    },
    "tags": []
   },
   "outputs": [],
   "source": [
    "df5.dropna(subset=['title'], inplace=True)\n",
    "df5['popularity'] = pd.to_numeric(df5['popularity'])\n",
    "df5['budget'] = pd.to_numeric(df5['budget'])\n",
    "df5['id'] = pd.to_numeric(df5['id'])\n",
    "\n",
    "# update genres column from json to list\n",
    "df5['genres'] = df5['genres'].apply(lambda x: ' '.join([i['name'] for i in eval(x)]))"
   ]
  },
  {
   "cell_type": "code",
   "execution_count": 5,
   "id": "dense-plaza",
   "metadata": {
    "execution": {
     "iopub.execute_input": "2021-06-22T11:04:34.098869Z",
     "iopub.status.busy": "2021-06-22T11:04:34.098223Z",
     "iopub.status.idle": "2021-06-22T11:04:34.108871Z",
     "shell.execute_reply": "2021-06-22T11:04:34.109464Z",
     "shell.execute_reply.started": "2021-06-22T09:23:05.788791Z"
    },
    "papermill": {
     "duration": 0.073459,
     "end_time": "2021-06-22T11:04:34.109630",
     "exception": false,
     "start_time": "2021-06-22T11:04:34.036171",
     "status": "completed"
    },
    "tags": []
   },
   "outputs": [
    {
     "name": "stdout",
     "output_type": "stream",
     "text": [
      "<class 'pandas.core.frame.DataFrame'>\n",
      "RangeIndex: 45476 entries, 0 to 45475\n",
      "Data columns (total 3 columns):\n",
      " #   Column  Non-Null Count  Dtype \n",
      "---  ------  --------------  ----- \n",
      " 0   cast    45476 non-null  object\n",
      " 1   crew    45476 non-null  object\n",
      " 2   id      45476 non-null  int64 \n",
      "dtypes: int64(1), object(2)\n",
      "memory usage: 1.0+ MB\n"
     ]
    }
   ],
   "source": [
    "df3.info()"
   ]
  },
  {
   "cell_type": "code",
   "execution_count": 6,
   "id": "directed-subscription",
   "metadata": {
    "execution": {
     "iopub.execute_input": "2021-06-22T11:04:34.253577Z",
     "iopub.status.busy": "2021-06-22T11:04:34.226425Z",
     "iopub.status.idle": "2021-06-22T11:04:58.509591Z",
     "shell.execute_reply": "2021-06-22T11:04:58.508691Z",
     "shell.execute_reply.started": "2021-06-22T09:23:05.829390Z"
    },
    "papermill": {
     "duration": 24.356525,
     "end_time": "2021-06-22T11:04:58.509746",
     "exception": false,
     "start_time": "2021-06-22T11:04:34.153221",
     "status": "completed"
    },
    "tags": []
   },
   "outputs": [],
   "source": [
    "# updates cast and crew columns from json to list\n",
    "df3['cast'] = df3['cast'].apply(lambda x: ' '.join([i['name'].replace(' ', '') for i in eval(x)]))\n",
    "df3['crew'] = df3['crew'].apply(lambda x: ' '.join([i['name'].replace(' ', '') for i in eval(x)]))"
   ]
  },
  {
   "cell_type": "code",
   "execution_count": 7,
   "id": "vertical-blame",
   "metadata": {
    "execution": {
     "iopub.execute_input": "2021-06-22T11:04:58.610606Z",
     "iopub.status.busy": "2021-06-22T11:04:58.608005Z",
     "iopub.status.idle": "2021-06-22T11:04:58.619297Z",
     "shell.execute_reply": "2021-06-22T11:04:58.618674Z",
     "shell.execute_reply.started": "2021-06-22T09:23:30.899098Z"
    },
    "papermill": {
     "duration": 0.066084,
     "end_time": "2021-06-22T11:04:58.619432",
     "exception": false,
     "start_time": "2021-06-22T11:04:58.553348",
     "status": "completed"
    },
    "tags": []
   },
   "outputs": [
    {
     "name": "stdout",
     "output_type": "stream",
     "text": [
      "<class 'pandas.core.frame.DataFrame'>\n",
      "RangeIndex: 46419 entries, 0 to 46418\n",
      "Data columns (total 2 columns):\n",
      " #   Column    Non-Null Count  Dtype \n",
      "---  ------    --------------  ----- \n",
      " 0   id        46419 non-null  int64 \n",
      " 1   keywords  46419 non-null  object\n",
      "dtypes: int64(1), object(1)\n",
      "memory usage: 725.4+ KB\n"
     ]
    }
   ],
   "source": [
    "df4.info()"
   ]
  },
  {
   "cell_type": "code",
   "execution_count": 8,
   "id": "flush-depth",
   "metadata": {
    "execution": {
     "iopub.execute_input": "2021-06-22T11:04:58.714410Z",
     "iopub.status.busy": "2021-06-22T11:04:58.713425Z",
     "iopub.status.idle": "2021-06-22T11:05:00.042232Z",
     "shell.execute_reply": "2021-06-22T11:05:00.041575Z",
     "shell.execute_reply.started": "2021-06-22T09:23:30.925678Z"
    },
    "papermill": {
     "duration": 1.37842,
     "end_time": "2021-06-22T11:05:00.042370",
     "exception": false,
     "start_time": "2021-06-22T11:04:58.663950",
     "status": "completed"
    },
    "tags": []
   },
   "outputs": [],
   "source": [
    "# update keywords from json to list\n",
    "df4['keywords'] = df4['keywords'].apply(lambda x: ' '.join([i['name'] for i in eval(x)]))"
   ]
  },
  {
   "cell_type": "markdown",
   "id": "english-origin",
   "metadata": {
    "papermill": {
     "duration": 0.043842,
     "end_time": "2021-06-22T11:05:00.130731",
     "exception": false,
     "start_time": "2021-06-22T11:05:00.086889",
     "status": "completed"
    },
    "tags": []
   },
   "source": [
    "# Recommendor 1 : Demographic Filtering\n",
    "Generalized recommendation to all users"
   ]
  },
  {
   "cell_type": "markdown",
   "id": "brief-preview",
   "metadata": {
    "papermill": {
     "duration": 0.044279,
     "end_time": "2021-06-22T11:05:00.219738",
     "exception": false,
     "start_time": "2021-06-22T11:05:00.175459",
     "status": "completed"
    },
    "tags": []
   },
   "source": [
    "## 1. Based on Popularity (Trending movies)"
   ]
  },
  {
   "cell_type": "code",
   "execution_count": 9,
   "id": "invisible-reset",
   "metadata": {
    "execution": {
     "iopub.execute_input": "2021-06-22T11:05:00.313896Z",
     "iopub.status.busy": "2021-06-22T11:05:00.313282Z",
     "iopub.status.idle": "2021-06-22T11:05:01.411604Z",
     "shell.execute_reply": "2021-06-22T11:05:01.410987Z",
     "shell.execute_reply.started": "2021-06-22T09:23:32.314303Z"
    },
    "papermill": {
     "duration": 1.147689,
     "end_time": "2021-06-22T11:05:01.411756",
     "exception": false,
     "start_time": "2021-06-22T11:05:00.264067",
     "status": "completed"
    },
    "tags": []
   },
   "outputs": [
    {
     "data": {
      "application/vnd.plotly.v1+json": {
       "config": {
        "plotlyServerURL": "https://plot.ly"
       },
       "data": [
        {
         "alignmentgroup": "True",
         "hovertemplate": "<b>%{hovertext}</b><br><br>popularity=%{x}<br>title=%{y}<extra></extra>",
         "hovertext": [
          "Minions Stuart, Kevin and Bob are recruited by Scarlet Overkill, a super-villain who, alongside her inventor husband Herb, hatches a plot to take over the world.",
          "An Amazon princess comes to the world of Man to become the greatest of the female superheroes.",
          "A live-action adaptation of Disney's version of the classic 'Beauty and the Beast' tale of a cursed prince and a beautiful young woman who helps him break the spell.",
          "After being coerced into working for a crime boss, a young getaway driver finds himself taking part in a heist doomed to fail.",
          "The special bond that develops between plus-sized inflatable robot Baymax, and prodigy Hiro Hamada, who team up with a group of friends to form a band of high-tech heroes.",
          "Deadpool tells the origin story of former Special Forces operative turned mercenary Wade Wilson, who after being subjected to a rogue experiment that leaves him with accelerated healing powers, adopts the alter ego Deadpool. Armed with his new abilities and a dark, twisted sense of humor, Deadpool hunts down the man who nearly destroyed his life.",
          "The Guardians must fight to keep their newfound family together as they unravel the mysteries of Peter Quill's true parentage.",
          "In the 22nd century, a paraplegic Marine is dispatched to the moon Pandora on a unique mission, but becomes torn between following orders and protecting an alien civilization.",
          "Ex-lunatic John Wick comes off his meds to track down the bounders that killed his dog and made off with his self-respect",
          "With his wife's disappearance having become the focus of an intense media circus, a man sees the spotlight turned on him when it's suspected that he may not be innocent."
         ],
         "legendgroup": "",
         "marker": {
          "color": "#636efa"
         },
         "name": "",
         "offsetgroup": "",
         "orientation": "h",
         "showlegend": false,
         "textposition": "auto",
         "type": "bar",
         "x": [
          547.488298,
          294.337037,
          287.253654,
          228.032744,
          213.849907,
          187.860492,
          185.330992,
          185.070892,
          183.870374,
          154.801009
         ],
         "xaxis": "x",
         "y": [
          "Minions",
          "Wonder Woman",
          "Beauty and the Beast",
          "Baby Driver",
          "Big Hero 6",
          "Deadpool",
          "Guardians of the Galaxy Vol. 2",
          "Avatar",
          "John Wick",
          "Gone Girl"
         ],
         "yaxis": "y"
        }
       ],
       "layout": {
        "barmode": "relative",
        "legend": {
         "tracegroupgap": 0
        },
        "margin": {
         "t": 60
        },
        "template": {
         "data": {
          "bar": [
           {
            "error_x": {
             "color": "#2a3f5f"
            },
            "error_y": {
             "color": "#2a3f5f"
            },
            "marker": {
             "line": {
              "color": "#E5ECF6",
              "width": 0.5
             }
            },
            "type": "bar"
           }
          ],
          "barpolar": [
           {
            "marker": {
             "line": {
              "color": "#E5ECF6",
              "width": 0.5
             }
            },
            "type": "barpolar"
           }
          ],
          "carpet": [
           {
            "aaxis": {
             "endlinecolor": "#2a3f5f",
             "gridcolor": "white",
             "linecolor": "white",
             "minorgridcolor": "white",
             "startlinecolor": "#2a3f5f"
            },
            "baxis": {
             "endlinecolor": "#2a3f5f",
             "gridcolor": "white",
             "linecolor": "white",
             "minorgridcolor": "white",
             "startlinecolor": "#2a3f5f"
            },
            "type": "carpet"
           }
          ],
          "choropleth": [
           {
            "colorbar": {
             "outlinewidth": 0,
             "ticks": ""
            },
            "type": "choropleth"
           }
          ],
          "contour": [
           {
            "colorbar": {
             "outlinewidth": 0,
             "ticks": ""
            },
            "colorscale": [
             [
              0.0,
              "#0d0887"
             ],
             [
              0.1111111111111111,
              "#46039f"
             ],
             [
              0.2222222222222222,
              "#7201a8"
             ],
             [
              0.3333333333333333,
              "#9c179e"
             ],
             [
              0.4444444444444444,
              "#bd3786"
             ],
             [
              0.5555555555555556,
              "#d8576b"
             ],
             [
              0.6666666666666666,
              "#ed7953"
             ],
             [
              0.7777777777777778,
              "#fb9f3a"
             ],
             [
              0.8888888888888888,
              "#fdca26"
             ],
             [
              1.0,
              "#f0f921"
             ]
            ],
            "type": "contour"
           }
          ],
          "contourcarpet": [
           {
            "colorbar": {
             "outlinewidth": 0,
             "ticks": ""
            },
            "type": "contourcarpet"
           }
          ],
          "heatmap": [
           {
            "colorbar": {
             "outlinewidth": 0,
             "ticks": ""
            },
            "colorscale": [
             [
              0.0,
              "#0d0887"
             ],
             [
              0.1111111111111111,
              "#46039f"
             ],
             [
              0.2222222222222222,
              "#7201a8"
             ],
             [
              0.3333333333333333,
              "#9c179e"
             ],
             [
              0.4444444444444444,
              "#bd3786"
             ],
             [
              0.5555555555555556,
              "#d8576b"
             ],
             [
              0.6666666666666666,
              "#ed7953"
             ],
             [
              0.7777777777777778,
              "#fb9f3a"
             ],
             [
              0.8888888888888888,
              "#fdca26"
             ],
             [
              1.0,
              "#f0f921"
             ]
            ],
            "type": "heatmap"
           }
          ],
          "heatmapgl": [
           {
            "colorbar": {
             "outlinewidth": 0,
             "ticks": ""
            },
            "colorscale": [
             [
              0.0,
              "#0d0887"
             ],
             [
              0.1111111111111111,
              "#46039f"
             ],
             [
              0.2222222222222222,
              "#7201a8"
             ],
             [
              0.3333333333333333,
              "#9c179e"
             ],
             [
              0.4444444444444444,
              "#bd3786"
             ],
             [
              0.5555555555555556,
              "#d8576b"
             ],
             [
              0.6666666666666666,
              "#ed7953"
             ],
             [
              0.7777777777777778,
              "#fb9f3a"
             ],
             [
              0.8888888888888888,
              "#fdca26"
             ],
             [
              1.0,
              "#f0f921"
             ]
            ],
            "type": "heatmapgl"
           }
          ],
          "histogram": [
           {
            "marker": {
             "colorbar": {
              "outlinewidth": 0,
              "ticks": ""
             }
            },
            "type": "histogram"
           }
          ],
          "histogram2d": [
           {
            "colorbar": {
             "outlinewidth": 0,
             "ticks": ""
            },
            "colorscale": [
             [
              0.0,
              "#0d0887"
             ],
             [
              0.1111111111111111,
              "#46039f"
             ],
             [
              0.2222222222222222,
              "#7201a8"
             ],
             [
              0.3333333333333333,
              "#9c179e"
             ],
             [
              0.4444444444444444,
              "#bd3786"
             ],
             [
              0.5555555555555556,
              "#d8576b"
             ],
             [
              0.6666666666666666,
              "#ed7953"
             ],
             [
              0.7777777777777778,
              "#fb9f3a"
             ],
             [
              0.8888888888888888,
              "#fdca26"
             ],
             [
              1.0,
              "#f0f921"
             ]
            ],
            "type": "histogram2d"
           }
          ],
          "histogram2dcontour": [
           {
            "colorbar": {
             "outlinewidth": 0,
             "ticks": ""
            },
            "colorscale": [
             [
              0.0,
              "#0d0887"
             ],
             [
              0.1111111111111111,
              "#46039f"
             ],
             [
              0.2222222222222222,
              "#7201a8"
             ],
             [
              0.3333333333333333,
              "#9c179e"
             ],
             [
              0.4444444444444444,
              "#bd3786"
             ],
             [
              0.5555555555555556,
              "#d8576b"
             ],
             [
              0.6666666666666666,
              "#ed7953"
             ],
             [
              0.7777777777777778,
              "#fb9f3a"
             ],
             [
              0.8888888888888888,
              "#fdca26"
             ],
             [
              1.0,
              "#f0f921"
             ]
            ],
            "type": "histogram2dcontour"
           }
          ],
          "mesh3d": [
           {
            "colorbar": {
             "outlinewidth": 0,
             "ticks": ""
            },
            "type": "mesh3d"
           }
          ],
          "parcoords": [
           {
            "line": {
             "colorbar": {
              "outlinewidth": 0,
              "ticks": ""
             }
            },
            "type": "parcoords"
           }
          ],
          "pie": [
           {
            "automargin": true,
            "type": "pie"
           }
          ],
          "scatter": [
           {
            "marker": {
             "colorbar": {
              "outlinewidth": 0,
              "ticks": ""
             }
            },
            "type": "scatter"
           }
          ],
          "scatter3d": [
           {
            "line": {
             "colorbar": {
              "outlinewidth": 0,
              "ticks": ""
             }
            },
            "marker": {
             "colorbar": {
              "outlinewidth": 0,
              "ticks": ""
             }
            },
            "type": "scatter3d"
           }
          ],
          "scattercarpet": [
           {
            "marker": {
             "colorbar": {
              "outlinewidth": 0,
              "ticks": ""
             }
            },
            "type": "scattercarpet"
           }
          ],
          "scattergeo": [
           {
            "marker": {
             "colorbar": {
              "outlinewidth": 0,
              "ticks": ""
             }
            },
            "type": "scattergeo"
           }
          ],
          "scattergl": [
           {
            "marker": {
             "colorbar": {
              "outlinewidth": 0,
              "ticks": ""
             }
            },
            "type": "scattergl"
           }
          ],
          "scattermapbox": [
           {
            "marker": {
             "colorbar": {
              "outlinewidth": 0,
              "ticks": ""
             }
            },
            "type": "scattermapbox"
           }
          ],
          "scatterpolar": [
           {
            "marker": {
             "colorbar": {
              "outlinewidth": 0,
              "ticks": ""
             }
            },
            "type": "scatterpolar"
           }
          ],
          "scatterpolargl": [
           {
            "marker": {
             "colorbar": {
              "outlinewidth": 0,
              "ticks": ""
             }
            },
            "type": "scatterpolargl"
           }
          ],
          "scatterternary": [
           {
            "marker": {
             "colorbar": {
              "outlinewidth": 0,
              "ticks": ""
             }
            },
            "type": "scatterternary"
           }
          ],
          "surface": [
           {
            "colorbar": {
             "outlinewidth": 0,
             "ticks": ""
            },
            "colorscale": [
             [
              0.0,
              "#0d0887"
             ],
             [
              0.1111111111111111,
              "#46039f"
             ],
             [
              0.2222222222222222,
              "#7201a8"
             ],
             [
              0.3333333333333333,
              "#9c179e"
             ],
             [
              0.4444444444444444,
              "#bd3786"
             ],
             [
              0.5555555555555556,
              "#d8576b"
             ],
             [
              0.6666666666666666,
              "#ed7953"
             ],
             [
              0.7777777777777778,
              "#fb9f3a"
             ],
             [
              0.8888888888888888,
              "#fdca26"
             ],
             [
              1.0,
              "#f0f921"
             ]
            ],
            "type": "surface"
           }
          ],
          "table": [
           {
            "cells": {
             "fill": {
              "color": "#EBF0F8"
             },
             "line": {
              "color": "white"
             }
            },
            "header": {
             "fill": {
              "color": "#C8D4E3"
             },
             "line": {
              "color": "white"
             }
            },
            "type": "table"
           }
          ]
         },
         "layout": {
          "annotationdefaults": {
           "arrowcolor": "#2a3f5f",
           "arrowhead": 0,
           "arrowwidth": 1
          },
          "autotypenumbers": "strict",
          "coloraxis": {
           "colorbar": {
            "outlinewidth": 0,
            "ticks": ""
           }
          },
          "colorscale": {
           "diverging": [
            [
             0,
             "#8e0152"
            ],
            [
             0.1,
             "#c51b7d"
            ],
            [
             0.2,
             "#de77ae"
            ],
            [
             0.3,
             "#f1b6da"
            ],
            [
             0.4,
             "#fde0ef"
            ],
            [
             0.5,
             "#f7f7f7"
            ],
            [
             0.6,
             "#e6f5d0"
            ],
            [
             0.7,
             "#b8e186"
            ],
            [
             0.8,
             "#7fbc41"
            ],
            [
             0.9,
             "#4d9221"
            ],
            [
             1,
             "#276419"
            ]
           ],
           "sequential": [
            [
             0.0,
             "#0d0887"
            ],
            [
             0.1111111111111111,
             "#46039f"
            ],
            [
             0.2222222222222222,
             "#7201a8"
            ],
            [
             0.3333333333333333,
             "#9c179e"
            ],
            [
             0.4444444444444444,
             "#bd3786"
            ],
            [
             0.5555555555555556,
             "#d8576b"
            ],
            [
             0.6666666666666666,
             "#ed7953"
            ],
            [
             0.7777777777777778,
             "#fb9f3a"
            ],
            [
             0.8888888888888888,
             "#fdca26"
            ],
            [
             1.0,
             "#f0f921"
            ]
           ],
           "sequentialminus": [
            [
             0.0,
             "#0d0887"
            ],
            [
             0.1111111111111111,
             "#46039f"
            ],
            [
             0.2222222222222222,
             "#7201a8"
            ],
            [
             0.3333333333333333,
             "#9c179e"
            ],
            [
             0.4444444444444444,
             "#bd3786"
            ],
            [
             0.5555555555555556,
             "#d8576b"
            ],
            [
             0.6666666666666666,
             "#ed7953"
            ],
            [
             0.7777777777777778,
             "#fb9f3a"
            ],
            [
             0.8888888888888888,
             "#fdca26"
            ],
            [
             1.0,
             "#f0f921"
            ]
           ]
          },
          "colorway": [
           "#636efa",
           "#EF553B",
           "#00cc96",
           "#ab63fa",
           "#FFA15A",
           "#19d3f3",
           "#FF6692",
           "#B6E880",
           "#FF97FF",
           "#FECB52"
          ],
          "font": {
           "color": "#2a3f5f"
          },
          "geo": {
           "bgcolor": "white",
           "lakecolor": "white",
           "landcolor": "#E5ECF6",
           "showlakes": true,
           "showland": true,
           "subunitcolor": "white"
          },
          "hoverlabel": {
           "align": "left"
          },
          "hovermode": "closest",
          "mapbox": {
           "style": "light"
          },
          "paper_bgcolor": "white",
          "plot_bgcolor": "#E5ECF6",
          "polar": {
           "angularaxis": {
            "gridcolor": "white",
            "linecolor": "white",
            "ticks": ""
           },
           "bgcolor": "#E5ECF6",
           "radialaxis": {
            "gridcolor": "white",
            "linecolor": "white",
            "ticks": ""
           }
          },
          "scene": {
           "xaxis": {
            "backgroundcolor": "#E5ECF6",
            "gridcolor": "white",
            "gridwidth": 2,
            "linecolor": "white",
            "showbackground": true,
            "ticks": "",
            "zerolinecolor": "white"
           },
           "yaxis": {
            "backgroundcolor": "#E5ECF6",
            "gridcolor": "white",
            "gridwidth": 2,
            "linecolor": "white",
            "showbackground": true,
            "ticks": "",
            "zerolinecolor": "white"
           },
           "zaxis": {
            "backgroundcolor": "#E5ECF6",
            "gridcolor": "white",
            "gridwidth": 2,
            "linecolor": "white",
            "showbackground": true,
            "ticks": "",
            "zerolinecolor": "white"
           }
          },
          "shapedefaults": {
           "line": {
            "color": "#2a3f5f"
           }
          },
          "ternary": {
           "aaxis": {
            "gridcolor": "white",
            "linecolor": "white",
            "ticks": ""
           },
           "baxis": {
            "gridcolor": "white",
            "linecolor": "white",
            "ticks": ""
           },
           "bgcolor": "#E5ECF6",
           "caxis": {
            "gridcolor": "white",
            "linecolor": "white",
            "ticks": ""
           }
          },
          "title": {
           "x": 0.05
          },
          "xaxis": {
           "automargin": true,
           "gridcolor": "white",
           "linecolor": "white",
           "ticks": "",
           "title": {
            "standoff": 15
           },
           "zerolinecolor": "white",
           "zerolinewidth": 2
          },
          "yaxis": {
           "automargin": true,
           "gridcolor": "white",
           "linecolor": "white",
           "ticks": "",
           "title": {
            "standoff": 15
           },
           "zerolinecolor": "white",
           "zerolinewidth": 2
          }
         }
        },
        "xaxis": {
         "anchor": "y",
         "domain": [
          0.0,
          1.0
         ],
         "title": {
          "text": "popularity"
         }
        },
        "yaxis": {
         "anchor": "x",
         "autorange": "reversed",
         "domain": [
          0.0,
          1.0
         ],
         "title": {
          "text": "title"
         }
        }
       }
      },
      "text/html": [
       "<div>                            <div id=\"a06c2b43-483c-42bb-946a-2c7ff42beef3\" class=\"plotly-graph-div\" style=\"height:525px; width:100%;\"></div>            <script type=\"text/javascript\">                require([\"plotly\"], function(Plotly) {                    window.PLOTLYENV=window.PLOTLYENV || {};                                    if (document.getElementById(\"a06c2b43-483c-42bb-946a-2c7ff42beef3\")) {                    Plotly.newPlot(                        \"a06c2b43-483c-42bb-946a-2c7ff42beef3\",                        [{\"alignmentgroup\": \"True\", \"hovertemplate\": \"<b>%{hovertext}</b><br><br>popularity=%{x}<br>title=%{y}<extra></extra>\", \"hovertext\": [\"Minions Stuart, Kevin and Bob are recruited by Scarlet Overkill, a super-villain who, alongside her inventor husband Herb, hatches a plot to take over the world.\", \"An Amazon princess comes to the world of Man to become the greatest of the female superheroes.\", \"A live-action adaptation of Disney's version of the classic 'Beauty and the Beast' tale of a cursed prince and a beautiful young woman who helps him break the spell.\", \"After being coerced into working for a crime boss, a young getaway driver finds himself taking part in a heist doomed to fail.\", \"The special bond that develops between plus-sized inflatable robot Baymax, and prodigy Hiro Hamada, who team up with a group of friends to form a band of high-tech heroes.\", \"Deadpool tells the origin story of former Special Forces operative turned mercenary Wade Wilson, who after being subjected to a rogue experiment that leaves him with accelerated healing powers, adopts the alter ego Deadpool. Armed with his new abilities and a dark, twisted sense of humor, Deadpool hunts down the man who nearly destroyed his life.\", \"The Guardians must fight to keep their newfound family together as they unravel the mysteries of Peter Quill's true parentage.\", \"In the 22nd century, a paraplegic Marine is dispatched to the moon Pandora on a unique mission, but becomes torn between following orders and protecting an alien civilization.\", \"Ex-lunatic John Wick comes off his meds to track down the bounders that killed his dog and made off with his self-respect\", \"With his wife's disappearance having become the focus of an intense media circus, a man sees the spotlight turned on him when it's suspected that he may not be innocent.\"], \"legendgroup\": \"\", \"marker\": {\"color\": \"#636efa\"}, \"name\": \"\", \"offsetgroup\": \"\", \"orientation\": \"h\", \"showlegend\": false, \"textposition\": \"auto\", \"type\": \"bar\", \"x\": [547.488298, 294.337037, 287.253654, 228.032744, 213.849907, 187.860492, 185.330992, 185.070892, 183.870374, 154.801009], \"xaxis\": \"x\", \"y\": [\"Minions\", \"Wonder Woman\", \"Beauty and the Beast\", \"Baby Driver\", \"Big Hero 6\", \"Deadpool\", \"Guardians of the Galaxy Vol. 2\", \"Avatar\", \"John Wick\", \"Gone Girl\"], \"yaxis\": \"y\"}],                        {\"barmode\": \"relative\", \"legend\": {\"tracegroupgap\": 0}, \"margin\": {\"t\": 60}, \"template\": {\"data\": {\"bar\": [{\"error_x\": {\"color\": \"#2a3f5f\"}, \"error_y\": {\"color\": \"#2a3f5f\"}, \"marker\": {\"line\": {\"color\": \"#E5ECF6\", \"width\": 0.5}}, \"type\": \"bar\"}], \"barpolar\": [{\"marker\": {\"line\": {\"color\": \"#E5ECF6\", \"width\": 0.5}}, \"type\": \"barpolar\"}], \"carpet\": [{\"aaxis\": {\"endlinecolor\": \"#2a3f5f\", \"gridcolor\": \"white\", \"linecolor\": \"white\", \"minorgridcolor\": \"white\", \"startlinecolor\": \"#2a3f5f\"}, \"baxis\": {\"endlinecolor\": \"#2a3f5f\", \"gridcolor\": \"white\", \"linecolor\": \"white\", \"minorgridcolor\": \"white\", \"startlinecolor\": \"#2a3f5f\"}, \"type\": \"carpet\"}], \"choropleth\": [{\"colorbar\": {\"outlinewidth\": 0, \"ticks\": \"\"}, \"type\": \"choropleth\"}], \"contour\": [{\"colorbar\": {\"outlinewidth\": 0, \"ticks\": \"\"}, \"colorscale\": [[0.0, \"#0d0887\"], [0.1111111111111111, \"#46039f\"], [0.2222222222222222, \"#7201a8\"], [0.3333333333333333, \"#9c179e\"], [0.4444444444444444, \"#bd3786\"], [0.5555555555555556, \"#d8576b\"], [0.6666666666666666, \"#ed7953\"], [0.7777777777777778, \"#fb9f3a\"], [0.8888888888888888, \"#fdca26\"], [1.0, \"#f0f921\"]], \"type\": \"contour\"}], \"contourcarpet\": [{\"colorbar\": {\"outlinewidth\": 0, \"ticks\": \"\"}, \"type\": \"contourcarpet\"}], \"heatmap\": [{\"colorbar\": {\"outlinewidth\": 0, \"ticks\": \"\"}, \"colorscale\": [[0.0, \"#0d0887\"], [0.1111111111111111, \"#46039f\"], [0.2222222222222222, \"#7201a8\"], [0.3333333333333333, \"#9c179e\"], [0.4444444444444444, \"#bd3786\"], [0.5555555555555556, \"#d8576b\"], [0.6666666666666666, \"#ed7953\"], [0.7777777777777778, \"#fb9f3a\"], [0.8888888888888888, \"#fdca26\"], [1.0, \"#f0f921\"]], \"type\": \"heatmap\"}], \"heatmapgl\": [{\"colorbar\": {\"outlinewidth\": 0, \"ticks\": \"\"}, \"colorscale\": [[0.0, \"#0d0887\"], [0.1111111111111111, \"#46039f\"], [0.2222222222222222, \"#7201a8\"], [0.3333333333333333, \"#9c179e\"], [0.4444444444444444, \"#bd3786\"], [0.5555555555555556, \"#d8576b\"], [0.6666666666666666, \"#ed7953\"], [0.7777777777777778, \"#fb9f3a\"], [0.8888888888888888, \"#fdca26\"], [1.0, \"#f0f921\"]], \"type\": \"heatmapgl\"}], \"histogram\": [{\"marker\": {\"colorbar\": {\"outlinewidth\": 0, \"ticks\": \"\"}}, \"type\": \"histogram\"}], \"histogram2d\": [{\"colorbar\": {\"outlinewidth\": 0, \"ticks\": \"\"}, \"colorscale\": [[0.0, \"#0d0887\"], [0.1111111111111111, \"#46039f\"], [0.2222222222222222, \"#7201a8\"], [0.3333333333333333, \"#9c179e\"], [0.4444444444444444, \"#bd3786\"], [0.5555555555555556, \"#d8576b\"], [0.6666666666666666, \"#ed7953\"], [0.7777777777777778, \"#fb9f3a\"], [0.8888888888888888, \"#fdca26\"], [1.0, \"#f0f921\"]], \"type\": \"histogram2d\"}], \"histogram2dcontour\": [{\"colorbar\": {\"outlinewidth\": 0, \"ticks\": \"\"}, \"colorscale\": [[0.0, \"#0d0887\"], [0.1111111111111111, \"#46039f\"], [0.2222222222222222, \"#7201a8\"], [0.3333333333333333, \"#9c179e\"], [0.4444444444444444, \"#bd3786\"], [0.5555555555555556, \"#d8576b\"], [0.6666666666666666, \"#ed7953\"], [0.7777777777777778, \"#fb9f3a\"], [0.8888888888888888, \"#fdca26\"], [1.0, \"#f0f921\"]], \"type\": \"histogram2dcontour\"}], \"mesh3d\": [{\"colorbar\": {\"outlinewidth\": 0, \"ticks\": \"\"}, \"type\": \"mesh3d\"}], \"parcoords\": [{\"line\": {\"colorbar\": {\"outlinewidth\": 0, \"ticks\": \"\"}}, \"type\": \"parcoords\"}], \"pie\": [{\"automargin\": true, \"type\": \"pie\"}], \"scatter\": [{\"marker\": {\"colorbar\": {\"outlinewidth\": 0, \"ticks\": \"\"}}, \"type\": \"scatter\"}], \"scatter3d\": [{\"line\": {\"colorbar\": {\"outlinewidth\": 0, \"ticks\": \"\"}}, \"marker\": {\"colorbar\": {\"outlinewidth\": 0, \"ticks\": \"\"}}, \"type\": \"scatter3d\"}], \"scattercarpet\": [{\"marker\": {\"colorbar\": {\"outlinewidth\": 0, \"ticks\": \"\"}}, \"type\": \"scattercarpet\"}], \"scattergeo\": [{\"marker\": {\"colorbar\": {\"outlinewidth\": 0, \"ticks\": \"\"}}, \"type\": \"scattergeo\"}], \"scattergl\": [{\"marker\": {\"colorbar\": {\"outlinewidth\": 0, \"ticks\": \"\"}}, \"type\": \"scattergl\"}], \"scattermapbox\": [{\"marker\": {\"colorbar\": {\"outlinewidth\": 0, \"ticks\": \"\"}}, \"type\": \"scattermapbox\"}], \"scatterpolar\": [{\"marker\": {\"colorbar\": {\"outlinewidth\": 0, \"ticks\": \"\"}}, \"type\": \"scatterpolar\"}], \"scatterpolargl\": [{\"marker\": {\"colorbar\": {\"outlinewidth\": 0, \"ticks\": \"\"}}, \"type\": \"scatterpolargl\"}], \"scatterternary\": [{\"marker\": {\"colorbar\": {\"outlinewidth\": 0, \"ticks\": \"\"}}, \"type\": \"scatterternary\"}], \"surface\": [{\"colorbar\": {\"outlinewidth\": 0, \"ticks\": \"\"}, \"colorscale\": [[0.0, \"#0d0887\"], [0.1111111111111111, \"#46039f\"], [0.2222222222222222, \"#7201a8\"], [0.3333333333333333, \"#9c179e\"], [0.4444444444444444, \"#bd3786\"], [0.5555555555555556, \"#d8576b\"], [0.6666666666666666, \"#ed7953\"], [0.7777777777777778, \"#fb9f3a\"], [0.8888888888888888, \"#fdca26\"], [1.0, \"#f0f921\"]], \"type\": \"surface\"}], \"table\": [{\"cells\": {\"fill\": {\"color\": \"#EBF0F8\"}, \"line\": {\"color\": \"white\"}}, \"header\": {\"fill\": {\"color\": \"#C8D4E3\"}, \"line\": {\"color\": \"white\"}}, \"type\": \"table\"}]}, \"layout\": {\"annotationdefaults\": {\"arrowcolor\": \"#2a3f5f\", \"arrowhead\": 0, \"arrowwidth\": 1}, \"autotypenumbers\": \"strict\", \"coloraxis\": {\"colorbar\": {\"outlinewidth\": 0, \"ticks\": \"\"}}, \"colorscale\": {\"diverging\": [[0, \"#8e0152\"], [0.1, \"#c51b7d\"], [0.2, \"#de77ae\"], [0.3, \"#f1b6da\"], [0.4, \"#fde0ef\"], [0.5, \"#f7f7f7\"], [0.6, \"#e6f5d0\"], [0.7, \"#b8e186\"], [0.8, \"#7fbc41\"], [0.9, \"#4d9221\"], [1, \"#276419\"]], \"sequential\": [[0.0, \"#0d0887\"], [0.1111111111111111, \"#46039f\"], [0.2222222222222222, \"#7201a8\"], [0.3333333333333333, \"#9c179e\"], [0.4444444444444444, \"#bd3786\"], [0.5555555555555556, \"#d8576b\"], [0.6666666666666666, \"#ed7953\"], [0.7777777777777778, \"#fb9f3a\"], [0.8888888888888888, \"#fdca26\"], [1.0, \"#f0f921\"]], \"sequentialminus\": [[0.0, \"#0d0887\"], [0.1111111111111111, \"#46039f\"], [0.2222222222222222, \"#7201a8\"], [0.3333333333333333, \"#9c179e\"], [0.4444444444444444, \"#bd3786\"], [0.5555555555555556, \"#d8576b\"], [0.6666666666666666, \"#ed7953\"], [0.7777777777777778, \"#fb9f3a\"], [0.8888888888888888, \"#fdca26\"], [1.0, \"#f0f921\"]]}, \"colorway\": [\"#636efa\", \"#EF553B\", \"#00cc96\", \"#ab63fa\", \"#FFA15A\", \"#19d3f3\", \"#FF6692\", \"#B6E880\", \"#FF97FF\", \"#FECB52\"], \"font\": {\"color\": \"#2a3f5f\"}, \"geo\": {\"bgcolor\": \"white\", \"lakecolor\": \"white\", \"landcolor\": \"#E5ECF6\", \"showlakes\": true, \"showland\": true, \"subunitcolor\": \"white\"}, \"hoverlabel\": {\"align\": \"left\"}, \"hovermode\": \"closest\", \"mapbox\": {\"style\": \"light\"}, \"paper_bgcolor\": \"white\", \"plot_bgcolor\": \"#E5ECF6\", \"polar\": {\"angularaxis\": {\"gridcolor\": \"white\", \"linecolor\": \"white\", \"ticks\": \"\"}, \"bgcolor\": \"#E5ECF6\", \"radialaxis\": {\"gridcolor\": \"white\", \"linecolor\": \"white\", \"ticks\": \"\"}}, \"scene\": {\"xaxis\": {\"backgroundcolor\": \"#E5ECF6\", \"gridcolor\": \"white\", \"gridwidth\": 2, \"linecolor\": \"white\", \"showbackground\": true, \"ticks\": \"\", \"zerolinecolor\": \"white\"}, \"yaxis\": {\"backgroundcolor\": \"#E5ECF6\", \"gridcolor\": \"white\", \"gridwidth\": 2, \"linecolor\": \"white\", \"showbackground\": true, \"ticks\": \"\", \"zerolinecolor\": \"white\"}, \"zaxis\": {\"backgroundcolor\": \"#E5ECF6\", \"gridcolor\": \"white\", \"gridwidth\": 2, \"linecolor\": \"white\", \"showbackground\": true, \"ticks\": \"\", \"zerolinecolor\": \"white\"}}, \"shapedefaults\": {\"line\": {\"color\": \"#2a3f5f\"}}, \"ternary\": {\"aaxis\": {\"gridcolor\": \"white\", \"linecolor\": \"white\", \"ticks\": \"\"}, \"baxis\": {\"gridcolor\": \"white\", \"linecolor\": \"white\", \"ticks\": \"\"}, \"bgcolor\": \"#E5ECF6\", \"caxis\": {\"gridcolor\": \"white\", \"linecolor\": \"white\", \"ticks\": \"\"}}, \"title\": {\"x\": 0.05}, \"xaxis\": {\"automargin\": true, \"gridcolor\": \"white\", \"linecolor\": \"white\", \"ticks\": \"\", \"title\": {\"standoff\": 15}, \"zerolinecolor\": \"white\", \"zerolinewidth\": 2}, \"yaxis\": {\"automargin\": true, \"gridcolor\": \"white\", \"linecolor\": \"white\", \"ticks\": \"\", \"title\": {\"standoff\": 15}, \"zerolinecolor\": \"white\", \"zerolinewidth\": 2}}}, \"xaxis\": {\"anchor\": \"y\", \"domain\": [0.0, 1.0], \"title\": {\"text\": \"popularity\"}}, \"yaxis\": {\"anchor\": \"x\", \"autorange\": \"reversed\", \"domain\": [0.0, 1.0], \"title\": {\"text\": \"title\"}}},                        {\"responsive\": true}                    ).then(function(){\n",
       "                            \n",
       "var gd = document.getElementById('a06c2b43-483c-42bb-946a-2c7ff42beef3');\n",
       "var x = new MutationObserver(function (mutations, observer) {{\n",
       "        var display = window.getComputedStyle(gd).display;\n",
       "        if (!display || display === 'none') {{\n",
       "            console.log([gd, 'removed!']);\n",
       "            Plotly.purge(gd);\n",
       "            observer.disconnect();\n",
       "        }}\n",
       "}});\n",
       "\n",
       "// Listen for the removal of the full notebook cells\n",
       "var notebookContainer = gd.closest('#notebook-container');\n",
       "if (notebookContainer) {{\n",
       "    x.observe(notebookContainer, {childList: true});\n",
       "}}\n",
       "\n",
       "// Listen for the clearing of the current output cell\n",
       "var outputEl = gd.closest('.output');\n",
       "if (outputEl) {{\n",
       "    x.observe(outputEl, {childList: true});\n",
       "}}\n",
       "\n",
       "                        })                };                });            </script>        </div>"
      ]
     },
     "metadata": {},
     "output_type": "display_data"
    }
   ],
   "source": [
    "data = df5.sort_values('popularity', ascending=False)\n",
    "fig = px.bar(data.head(10), x='popularity', y='title', orientation='h', hover_name='overview')\n",
    "fig.update_yaxes(autorange='reversed')\n",
    "fig.show()"
   ]
  },
  {
   "cell_type": "markdown",
   "id": "french-intranet",
   "metadata": {
    "papermill": {
     "duration": 0.051679,
     "end_time": "2021-06-22T11:05:01.514354",
     "exception": false,
     "start_time": "2021-06-22T11:05:01.462675",
     "status": "completed"
    },
    "tags": []
   },
   "source": [
    "## 2. Based on average rating & number of votes (IMDB Rating)\n",
    "generating a new metric score as per the imdb weighted rating<br>\n",
    "**weighted rating (WR)** = (v / (v+m)) × R + (m / (v+m)) × C<br>\n",
    "where:<br> \n",
    "R = average for the movie (mean) = (Rating) <br>\n",
    "v = number of votes for the movie = (votes) <br>\n",
    "m = minimum votes required to be listed in the Top 250 (more votes than 99% of movies)<br>\n",
    "C = mean vote across all movies"
   ]
  },
  {
   "cell_type": "code",
   "execution_count": 10,
   "id": "scenic-calculation",
   "metadata": {
    "execution": {
     "iopub.execute_input": "2021-06-22T11:05:01.626644Z",
     "iopub.status.busy": "2021-06-22T11:05:01.625775Z",
     "iopub.status.idle": "2021-06-22T11:05:01.655803Z",
     "shell.execute_reply": "2021-06-22T11:05:01.656534Z",
     "shell.execute_reply.started": "2021-06-22T09:23:33.606280Z"
    },
    "papermill": {
     "duration": 0.090011,
     "end_time": "2021-06-22T11:05:01.656781",
     "exception": false,
     "start_time": "2021-06-22T11:05:01.566770",
     "status": "completed"
    },
    "tags": []
   },
   "outputs": [
    {
     "name": "stdout",
     "output_type": "stream",
     "text": [
      "m = 2183.8199999999924\n",
      "(455, 24)\n"
     ]
    }
   ],
   "source": [
    "data = df5.copy()\n",
    "m = data['vote_count'].quantile(0.99)\n",
    "data = data[data['vote_count']>m]\n",
    "print('m =', m)\n",
    "print(data.shape)\n",
    "R = data['vote_average']\n",
    "v = data['vote_count']\n",
    "C = data['vote_average'].mean()\n",
    "data['weighted rating'] = (v/(v+m))*R + (m/(v+m))*C"
   ]
  },
  {
   "cell_type": "code",
   "execution_count": 11,
   "id": "supreme-compromise",
   "metadata": {
    "execution": {
     "iopub.execute_input": "2021-06-22T11:05:01.782281Z",
     "iopub.status.busy": "2021-06-22T11:05:01.766772Z",
     "iopub.status.idle": "2021-06-22T11:05:01.838175Z",
     "shell.execute_reply": "2021-06-22T11:05:01.837584Z",
     "shell.execute_reply.started": "2021-06-22T09:23:33.656352Z"
    },
    "papermill": {
     "duration": 0.128956,
     "end_time": "2021-06-22T11:05:01.838315",
     "exception": false,
     "start_time": "2021-06-22T11:05:01.709359",
     "status": "completed"
    },
    "tags": []
   },
   "outputs": [
    {
     "data": {
      "application/vnd.plotly.v1+json": {
       "config": {
        "plotlyServerURL": "https://plot.ly"
       },
       "data": [
        {
         "alignmentgroup": "True",
         "customdata": [
          [
           8358.0,
           8.5
          ],
          [
           12269.0,
           8.3
          ],
          [
           6024.0,
           8.5
          ],
          [
           9678.0,
           8.3
          ],
          [
           8670.0,
           8.3
          ],
          [
           14075.0,
           8.1
          ],
          [
           8147.0,
           8.2
          ],
          [
           11187.0,
           8.1
          ],
          [
           5998.0,
           8.2
          ],
          [
           4436.0,
           8.3
          ]
         ],
         "hovertemplate": "weighted rating=%{x}<br>title=%{y}<br>vote_count=%{customdata[0]}<br>vote_average=%{customdata[1]}<extra></extra>",
         "legendgroup": "",
         "marker": {
          "color": "#636efa"
         },
         "name": "",
         "offsetgroup": "",
         "orientation": "h",
         "showlegend": false,
         "textposition": "auto",
         "type": "bar",
         "x": [
          8.1883982795806,
          8.102939132407958,
          8.099790291654587,
          8.059894750691578,
          8.0375960492848,
          7.951691497393314,
          7.94545067590456,
          7.919657938080713,
          7.878591896625488,
          7.869763943981614
         ],
         "xaxis": "x",
         "y": [
          "The Shawshank Redemption",
          "The Dark Knight",
          "The Godfather",
          "Fight Club",
          "Pulp Fiction",
          "Inception",
          "Forrest Gump",
          "Interstellar",
          "The Empire Strikes Back",
          "Schindler's List"
         ],
         "yaxis": "y"
        }
       ],
       "layout": {
        "barmode": "relative",
        "legend": {
         "tracegroupgap": 0
        },
        "margin": {
         "t": 60
        },
        "template": {
         "data": {
          "bar": [
           {
            "error_x": {
             "color": "#2a3f5f"
            },
            "error_y": {
             "color": "#2a3f5f"
            },
            "marker": {
             "line": {
              "color": "#E5ECF6",
              "width": 0.5
             }
            },
            "type": "bar"
           }
          ],
          "barpolar": [
           {
            "marker": {
             "line": {
              "color": "#E5ECF6",
              "width": 0.5
             }
            },
            "type": "barpolar"
           }
          ],
          "carpet": [
           {
            "aaxis": {
             "endlinecolor": "#2a3f5f",
             "gridcolor": "white",
             "linecolor": "white",
             "minorgridcolor": "white",
             "startlinecolor": "#2a3f5f"
            },
            "baxis": {
             "endlinecolor": "#2a3f5f",
             "gridcolor": "white",
             "linecolor": "white",
             "minorgridcolor": "white",
             "startlinecolor": "#2a3f5f"
            },
            "type": "carpet"
           }
          ],
          "choropleth": [
           {
            "colorbar": {
             "outlinewidth": 0,
             "ticks": ""
            },
            "type": "choropleth"
           }
          ],
          "contour": [
           {
            "colorbar": {
             "outlinewidth": 0,
             "ticks": ""
            },
            "colorscale": [
             [
              0.0,
              "#0d0887"
             ],
             [
              0.1111111111111111,
              "#46039f"
             ],
             [
              0.2222222222222222,
              "#7201a8"
             ],
             [
              0.3333333333333333,
              "#9c179e"
             ],
             [
              0.4444444444444444,
              "#bd3786"
             ],
             [
              0.5555555555555556,
              "#d8576b"
             ],
             [
              0.6666666666666666,
              "#ed7953"
             ],
             [
              0.7777777777777778,
              "#fb9f3a"
             ],
             [
              0.8888888888888888,
              "#fdca26"
             ],
             [
              1.0,
              "#f0f921"
             ]
            ],
            "type": "contour"
           }
          ],
          "contourcarpet": [
           {
            "colorbar": {
             "outlinewidth": 0,
             "ticks": ""
            },
            "type": "contourcarpet"
           }
          ],
          "heatmap": [
           {
            "colorbar": {
             "outlinewidth": 0,
             "ticks": ""
            },
            "colorscale": [
             [
              0.0,
              "#0d0887"
             ],
             [
              0.1111111111111111,
              "#46039f"
             ],
             [
              0.2222222222222222,
              "#7201a8"
             ],
             [
              0.3333333333333333,
              "#9c179e"
             ],
             [
              0.4444444444444444,
              "#bd3786"
             ],
             [
              0.5555555555555556,
              "#d8576b"
             ],
             [
              0.6666666666666666,
              "#ed7953"
             ],
             [
              0.7777777777777778,
              "#fb9f3a"
             ],
             [
              0.8888888888888888,
              "#fdca26"
             ],
             [
              1.0,
              "#f0f921"
             ]
            ],
            "type": "heatmap"
           }
          ],
          "heatmapgl": [
           {
            "colorbar": {
             "outlinewidth": 0,
             "ticks": ""
            },
            "colorscale": [
             [
              0.0,
              "#0d0887"
             ],
             [
              0.1111111111111111,
              "#46039f"
             ],
             [
              0.2222222222222222,
              "#7201a8"
             ],
             [
              0.3333333333333333,
              "#9c179e"
             ],
             [
              0.4444444444444444,
              "#bd3786"
             ],
             [
              0.5555555555555556,
              "#d8576b"
             ],
             [
              0.6666666666666666,
              "#ed7953"
             ],
             [
              0.7777777777777778,
              "#fb9f3a"
             ],
             [
              0.8888888888888888,
              "#fdca26"
             ],
             [
              1.0,
              "#f0f921"
             ]
            ],
            "type": "heatmapgl"
           }
          ],
          "histogram": [
           {
            "marker": {
             "colorbar": {
              "outlinewidth": 0,
              "ticks": ""
             }
            },
            "type": "histogram"
           }
          ],
          "histogram2d": [
           {
            "colorbar": {
             "outlinewidth": 0,
             "ticks": ""
            },
            "colorscale": [
             [
              0.0,
              "#0d0887"
             ],
             [
              0.1111111111111111,
              "#46039f"
             ],
             [
              0.2222222222222222,
              "#7201a8"
             ],
             [
              0.3333333333333333,
              "#9c179e"
             ],
             [
              0.4444444444444444,
              "#bd3786"
             ],
             [
              0.5555555555555556,
              "#d8576b"
             ],
             [
              0.6666666666666666,
              "#ed7953"
             ],
             [
              0.7777777777777778,
              "#fb9f3a"
             ],
             [
              0.8888888888888888,
              "#fdca26"
             ],
             [
              1.0,
              "#f0f921"
             ]
            ],
            "type": "histogram2d"
           }
          ],
          "histogram2dcontour": [
           {
            "colorbar": {
             "outlinewidth": 0,
             "ticks": ""
            },
            "colorscale": [
             [
              0.0,
              "#0d0887"
             ],
             [
              0.1111111111111111,
              "#46039f"
             ],
             [
              0.2222222222222222,
              "#7201a8"
             ],
             [
              0.3333333333333333,
              "#9c179e"
             ],
             [
              0.4444444444444444,
              "#bd3786"
             ],
             [
              0.5555555555555556,
              "#d8576b"
             ],
             [
              0.6666666666666666,
              "#ed7953"
             ],
             [
              0.7777777777777778,
              "#fb9f3a"
             ],
             [
              0.8888888888888888,
              "#fdca26"
             ],
             [
              1.0,
              "#f0f921"
             ]
            ],
            "type": "histogram2dcontour"
           }
          ],
          "mesh3d": [
           {
            "colorbar": {
             "outlinewidth": 0,
             "ticks": ""
            },
            "type": "mesh3d"
           }
          ],
          "parcoords": [
           {
            "line": {
             "colorbar": {
              "outlinewidth": 0,
              "ticks": ""
             }
            },
            "type": "parcoords"
           }
          ],
          "pie": [
           {
            "automargin": true,
            "type": "pie"
           }
          ],
          "scatter": [
           {
            "marker": {
             "colorbar": {
              "outlinewidth": 0,
              "ticks": ""
             }
            },
            "type": "scatter"
           }
          ],
          "scatter3d": [
           {
            "line": {
             "colorbar": {
              "outlinewidth": 0,
              "ticks": ""
             }
            },
            "marker": {
             "colorbar": {
              "outlinewidth": 0,
              "ticks": ""
             }
            },
            "type": "scatter3d"
           }
          ],
          "scattercarpet": [
           {
            "marker": {
             "colorbar": {
              "outlinewidth": 0,
              "ticks": ""
             }
            },
            "type": "scattercarpet"
           }
          ],
          "scattergeo": [
           {
            "marker": {
             "colorbar": {
              "outlinewidth": 0,
              "ticks": ""
             }
            },
            "type": "scattergeo"
           }
          ],
          "scattergl": [
           {
            "marker": {
             "colorbar": {
              "outlinewidth": 0,
              "ticks": ""
             }
            },
            "type": "scattergl"
           }
          ],
          "scattermapbox": [
           {
            "marker": {
             "colorbar": {
              "outlinewidth": 0,
              "ticks": ""
             }
            },
            "type": "scattermapbox"
           }
          ],
          "scatterpolar": [
           {
            "marker": {
             "colorbar": {
              "outlinewidth": 0,
              "ticks": ""
             }
            },
            "type": "scatterpolar"
           }
          ],
          "scatterpolargl": [
           {
            "marker": {
             "colorbar": {
              "outlinewidth": 0,
              "ticks": ""
             }
            },
            "type": "scatterpolargl"
           }
          ],
          "scatterternary": [
           {
            "marker": {
             "colorbar": {
              "outlinewidth": 0,
              "ticks": ""
             }
            },
            "type": "scatterternary"
           }
          ],
          "surface": [
           {
            "colorbar": {
             "outlinewidth": 0,
             "ticks": ""
            },
            "colorscale": [
             [
              0.0,
              "#0d0887"
             ],
             [
              0.1111111111111111,
              "#46039f"
             ],
             [
              0.2222222222222222,
              "#7201a8"
             ],
             [
              0.3333333333333333,
              "#9c179e"
             ],
             [
              0.4444444444444444,
              "#bd3786"
             ],
             [
              0.5555555555555556,
              "#d8576b"
             ],
             [
              0.6666666666666666,
              "#ed7953"
             ],
             [
              0.7777777777777778,
              "#fb9f3a"
             ],
             [
              0.8888888888888888,
              "#fdca26"
             ],
             [
              1.0,
              "#f0f921"
             ]
            ],
            "type": "surface"
           }
          ],
          "table": [
           {
            "cells": {
             "fill": {
              "color": "#EBF0F8"
             },
             "line": {
              "color": "white"
             }
            },
            "header": {
             "fill": {
              "color": "#C8D4E3"
             },
             "line": {
              "color": "white"
             }
            },
            "type": "table"
           }
          ]
         },
         "layout": {
          "annotationdefaults": {
           "arrowcolor": "#2a3f5f",
           "arrowhead": 0,
           "arrowwidth": 1
          },
          "autotypenumbers": "strict",
          "coloraxis": {
           "colorbar": {
            "outlinewidth": 0,
            "ticks": ""
           }
          },
          "colorscale": {
           "diverging": [
            [
             0,
             "#8e0152"
            ],
            [
             0.1,
             "#c51b7d"
            ],
            [
             0.2,
             "#de77ae"
            ],
            [
             0.3,
             "#f1b6da"
            ],
            [
             0.4,
             "#fde0ef"
            ],
            [
             0.5,
             "#f7f7f7"
            ],
            [
             0.6,
             "#e6f5d0"
            ],
            [
             0.7,
             "#b8e186"
            ],
            [
             0.8,
             "#7fbc41"
            ],
            [
             0.9,
             "#4d9221"
            ],
            [
             1,
             "#276419"
            ]
           ],
           "sequential": [
            [
             0.0,
             "#0d0887"
            ],
            [
             0.1111111111111111,
             "#46039f"
            ],
            [
             0.2222222222222222,
             "#7201a8"
            ],
            [
             0.3333333333333333,
             "#9c179e"
            ],
            [
             0.4444444444444444,
             "#bd3786"
            ],
            [
             0.5555555555555556,
             "#d8576b"
            ],
            [
             0.6666666666666666,
             "#ed7953"
            ],
            [
             0.7777777777777778,
             "#fb9f3a"
            ],
            [
             0.8888888888888888,
             "#fdca26"
            ],
            [
             1.0,
             "#f0f921"
            ]
           ],
           "sequentialminus": [
            [
             0.0,
             "#0d0887"
            ],
            [
             0.1111111111111111,
             "#46039f"
            ],
            [
             0.2222222222222222,
             "#7201a8"
            ],
            [
             0.3333333333333333,
             "#9c179e"
            ],
            [
             0.4444444444444444,
             "#bd3786"
            ],
            [
             0.5555555555555556,
             "#d8576b"
            ],
            [
             0.6666666666666666,
             "#ed7953"
            ],
            [
             0.7777777777777778,
             "#fb9f3a"
            ],
            [
             0.8888888888888888,
             "#fdca26"
            ],
            [
             1.0,
             "#f0f921"
            ]
           ]
          },
          "colorway": [
           "#636efa",
           "#EF553B",
           "#00cc96",
           "#ab63fa",
           "#FFA15A",
           "#19d3f3",
           "#FF6692",
           "#B6E880",
           "#FF97FF",
           "#FECB52"
          ],
          "font": {
           "color": "#2a3f5f"
          },
          "geo": {
           "bgcolor": "white",
           "lakecolor": "white",
           "landcolor": "#E5ECF6",
           "showlakes": true,
           "showland": true,
           "subunitcolor": "white"
          },
          "hoverlabel": {
           "align": "left"
          },
          "hovermode": "closest",
          "mapbox": {
           "style": "light"
          },
          "paper_bgcolor": "white",
          "plot_bgcolor": "#E5ECF6",
          "polar": {
           "angularaxis": {
            "gridcolor": "white",
            "linecolor": "white",
            "ticks": ""
           },
           "bgcolor": "#E5ECF6",
           "radialaxis": {
            "gridcolor": "white",
            "linecolor": "white",
            "ticks": ""
           }
          },
          "scene": {
           "xaxis": {
            "backgroundcolor": "#E5ECF6",
            "gridcolor": "white",
            "gridwidth": 2,
            "linecolor": "white",
            "showbackground": true,
            "ticks": "",
            "zerolinecolor": "white"
           },
           "yaxis": {
            "backgroundcolor": "#E5ECF6",
            "gridcolor": "white",
            "gridwidth": 2,
            "linecolor": "white",
            "showbackground": true,
            "ticks": "",
            "zerolinecolor": "white"
           },
           "zaxis": {
            "backgroundcolor": "#E5ECF6",
            "gridcolor": "white",
            "gridwidth": 2,
            "linecolor": "white",
            "showbackground": true,
            "ticks": "",
            "zerolinecolor": "white"
           }
          },
          "shapedefaults": {
           "line": {
            "color": "#2a3f5f"
           }
          },
          "ternary": {
           "aaxis": {
            "gridcolor": "white",
            "linecolor": "white",
            "ticks": ""
           },
           "baxis": {
            "gridcolor": "white",
            "linecolor": "white",
            "ticks": ""
           },
           "bgcolor": "#E5ECF6",
           "caxis": {
            "gridcolor": "white",
            "linecolor": "white",
            "ticks": ""
           }
          },
          "title": {
           "x": 0.05
          },
          "xaxis": {
           "automargin": true,
           "gridcolor": "white",
           "linecolor": "white",
           "ticks": "",
           "title": {
            "standoff": 15
           },
           "zerolinecolor": "white",
           "zerolinewidth": 2
          },
          "yaxis": {
           "automargin": true,
           "gridcolor": "white",
           "linecolor": "white",
           "ticks": "",
           "title": {
            "standoff": 15
           },
           "zerolinecolor": "white",
           "zerolinewidth": 2
          }
         }
        },
        "xaxis": {
         "anchor": "y",
         "domain": [
          0.0,
          1.0
         ],
         "title": {
          "text": "weighted rating"
         }
        },
        "yaxis": {
         "anchor": "x",
         "autorange": "reversed",
         "domain": [
          0.0,
          1.0
         ],
         "title": {
          "text": "title"
         }
        }
       }
      },
      "text/html": [
       "<div>                            <div id=\"b450eac7-577d-4bfb-b723-c6606e99e27c\" class=\"plotly-graph-div\" style=\"height:525px; width:100%;\"></div>            <script type=\"text/javascript\">                require([\"plotly\"], function(Plotly) {                    window.PLOTLYENV=window.PLOTLYENV || {};                                    if (document.getElementById(\"b450eac7-577d-4bfb-b723-c6606e99e27c\")) {                    Plotly.newPlot(                        \"b450eac7-577d-4bfb-b723-c6606e99e27c\",                        [{\"alignmentgroup\": \"True\", \"customdata\": [[8358.0, 8.5], [12269.0, 8.3], [6024.0, 8.5], [9678.0, 8.3], [8670.0, 8.3], [14075.0, 8.1], [8147.0, 8.2], [11187.0, 8.1], [5998.0, 8.2], [4436.0, 8.3]], \"hovertemplate\": \"weighted rating=%{x}<br>title=%{y}<br>vote_count=%{customdata[0]}<br>vote_average=%{customdata[1]}<extra></extra>\", \"legendgroup\": \"\", \"marker\": {\"color\": \"#636efa\"}, \"name\": \"\", \"offsetgroup\": \"\", \"orientation\": \"h\", \"showlegend\": false, \"textposition\": \"auto\", \"type\": \"bar\", \"x\": [8.1883982795806, 8.102939132407958, 8.099790291654587, 8.059894750691578, 8.0375960492848, 7.951691497393314, 7.94545067590456, 7.919657938080713, 7.878591896625488, 7.869763943981614], \"xaxis\": \"x\", \"y\": [\"The Shawshank Redemption\", \"The Dark Knight\", \"The Godfather\", \"Fight Club\", \"Pulp Fiction\", \"Inception\", \"Forrest Gump\", \"Interstellar\", \"The Empire Strikes Back\", \"Schindler's List\"], \"yaxis\": \"y\"}],                        {\"barmode\": \"relative\", \"legend\": {\"tracegroupgap\": 0}, \"margin\": {\"t\": 60}, \"template\": {\"data\": {\"bar\": [{\"error_x\": {\"color\": \"#2a3f5f\"}, \"error_y\": {\"color\": \"#2a3f5f\"}, \"marker\": {\"line\": {\"color\": \"#E5ECF6\", \"width\": 0.5}}, \"type\": \"bar\"}], \"barpolar\": [{\"marker\": {\"line\": {\"color\": \"#E5ECF6\", \"width\": 0.5}}, \"type\": \"barpolar\"}], \"carpet\": [{\"aaxis\": {\"endlinecolor\": \"#2a3f5f\", \"gridcolor\": \"white\", \"linecolor\": \"white\", \"minorgridcolor\": \"white\", \"startlinecolor\": \"#2a3f5f\"}, \"baxis\": {\"endlinecolor\": \"#2a3f5f\", \"gridcolor\": \"white\", \"linecolor\": \"white\", \"minorgridcolor\": \"white\", \"startlinecolor\": \"#2a3f5f\"}, \"type\": \"carpet\"}], \"choropleth\": [{\"colorbar\": {\"outlinewidth\": 0, \"ticks\": \"\"}, \"type\": \"choropleth\"}], \"contour\": [{\"colorbar\": {\"outlinewidth\": 0, \"ticks\": \"\"}, \"colorscale\": [[0.0, \"#0d0887\"], [0.1111111111111111, \"#46039f\"], [0.2222222222222222, \"#7201a8\"], [0.3333333333333333, \"#9c179e\"], [0.4444444444444444, \"#bd3786\"], [0.5555555555555556, \"#d8576b\"], [0.6666666666666666, \"#ed7953\"], [0.7777777777777778, \"#fb9f3a\"], [0.8888888888888888, \"#fdca26\"], [1.0, \"#f0f921\"]], \"type\": \"contour\"}], \"contourcarpet\": [{\"colorbar\": {\"outlinewidth\": 0, \"ticks\": \"\"}, \"type\": \"contourcarpet\"}], \"heatmap\": [{\"colorbar\": {\"outlinewidth\": 0, \"ticks\": \"\"}, \"colorscale\": [[0.0, \"#0d0887\"], [0.1111111111111111, \"#46039f\"], [0.2222222222222222, \"#7201a8\"], [0.3333333333333333, \"#9c179e\"], [0.4444444444444444, \"#bd3786\"], [0.5555555555555556, \"#d8576b\"], [0.6666666666666666, \"#ed7953\"], [0.7777777777777778, \"#fb9f3a\"], [0.8888888888888888, \"#fdca26\"], [1.0, \"#f0f921\"]], \"type\": \"heatmap\"}], \"heatmapgl\": [{\"colorbar\": {\"outlinewidth\": 0, \"ticks\": \"\"}, \"colorscale\": [[0.0, \"#0d0887\"], [0.1111111111111111, \"#46039f\"], [0.2222222222222222, \"#7201a8\"], [0.3333333333333333, \"#9c179e\"], [0.4444444444444444, \"#bd3786\"], [0.5555555555555556, \"#d8576b\"], [0.6666666666666666, \"#ed7953\"], [0.7777777777777778, \"#fb9f3a\"], [0.8888888888888888, \"#fdca26\"], [1.0, \"#f0f921\"]], \"type\": \"heatmapgl\"}], \"histogram\": [{\"marker\": {\"colorbar\": {\"outlinewidth\": 0, \"ticks\": \"\"}}, \"type\": \"histogram\"}], \"histogram2d\": [{\"colorbar\": {\"outlinewidth\": 0, \"ticks\": \"\"}, \"colorscale\": [[0.0, \"#0d0887\"], [0.1111111111111111, \"#46039f\"], [0.2222222222222222, \"#7201a8\"], [0.3333333333333333, \"#9c179e\"], [0.4444444444444444, \"#bd3786\"], [0.5555555555555556, \"#d8576b\"], [0.6666666666666666, \"#ed7953\"], [0.7777777777777778, \"#fb9f3a\"], [0.8888888888888888, \"#fdca26\"], [1.0, \"#f0f921\"]], \"type\": \"histogram2d\"}], \"histogram2dcontour\": [{\"colorbar\": {\"outlinewidth\": 0, \"ticks\": \"\"}, \"colorscale\": [[0.0, \"#0d0887\"], [0.1111111111111111, \"#46039f\"], [0.2222222222222222, \"#7201a8\"], [0.3333333333333333, \"#9c179e\"], [0.4444444444444444, \"#bd3786\"], [0.5555555555555556, \"#d8576b\"], [0.6666666666666666, \"#ed7953\"], [0.7777777777777778, \"#fb9f3a\"], [0.8888888888888888, \"#fdca26\"], [1.0, \"#f0f921\"]], \"type\": \"histogram2dcontour\"}], \"mesh3d\": [{\"colorbar\": {\"outlinewidth\": 0, \"ticks\": \"\"}, \"type\": \"mesh3d\"}], \"parcoords\": [{\"line\": {\"colorbar\": {\"outlinewidth\": 0, \"ticks\": \"\"}}, \"type\": \"parcoords\"}], \"pie\": [{\"automargin\": true, \"type\": \"pie\"}], \"scatter\": [{\"marker\": {\"colorbar\": {\"outlinewidth\": 0, \"ticks\": \"\"}}, \"type\": \"scatter\"}], \"scatter3d\": [{\"line\": {\"colorbar\": {\"outlinewidth\": 0, \"ticks\": \"\"}}, \"marker\": {\"colorbar\": {\"outlinewidth\": 0, \"ticks\": \"\"}}, \"type\": \"scatter3d\"}], \"scattercarpet\": [{\"marker\": {\"colorbar\": {\"outlinewidth\": 0, \"ticks\": \"\"}}, \"type\": \"scattercarpet\"}], \"scattergeo\": [{\"marker\": {\"colorbar\": {\"outlinewidth\": 0, \"ticks\": \"\"}}, \"type\": \"scattergeo\"}], \"scattergl\": [{\"marker\": {\"colorbar\": {\"outlinewidth\": 0, \"ticks\": \"\"}}, \"type\": \"scattergl\"}], \"scattermapbox\": [{\"marker\": {\"colorbar\": {\"outlinewidth\": 0, \"ticks\": \"\"}}, \"type\": \"scattermapbox\"}], \"scatterpolar\": [{\"marker\": {\"colorbar\": {\"outlinewidth\": 0, \"ticks\": \"\"}}, \"type\": \"scatterpolar\"}], \"scatterpolargl\": [{\"marker\": {\"colorbar\": {\"outlinewidth\": 0, \"ticks\": \"\"}}, \"type\": \"scatterpolargl\"}], \"scatterternary\": [{\"marker\": {\"colorbar\": {\"outlinewidth\": 0, \"ticks\": \"\"}}, \"type\": \"scatterternary\"}], \"surface\": [{\"colorbar\": {\"outlinewidth\": 0, \"ticks\": \"\"}, \"colorscale\": [[0.0, \"#0d0887\"], [0.1111111111111111, \"#46039f\"], [0.2222222222222222, \"#7201a8\"], [0.3333333333333333, \"#9c179e\"], [0.4444444444444444, \"#bd3786\"], [0.5555555555555556, \"#d8576b\"], [0.6666666666666666, \"#ed7953\"], [0.7777777777777778, \"#fb9f3a\"], [0.8888888888888888, \"#fdca26\"], [1.0, \"#f0f921\"]], \"type\": \"surface\"}], \"table\": [{\"cells\": {\"fill\": {\"color\": \"#EBF0F8\"}, \"line\": {\"color\": \"white\"}}, \"header\": {\"fill\": {\"color\": \"#C8D4E3\"}, \"line\": {\"color\": \"white\"}}, \"type\": \"table\"}]}, \"layout\": {\"annotationdefaults\": {\"arrowcolor\": \"#2a3f5f\", \"arrowhead\": 0, \"arrowwidth\": 1}, \"autotypenumbers\": \"strict\", \"coloraxis\": {\"colorbar\": {\"outlinewidth\": 0, \"ticks\": \"\"}}, \"colorscale\": {\"diverging\": [[0, \"#8e0152\"], [0.1, \"#c51b7d\"], [0.2, \"#de77ae\"], [0.3, \"#f1b6da\"], [0.4, \"#fde0ef\"], [0.5, \"#f7f7f7\"], [0.6, \"#e6f5d0\"], [0.7, \"#b8e186\"], [0.8, \"#7fbc41\"], [0.9, \"#4d9221\"], [1, \"#276419\"]], \"sequential\": [[0.0, \"#0d0887\"], [0.1111111111111111, \"#46039f\"], [0.2222222222222222, \"#7201a8\"], [0.3333333333333333, \"#9c179e\"], [0.4444444444444444, \"#bd3786\"], [0.5555555555555556, \"#d8576b\"], [0.6666666666666666, \"#ed7953\"], [0.7777777777777778, \"#fb9f3a\"], [0.8888888888888888, \"#fdca26\"], [1.0, \"#f0f921\"]], \"sequentialminus\": [[0.0, \"#0d0887\"], [0.1111111111111111, \"#46039f\"], [0.2222222222222222, \"#7201a8\"], [0.3333333333333333, \"#9c179e\"], [0.4444444444444444, \"#bd3786\"], [0.5555555555555556, \"#d8576b\"], [0.6666666666666666, \"#ed7953\"], [0.7777777777777778, \"#fb9f3a\"], [0.8888888888888888, \"#fdca26\"], [1.0, \"#f0f921\"]]}, \"colorway\": [\"#636efa\", \"#EF553B\", \"#00cc96\", \"#ab63fa\", \"#FFA15A\", \"#19d3f3\", \"#FF6692\", \"#B6E880\", \"#FF97FF\", \"#FECB52\"], \"font\": {\"color\": \"#2a3f5f\"}, \"geo\": {\"bgcolor\": \"white\", \"lakecolor\": \"white\", \"landcolor\": \"#E5ECF6\", \"showlakes\": true, \"showland\": true, \"subunitcolor\": \"white\"}, \"hoverlabel\": {\"align\": \"left\"}, \"hovermode\": \"closest\", \"mapbox\": {\"style\": \"light\"}, \"paper_bgcolor\": \"white\", \"plot_bgcolor\": \"#E5ECF6\", \"polar\": {\"angularaxis\": {\"gridcolor\": \"white\", \"linecolor\": \"white\", \"ticks\": \"\"}, \"bgcolor\": \"#E5ECF6\", \"radialaxis\": {\"gridcolor\": \"white\", \"linecolor\": \"white\", \"ticks\": \"\"}}, \"scene\": {\"xaxis\": {\"backgroundcolor\": \"#E5ECF6\", \"gridcolor\": \"white\", \"gridwidth\": 2, \"linecolor\": \"white\", \"showbackground\": true, \"ticks\": \"\", \"zerolinecolor\": \"white\"}, \"yaxis\": {\"backgroundcolor\": \"#E5ECF6\", \"gridcolor\": \"white\", \"gridwidth\": 2, \"linecolor\": \"white\", \"showbackground\": true, \"ticks\": \"\", \"zerolinecolor\": \"white\"}, \"zaxis\": {\"backgroundcolor\": \"#E5ECF6\", \"gridcolor\": \"white\", \"gridwidth\": 2, \"linecolor\": \"white\", \"showbackground\": true, \"ticks\": \"\", \"zerolinecolor\": \"white\"}}, \"shapedefaults\": {\"line\": {\"color\": \"#2a3f5f\"}}, \"ternary\": {\"aaxis\": {\"gridcolor\": \"white\", \"linecolor\": \"white\", \"ticks\": \"\"}, \"baxis\": {\"gridcolor\": \"white\", \"linecolor\": \"white\", \"ticks\": \"\"}, \"bgcolor\": \"#E5ECF6\", \"caxis\": {\"gridcolor\": \"white\", \"linecolor\": \"white\", \"ticks\": \"\"}}, \"title\": {\"x\": 0.05}, \"xaxis\": {\"automargin\": true, \"gridcolor\": \"white\", \"linecolor\": \"white\", \"ticks\": \"\", \"title\": {\"standoff\": 15}, \"zerolinecolor\": \"white\", \"zerolinewidth\": 2}, \"yaxis\": {\"automargin\": true, \"gridcolor\": \"white\", \"linecolor\": \"white\", \"ticks\": \"\", \"title\": {\"standoff\": 15}, \"zerolinecolor\": \"white\", \"zerolinewidth\": 2}}}, \"xaxis\": {\"anchor\": \"y\", \"domain\": [0.0, 1.0], \"title\": {\"text\": \"weighted rating\"}}, \"yaxis\": {\"anchor\": \"x\", \"autorange\": \"reversed\", \"domain\": [0.0, 1.0], \"title\": {\"text\": \"title\"}}},                        {\"responsive\": true}                    ).then(function(){\n",
       "                            \n",
       "var gd = document.getElementById('b450eac7-577d-4bfb-b723-c6606e99e27c');\n",
       "var x = new MutationObserver(function (mutations, observer) {{\n",
       "        var display = window.getComputedStyle(gd).display;\n",
       "        if (!display || display === 'none') {{\n",
       "            console.log([gd, 'removed!']);\n",
       "            Plotly.purge(gd);\n",
       "            observer.disconnect();\n",
       "        }}\n",
       "}});\n",
       "\n",
       "// Listen for the removal of the full notebook cells\n",
       "var notebookContainer = gd.closest('#notebook-container');\n",
       "if (notebookContainer) {{\n",
       "    x.observe(notebookContainer, {childList: true});\n",
       "}}\n",
       "\n",
       "// Listen for the clearing of the current output cell\n",
       "var outputEl = gd.closest('.output');\n",
       "if (outputEl) {{\n",
       "    x.observe(outputEl, {childList: true});\n",
       "}}\n",
       "\n",
       "                        })                };                });            </script>        </div>"
      ]
     },
     "metadata": {},
     "output_type": "display_data"
    }
   ],
   "source": [
    "data = data.sort_values('weighted rating', ascending=False)\n",
    "fig = px.bar(data.head(10), x='weighted rating', y='title', orientation='h', hover_data=['vote_count', 'vote_average'])\n",
    "fig.update_yaxes(autorange='reversed')\n",
    "fig.show()"
   ]
  },
  {
   "cell_type": "markdown",
   "id": "native-profit",
   "metadata": {
    "execution": {
     "iopub.execute_input": "2021-06-16T06:33:39.232767Z",
     "iopub.status.busy": "2021-06-16T06:33:39.232393Z",
     "iopub.status.idle": "2021-06-16T06:33:39.23727Z",
     "shell.execute_reply": "2021-06-16T06:33:39.236119Z",
     "shell.execute_reply.started": "2021-06-16T06:33:39.232736Z"
    },
    "papermill": {
     "duration": 0.06113,
     "end_time": "2021-06-22T11:05:01.958204",
     "exception": false,
     "start_time": "2021-06-22T11:05:01.897074",
     "status": "completed"
    },
    "tags": []
   },
   "source": [
    "# Recommender 2 : Content Based Filtering\n",
    "Recommending based on the content of the movie (overview, cast, crew, keyword, tagline, genre etc)"
   ]
  },
  {
   "cell_type": "code",
   "execution_count": 12,
   "id": "female-lesson",
   "metadata": {
    "execution": {
     "iopub.execute_input": "2021-06-22T11:05:02.097588Z",
     "iopub.status.busy": "2021-06-22T11:05:02.096865Z",
     "iopub.status.idle": "2021-06-22T11:05:02.871763Z",
     "shell.execute_reply": "2021-06-22T11:05:02.871202Z",
     "shell.execute_reply.started": "2021-06-22T09:23:33.738329Z"
    },
    "papermill": {
     "duration": 0.845565,
     "end_time": "2021-06-22T11:05:02.871914",
     "exception": false,
     "start_time": "2021-06-22T11:05:02.026349",
     "status": "completed"
    },
    "tags": []
   },
   "outputs": [],
   "source": [
    "from sklearn.feature_extraction.text import TfidfVectorizer\n",
    "from sklearn.metrics.pairwise import linear_kernel\n",
    "import nltk\n",
    "from nltk.tag import pos_tag\n",
    "from nltk.corpus import stopwords\n",
    "from nltk.stem import PorterStemmer, LancasterStemmer, SnowballStemmer, WordNetLemmatizer\n",
    "from nltk.corpus import wordnet as wn\n",
    "import re\n",
    "from functools import lru_cache\n",
    "import string\n",
    "from tqdm import tqdm\n",
    "tqdm.pandas()"
   ]
  },
  {
   "cell_type": "code",
   "execution_count": 13,
   "id": "novel-egypt",
   "metadata": {
    "execution": {
     "iopub.execute_input": "2021-06-22T11:05:03.006084Z",
     "iopub.status.busy": "2021-06-22T11:05:03.005407Z",
     "iopub.status.idle": "2021-06-22T11:05:05.138351Z",
     "shell.execute_reply": "2021-06-22T11:05:05.137615Z",
     "shell.execute_reply.started": "2021-06-22T09:23:34.656898Z"
    },
    "papermill": {
     "duration": 2.209578,
     "end_time": "2021-06-22T11:05:05.138505",
     "exception": false,
     "start_time": "2021-06-22T11:05:02.928927",
     "status": "completed"
    },
    "tags": []
   },
   "outputs": [],
   "source": [
    "wnl     = WordNetLemmatizer()\n",
    "porter  = PorterStemmer()\n",
    "\n",
    "def tree_2_word(treebank_tag):\n",
    "    if treebank_tag.startswith('J'):\n",
    "        return wn.ADJ\n",
    "    elif treebank_tag.startswith('V'):\n",
    "        return wn.VERB\n",
    "    elif treebank_tag.startswith('R'):\n",
    "        return wn.ADV\n",
    "    else:\n",
    "        return wn.NOUN\n",
    "\n",
    "# memonization - to increase speed n efficiency\n",
    "lemmatize_mem = lru_cache(maxsize=16384)(wnl.lemmatize)\n",
    "\n",
    "def lemmatize(word, pos=wn.NOUN):\n",
    "    return(lemmatize_mem(word, pos))\n",
    "\n",
    "def text_process(t, pos=True, lemmetize=True, stem=True):\n",
    "    # Defining stop words\n",
    "    stops = set(stopwords.words(\"english\"))\n",
    "    # Remove linebreak, tab, return  \n",
    "    t = re.sub('[\\n\\t\\r]+', ' ', t)      \n",
    "    # Remove Punctuations  \n",
    "    t = re.sub('['+string.punctuation+']+', '', t)\n",
    "    t = re.sub('\\s+\\s+', ' ', t)                             # Remove double whitespace\n",
    "    t= re.sub(r'\\\\', ' ', t)                                # Remove \\ slash\n",
    "    t= re.sub(r'\\/', ' ', t)                                # Remove / slash\n",
    "    \n",
    "    # Convert to lower case\n",
    "    t = t.lower()             \n",
    "    # Remove Non-letters                            \n",
    "    t = re.sub('[^a-zA-Z]',' ',t)  \n",
    "    # Sentence wise tokenize: required otherwise pos tagging will not work properly                       \n",
    "    sentence = nltk.sent_tokenize(t)                   \n",
    "    modified_sentence = \"\"\n",
    "    for s in sentence:\n",
    "        # Word Tokenization \n",
    "        words = nltk.word_tokenize(s)     \n",
    "        # checking if pos is required                \n",
    "        if pos:               \n",
    "            # Part of speech Tagging                            \n",
    "            tag_words = pos_tag(words)                        \n",
    "            lemmatized = \" \"\n",
    "            for tw in tag_words:\n",
    "                # checking stop word\n",
    "                if tw[0] not in stops:\n",
    "                    # lemmatization\n",
    "                    if lemmetize:                         \n",
    "                        lemma = lemmatize(tw[0], tree_2_word(tw[1]))  \n",
    "                        # check if lemmetizer word is present in the wordnet library if not present then stemming is required\n",
    "                        # example running not in synsets: stem to run  \n",
    "                        # stemming check if word is in library then perform otherwise skip\n",
    "                        if (stem) & (wn.synsets(lemma)==[]) & (wn.synsets(porter.stem(lemma))!=[]):\n",
    "                            # Stemming\n",
    "                            lemma = porter.stem(tw[0])    \n",
    "                    else:\n",
    "                        if stem:\n",
    "                            lemma = porter.stem(tw[0])\n",
    "                            if not wn.synsets(lemma):\n",
    "                                lemma = tw[0]\n",
    "                        else:\n",
    "                            lemma = tw[0]\n",
    "                    lemmatized = lemmatized+\" \"+lemma\n",
    "        else:\n",
    "            lemmatized = \" \"\n",
    "            for w in words:\n",
    "                if w not in stops:\n",
    "                    if lemmetize:                         # lemmatization\n",
    "                        lemma = lemmatize(w)\n",
    "                        if (stem) & (wn.synsets(lemma)==[]) & (wn.synsets(porter.stem(lemma))!=[]):\n",
    "                            # Stemming\n",
    "                            lemma = porter.stem(w)    \n",
    "                    else:\n",
    "                        if stem:\n",
    "                            lemma = porter.stem(w)\n",
    "                            if not wn.synsets(lemma):\n",
    "                                lemma = w\n",
    "                        else:\n",
    "                            lemma = w\n",
    "                    lemmatized = lemmatized+\" \"+lemma               \n",
    "        modified_sentence = modified_sentence+\" \"+lemmatized\n",
    "    return modified_sentence"
   ]
  },
  {
   "cell_type": "markdown",
   "id": "dressed-potato",
   "metadata": {
    "papermill": {
     "duration": 0.057773,
     "end_time": "2021-06-22T11:05:05.253390",
     "exception": false,
     "start_time": "2021-06-22T11:05:05.195617",
     "status": "completed"
    },
    "tags": []
   },
   "source": [
    "## 1. Based on Overview"
   ]
  },
  {
   "cell_type": "code",
   "execution_count": 14,
   "id": "bizarre-explosion",
   "metadata": {
    "execution": {
     "iopub.execute_input": "2021-06-22T11:05:05.378080Z",
     "iopub.status.busy": "2021-06-22T11:05:05.377477Z",
     "iopub.status.idle": "2021-06-22T11:06:44.114792Z",
     "shell.execute_reply": "2021-06-22T11:06:44.115508Z",
     "shell.execute_reply.started": "2021-06-22T09:23:37.038216Z"
    },
    "papermill": {
     "duration": 98.801074,
     "end_time": "2021-06-22T11:06:44.115744",
     "exception": false,
     "start_time": "2021-06-22T11:05:05.314670",
     "status": "completed"
    },
    "tags": []
   },
   "outputs": [
    {
     "name": "stderr",
     "output_type": "stream",
     "text": [
      "100%|██████████| 14383/14383 [01:38<00:00, 145.78it/s]\n"
     ]
    }
   ],
   "source": [
    "# get top 15000 movies based on popularity\n",
    "data = df5.sort_values('popularity', ascending=False).reset_index(drop=True)\n",
    "data = data.iloc[:15000].copy()\n",
    "\n",
    "# drop duplicates based on title\n",
    "data.drop_duplicates(subset=['title'], inplace=True)\n",
    "\n",
    "# replace NaN values with empty string\n",
    "data['overview'] = data['overview'].fillna('')\n",
    "\n",
    "# cleaning the text\n",
    "data['overview'] = data['overview'].progress_apply(text_process)"
   ]
  },
  {
   "cell_type": "code",
   "execution_count": 15,
   "id": "played-bundle",
   "metadata": {
    "execution": {
     "iopub.execute_input": "2021-06-22T11:06:44.801041Z",
     "iopub.status.busy": "2021-06-22T11:06:44.790652Z",
     "iopub.status.idle": "2021-06-22T11:06:46.461168Z",
     "shell.execute_reply": "2021-06-22T11:06:46.461672Z",
     "shell.execute_reply.started": "2021-06-22T09:25:30.012844Z"
    },
    "papermill": {
     "duration": 2.024334,
     "end_time": "2021-06-22T11:06:46.461837",
     "exception": false,
     "start_time": "2021-06-22T11:06:44.437503",
     "status": "completed"
    },
    "tags": []
   },
   "outputs": [
    {
     "name": "stdout",
     "output_type": "stream",
     "text": [
      "(14383, 51197)\n"
     ]
    }
   ],
   "source": [
    "# convert overview column data to matrix to be able to compute similarity after removing the stop words\n",
    "tfidf = TfidfVectorizer(ngram_range=(1,2),min_df=0.0001)\n",
    "tfidf_matrix = tfidf.fit_transform(data['overview'])\n",
    "\n",
    "print(tfidf_matrix.shape)"
   ]
  },
  {
   "cell_type": "code",
   "execution_count": 16,
   "id": "alive-retirement",
   "metadata": {
    "execution": {
     "iopub.execute_input": "2021-06-22T11:06:47.106864Z",
     "iopub.status.busy": "2021-06-22T11:06:47.105869Z",
     "iopub.status.idle": "2021-06-22T11:06:51.283313Z",
     "shell.execute_reply": "2021-06-22T11:06:51.282650Z",
     "shell.execute_reply.started": "2021-06-22T09:25:31.952647Z"
    },
    "papermill": {
     "duration": 4.504067,
     "end_time": "2021-06-22T11:06:51.283451",
     "exception": false,
     "start_time": "2021-06-22T11:06:46.779384",
     "status": "completed"
    },
    "tags": []
   },
   "outputs": [],
   "source": [
    "# compute similarity matrix\n",
    "# options available - euclidean distance, the Pearson Coeffiecient, cosine similarity score\n",
    "\n",
    "# compute cosine similarity matrix\n",
    "cosine_sim = linear_kernel(tfidf_matrix, tfidf_matrix)\n",
    "\n",
    "# create reverse title indices series\n",
    "indices = pd.Series(data.index, index=data['title'])"
   ]
  },
  {
   "cell_type": "code",
   "execution_count": 17,
   "id": "armed-dinner",
   "metadata": {
    "execution": {
     "iopub.execute_input": "2021-06-22T11:06:51.987772Z",
     "iopub.status.busy": "2021-06-22T11:06:51.986769Z",
     "iopub.status.idle": "2021-06-22T11:06:51.992248Z",
     "shell.execute_reply": "2021-06-22T11:06:51.991022Z",
     "shell.execute_reply.started": "2021-06-22T09:25:38.373856Z"
    },
    "papermill": {
     "duration": 0.338465,
     "end_time": "2021-06-22T11:06:51.992474",
     "exception": false,
     "start_time": "2021-06-22T11:06:51.654009",
     "status": "completed"
    },
    "tags": []
   },
   "outputs": [],
   "source": [
    "def get_recommendation(title):\n",
    "    # get index of given title\n",
    "    idx = indices[title]\n",
    "    \n",
    "    # get similarity scores along with indices\n",
    "    sim_scores = list(enumerate(cosine_sim[idx]))\n",
    "    \n",
    "    # sort the similarity scores\n",
    "    sim_scores = sorted(sim_scores, key=lambda x: x[1], reverse=True)\n",
    "    \n",
    "    # get top 10 similarity scores\n",
    "    sim_scores = sim_scores[1:11]\n",
    "    \n",
    "    # get movie indices\n",
    "    movie_indices = [i[0] for i in sim_scores]\n",
    "    movie_scores = [i[1] for i in sim_scores]\n",
    "    \n",
    "    # get movie titles\n",
    "    movies = data.iloc[movie_indices]['title']\n",
    "    \n",
    "    return pd.DataFrame({'Recommended Movie':movies, 'Similarity Score':movie_scores})"
   ]
  },
  {
   "cell_type": "code",
   "execution_count": 18,
   "id": "genetic-peninsula",
   "metadata": {
    "execution": {
     "iopub.execute_input": "2021-06-22T11:06:52.650533Z",
     "iopub.status.busy": "2021-06-22T11:06:52.649630Z",
     "iopub.status.idle": "2021-06-22T11:06:52.684132Z",
     "shell.execute_reply": "2021-06-22T11:06:52.684683Z",
     "shell.execute_reply.started": "2021-06-22T09:25:38.386891Z"
    },
    "papermill": {
     "duration": 0.358019,
     "end_time": "2021-06-22T11:06:52.684859",
     "exception": false,
     "start_time": "2021-06-22T11:06:52.326840",
     "status": "completed"
    },
    "tags": []
   },
   "outputs": [
    {
     "data": {
      "text/html": [
       "<div>\n",
       "<style scoped>\n",
       "    .dataframe tbody tr th:only-of-type {\n",
       "        vertical-align: middle;\n",
       "    }\n",
       "\n",
       "    .dataframe tbody tr th {\n",
       "        vertical-align: top;\n",
       "    }\n",
       "\n",
       "    .dataframe thead th {\n",
       "        text-align: right;\n",
       "    }\n",
       "</style>\n",
       "<table border=\"1\" class=\"dataframe\">\n",
       "  <thead>\n",
       "    <tr style=\"text-align: right;\">\n",
       "      <th></th>\n",
       "      <th>Recommended Movie</th>\n",
       "      <th>Similarity Score</th>\n",
       "    </tr>\n",
       "  </thead>\n",
       "  <tbody>\n",
       "    <tr>\n",
       "      <th>4939</th>\n",
       "      <td>Keanu</td>\n",
       "      <td>0.199843</td>\n",
       "    </tr>\n",
       "    <tr>\n",
       "      <th>7630</th>\n",
       "      <td>Banana</td>\n",
       "      <td>0.117551</td>\n",
       "    </tr>\n",
       "    <tr>\n",
       "      <th>10774</th>\n",
       "      <td>Stuart Little 3: Call of the Wild</td>\n",
       "      <td>0.111974</td>\n",
       "    </tr>\n",
       "    <tr>\n",
       "      <th>1253</th>\n",
       "      <td>Teenage Mutant Ninja Turtles: Out of the Shadows</td>\n",
       "      <td>0.110506</td>\n",
       "    </tr>\n",
       "    <tr>\n",
       "      <th>14200</th>\n",
       "      <td>Sherlock Holmes and the Secret Weapon</td>\n",
       "      <td>0.108087</td>\n",
       "    </tr>\n",
       "    <tr>\n",
       "      <th>4680</th>\n",
       "      <td>Hideaway</td>\n",
       "      <td>0.107185</td>\n",
       "    </tr>\n",
       "    <tr>\n",
       "      <th>12302</th>\n",
       "      <td>Binky Nelson Unpacified</td>\n",
       "      <td>0.106481</td>\n",
       "    </tr>\n",
       "    <tr>\n",
       "      <th>12906</th>\n",
       "      <td>Postman Pat: The Movie</td>\n",
       "      <td>0.103343</td>\n",
       "    </tr>\n",
       "    <tr>\n",
       "      <th>10517</th>\n",
       "      <td>He Was a Quiet Man</td>\n",
       "      <td>0.101460</td>\n",
       "    </tr>\n",
       "    <tr>\n",
       "      <th>10976</th>\n",
       "      <td>10 Items or Less</td>\n",
       "      <td>0.098410</td>\n",
       "    </tr>\n",
       "  </tbody>\n",
       "</table>\n",
       "</div>"
      ],
      "text/plain": [
       "                                      Recommended Movie  Similarity Score\n",
       "4939                                              Keanu          0.199843\n",
       "7630                                             Banana          0.117551\n",
       "10774                 Stuart Little 3: Call of the Wild          0.111974\n",
       "1253   Teenage Mutant Ninja Turtles: Out of the Shadows          0.110506\n",
       "14200             Sherlock Holmes and the Secret Weapon          0.108087\n",
       "4680                                           Hideaway          0.107185\n",
       "12302                           Binky Nelson Unpacified          0.106481\n",
       "12906                            Postman Pat: The Movie          0.103343\n",
       "10517                                He Was a Quiet Man          0.101460\n",
       "10976                                  10 Items or Less          0.098410"
      ]
     },
     "execution_count": 18,
     "metadata": {},
     "output_type": "execute_result"
    }
   ],
   "source": [
    "get_recommendation('Minions')"
   ]
  },
  {
   "cell_type": "code",
   "execution_count": 19,
   "id": "enhanced-hunter",
   "metadata": {
    "execution": {
     "iopub.execute_input": "2021-06-22T11:06:53.332051Z",
     "iopub.status.busy": "2021-06-22T11:06:53.331122Z",
     "iopub.status.idle": "2021-06-22T11:06:53.355509Z",
     "shell.execute_reply": "2021-06-22T11:06:53.355003Z",
     "shell.execute_reply.started": "2021-06-22T09:25:38.450639Z"
    },
    "papermill": {
     "duration": 0.348948,
     "end_time": "2021-06-22T11:06:53.355647",
     "exception": false,
     "start_time": "2021-06-22T11:06:53.006699",
     "status": "completed"
    },
    "tags": []
   },
   "outputs": [
    {
     "data": {
      "text/html": [
       "<div>\n",
       "<style scoped>\n",
       "    .dataframe tbody tr th:only-of-type {\n",
       "        vertical-align: middle;\n",
       "    }\n",
       "\n",
       "    .dataframe tbody tr th {\n",
       "        vertical-align: top;\n",
       "    }\n",
       "\n",
       "    .dataframe thead th {\n",
       "        text-align: right;\n",
       "    }\n",
       "</style>\n",
       "<table border=\"1\" class=\"dataframe\">\n",
       "  <thead>\n",
       "    <tr style=\"text-align: right;\">\n",
       "      <th></th>\n",
       "      <th>Recommended Movie</th>\n",
       "      <th>Similarity Score</th>\n",
       "    </tr>\n",
       "  </thead>\n",
       "  <tbody>\n",
       "    <tr>\n",
       "      <th>1517</th>\n",
       "      <td>Willy Wonka &amp; the Chocolate Factory</td>\n",
       "      <td>0.205588</td>\n",
       "    </tr>\n",
       "    <tr>\n",
       "      <th>48</th>\n",
       "      <td>Schindler's List</td>\n",
       "      <td>0.199891</td>\n",
       "    </tr>\n",
       "    <tr>\n",
       "      <th>2833</th>\n",
       "      <td>Romantics Anonymous</td>\n",
       "      <td>0.165724</td>\n",
       "    </tr>\n",
       "    <tr>\n",
       "      <th>8236</th>\n",
       "      <td>Epic Movie</td>\n",
       "      <td>0.157284</td>\n",
       "    </tr>\n",
       "    <tr>\n",
       "      <th>53</th>\n",
       "      <td>Spirited Away</td>\n",
       "      <td>0.146000</td>\n",
       "    </tr>\n",
       "    <tr>\n",
       "      <th>3939</th>\n",
       "      <td>Chocolat</td>\n",
       "      <td>0.121927</td>\n",
       "    </tr>\n",
       "    <tr>\n",
       "      <th>7883</th>\n",
       "      <td>Everyone's Hero</td>\n",
       "      <td>0.111751</td>\n",
       "    </tr>\n",
       "    <tr>\n",
       "      <th>1404</th>\n",
       "      <td>24 Hour Party People</td>\n",
       "      <td>0.111261</td>\n",
       "    </tr>\n",
       "    <tr>\n",
       "      <th>4927</th>\n",
       "      <td>The Kid with a Bike</td>\n",
       "      <td>0.109171</td>\n",
       "    </tr>\n",
       "    <tr>\n",
       "      <th>7814</th>\n",
       "      <td>True Memoirs of an International Assassin</td>\n",
       "      <td>0.105875</td>\n",
       "    </tr>\n",
       "  </tbody>\n",
       "</table>\n",
       "</div>"
      ],
      "text/plain": [
       "                              Recommended Movie  Similarity Score\n",
       "1517        Willy Wonka & the Chocolate Factory          0.205588\n",
       "48                             Schindler's List          0.199891\n",
       "2833                        Romantics Anonymous          0.165724\n",
       "8236                                 Epic Movie          0.157284\n",
       "53                                Spirited Away          0.146000\n",
       "3939                                   Chocolat          0.121927\n",
       "7883                            Everyone's Hero          0.111751\n",
       "1404                       24 Hour Party People          0.111261\n",
       "4927                        The Kid with a Bike          0.109171\n",
       "7814  True Memoirs of an International Assassin          0.105875"
      ]
     },
     "execution_count": 19,
     "metadata": {},
     "output_type": "execute_result"
    }
   ],
   "source": [
    "get_recommendation('Iron Man')"
   ]
  },
  {
   "cell_type": "markdown",
   "id": "interpreted-latitude",
   "metadata": {
    "papermill": {
     "duration": 0.320633,
     "end_time": "2021-06-22T11:06:53.996336",
     "exception": false,
     "start_time": "2021-06-22T11:06:53.675703",
     "status": "completed"
    },
    "tags": []
   },
   "source": [
    "## 2. Based on Credits, Genres and Keywords"
   ]
  },
  {
   "cell_type": "code",
   "execution_count": 20,
   "id": "representative-reservation",
   "metadata": {
    "execution": {
     "iopub.execute_input": "2021-06-22T11:06:54.652366Z",
     "iopub.status.busy": "2021-06-22T11:06:54.647579Z",
     "iopub.status.idle": "2021-06-22T11:06:54.908894Z",
     "shell.execute_reply": "2021-06-22T11:06:54.908345Z",
     "shell.execute_reply.started": "2021-06-22T09:25:38.493947Z"
    },
    "papermill": {
     "duration": 0.589192,
     "end_time": "2021-06-22T11:06:54.909029",
     "exception": false,
     "start_time": "2021-06-22T11:06:54.319837",
     "status": "completed"
    },
    "tags": []
   },
   "outputs": [
    {
     "data": {
      "text/html": [
       "<div>\n",
       "<style scoped>\n",
       "    .dataframe tbody tr th:only-of-type {\n",
       "        vertical-align: middle;\n",
       "    }\n",
       "\n",
       "    .dataframe tbody tr th {\n",
       "        vertical-align: top;\n",
       "    }\n",
       "\n",
       "    .dataframe thead th {\n",
       "        text-align: right;\n",
       "    }\n",
       "</style>\n",
       "<table border=\"1\" class=\"dataframe\">\n",
       "  <thead>\n",
       "    <tr style=\"text-align: right;\">\n",
       "      <th></th>\n",
       "      <th>title</th>\n",
       "      <th>genres</th>\n",
       "      <th>cast</th>\n",
       "      <th>crew</th>\n",
       "      <th>keywords</th>\n",
       "    </tr>\n",
       "  </thead>\n",
       "  <tbody>\n",
       "    <tr>\n",
       "      <th>0</th>\n",
       "      <td>Inception</td>\n",
       "      <td>Action Thriller Science Fiction Mystery Adventure</td>\n",
       "      <td>LeonardoDiCaprio JosephGordon-Levitt EllenPage...</td>\n",
       "      <td>HansZimmer ChristopherNolan ChristopherNolan C...</td>\n",
       "      <td>loss of lover dream kidnapping sleep subconsci...</td>\n",
       "    </tr>\n",
       "    <tr>\n",
       "      <th>1</th>\n",
       "      <td>The Dark Knight</td>\n",
       "      <td>Drama Action Crime Thriller</td>\n",
       "      <td>ChristianBale MichaelCaine HeathLedger AaronEc...</td>\n",
       "      <td>LucindaSyson HansZimmer CharlesRoven Christoph...</td>\n",
       "      <td>dc comics crime fighter secret identity scarec...</td>\n",
       "    </tr>\n",
       "    <tr>\n",
       "      <th>2</th>\n",
       "      <td>Avatar</td>\n",
       "      <td>Action Adventure Fantasy Science Fiction</td>\n",
       "      <td>SamWorthington ZoeSaldana SigourneyWeaver Step...</td>\n",
       "      <td>StephenE.Rivkin RickCarter ChristopherBoyes Ch...</td>\n",
       "      <td>culture clash future space war space colony so...</td>\n",
       "    </tr>\n",
       "    <tr>\n",
       "      <th>3</th>\n",
       "      <td>The Avengers</td>\n",
       "      <td>Science Fiction Action Adventure</td>\n",
       "      <td>RobertDowneyJr. ChrisEvans MarkRuffalo ChrisHe...</td>\n",
       "      <td>AlanSilvestri ChristopherBoyes ChristopherBoye...</td>\n",
       "      <td>new york shield marvel comic superhero based o...</td>\n",
       "    </tr>\n",
       "    <tr>\n",
       "      <th>4</th>\n",
       "      <td>Deadpool</td>\n",
       "      <td>Action Adventure Comedy</td>\n",
       "      <td>RyanReynolds MorenaBaccarin EdSkrein T.J.Mille...</td>\n",
       "      <td>RobertAlonzo TimMiller RhettReese PaulWernick ...</td>\n",
       "      <td>anti hero mercenary marvel comic superhero bas...</td>\n",
       "    </tr>\n",
       "  </tbody>\n",
       "</table>\n",
       "</div>"
      ],
      "text/plain": [
       "             title                                             genres  \\\n",
       "0        Inception  Action Thriller Science Fiction Mystery Adventure   \n",
       "1  The Dark Knight                        Drama Action Crime Thriller   \n",
       "2           Avatar           Action Adventure Fantasy Science Fiction   \n",
       "3     The Avengers                   Science Fiction Action Adventure   \n",
       "4         Deadpool                            Action Adventure Comedy   \n",
       "\n",
       "                                                cast  \\\n",
       "0  LeonardoDiCaprio JosephGordon-Levitt EllenPage...   \n",
       "1  ChristianBale MichaelCaine HeathLedger AaronEc...   \n",
       "2  SamWorthington ZoeSaldana SigourneyWeaver Step...   \n",
       "3  RobertDowneyJr. ChrisEvans MarkRuffalo ChrisHe...   \n",
       "4  RyanReynolds MorenaBaccarin EdSkrein T.J.Mille...   \n",
       "\n",
       "                                                crew  \\\n",
       "0  HansZimmer ChristopherNolan ChristopherNolan C...   \n",
       "1  LucindaSyson HansZimmer CharlesRoven Christoph...   \n",
       "2  StephenE.Rivkin RickCarter ChristopherBoyes Ch...   \n",
       "3  AlanSilvestri ChristopherBoyes ChristopherBoye...   \n",
       "4  RobertAlonzo TimMiller RhettReese PaulWernick ...   \n",
       "\n",
       "                                            keywords  \n",
       "0  loss of lover dream kidnapping sleep subconsci...  \n",
       "1  dc comics crime fighter secret identity scarec...  \n",
       "2  culture clash future space war space colony so...  \n",
       "3  new york shield marvel comic superhero based o...  \n",
       "4  anti hero mercenary marvel comic superhero bas...  "
      ]
     },
     "execution_count": 20,
     "metadata": {},
     "output_type": "execute_result"
    }
   ],
   "source": [
    "# merge df3, df4 and df5\n",
    "data = pd.merge(df3, df4, on='id')\n",
    "data = pd.merge(data, df5, on='id')\n",
    "data = data.sort_values('vote_count', ascending=False).drop_duplicates(subset='id').reset_index()\n",
    "data[['title', 'genres', 'cast', 'crew', 'keywords']].head()"
   ]
  },
  {
   "cell_type": "code",
   "execution_count": 21,
   "id": "judicial-belle",
   "metadata": {
    "execution": {
     "iopub.execute_input": "2021-06-22T11:06:55.612077Z",
     "iopub.status.busy": "2021-06-22T11:06:55.578236Z",
     "iopub.status.idle": "2021-06-22T11:06:55.655985Z",
     "shell.execute_reply": "2021-06-22T11:06:55.656529Z",
     "shell.execute_reply.started": "2021-06-22T09:25:38.952541Z"
    },
    "papermill": {
     "duration": 0.422635,
     "end_time": "2021-06-22T11:06:55.656722",
     "exception": false,
     "start_time": "2021-06-22T11:06:55.234087",
     "status": "completed"
    },
    "tags": []
   },
   "outputs": [],
   "source": [
    "data['text'] = data['genres']+\" \"+data['cast']+\" \"+data['crew']+\" \"+data['keywords']"
   ]
  },
  {
   "cell_type": "code",
   "execution_count": 22,
   "id": "viral-memorabilia",
   "metadata": {
    "execution": {
     "iopub.execute_input": "2021-06-22T11:06:56.306118Z",
     "iopub.status.busy": "2021-06-22T11:06:56.305459Z",
     "iopub.status.idle": "2021-06-22T11:09:37.671976Z",
     "shell.execute_reply": "2021-06-22T11:09:37.670184Z",
     "shell.execute_reply.started": "2021-06-22T09:25:39.115936Z"
    },
    "papermill": {
     "duration": 161.693564,
     "end_time": "2021-06-22T11:09:37.672123",
     "exception": false,
     "start_time": "2021-06-22T11:06:55.978559",
     "status": "completed"
    },
    "tags": []
   },
   "outputs": [
    {
     "name": "stderr",
     "output_type": "stream",
     "text": [
      "100%|██████████| 19071/19071 [02:41<00:00, 118.24it/s]\n"
     ]
    }
   ],
   "source": [
    "data = data.iloc[:20000].copy()\n",
    "\n",
    "# drop duplicates based on title\n",
    "data.drop_duplicates(subset=['title'], inplace=True)\n",
    "\n",
    "# replace NaN values with empty string\n",
    "data['text'] = data['text'].fillna('')\n",
    "\n",
    "# cleaning the text\n",
    "data['text'] = data['text'].progress_apply(text_process)"
   ]
  },
  {
   "cell_type": "code",
   "execution_count": 23,
   "id": "tender-cincinnati",
   "metadata": {
    "execution": {
     "iopub.execute_input": "2021-06-22T11:09:39.307546Z",
     "iopub.status.busy": "2021-06-22T11:09:39.271067Z",
     "iopub.status.idle": "2021-06-22T11:09:43.174906Z",
     "shell.execute_reply": "2021-06-22T11:09:43.174111Z",
     "shell.execute_reply.started": "2021-06-22T09:28:33.630920Z"
    },
    "papermill": {
     "duration": 4.754394,
     "end_time": "2021-06-22T11:09:43.175122",
     "exception": false,
     "start_time": "2021-06-22T11:09:38.420728",
     "status": "completed"
    },
    "tags": []
   },
   "outputs": [
    {
     "name": "stdout",
     "output_type": "stream",
     "text": [
      "(19071, 133581)\n"
     ]
    }
   ],
   "source": [
    "# convert overview column data to matrix to be able to compute similarity after removing the stop words\n",
    "tfidf = TfidfVectorizer(ngram_range=(1,2), min_df=0.0001)\n",
    "tfidf_matrix = tfidf.fit_transform(data['text'])\n",
    "\n",
    "print(tfidf_matrix.shape)"
   ]
  },
  {
   "cell_type": "code",
   "execution_count": 24,
   "id": "pointed-atmosphere",
   "metadata": {
    "execution": {
     "iopub.execute_input": "2021-06-22T11:09:44.718431Z",
     "iopub.status.busy": "2021-06-22T11:09:44.717743Z",
     "iopub.status.idle": "2021-06-22T11:09:52.597000Z",
     "shell.execute_reply": "2021-06-22T11:09:52.596199Z",
     "shell.execute_reply.started": "2021-06-22T09:28:38.766855Z"
    },
    "papermill": {
     "duration": 8.633522,
     "end_time": "2021-06-22T11:09:52.597213",
     "exception": false,
     "start_time": "2021-06-22T11:09:43.963691",
     "status": "completed"
    },
    "tags": []
   },
   "outputs": [],
   "source": [
    "# compute similarity matrix\n",
    "# options available - euclidean distance, the Pearson Coeffiecient, cosine similarity score\n",
    "\n",
    "# compute cosine similarity matrix\n",
    "cosine_sim = linear_kernel(tfidf_matrix, tfidf_matrix)\n",
    "\n",
    "# create reverse title indices series\n",
    "indices = pd.Series(data.index, index=data['title'])"
   ]
  },
  {
   "cell_type": "code",
   "execution_count": 25,
   "id": "coordinated-component",
   "metadata": {
    "execution": {
     "iopub.execute_input": "2021-06-22T11:09:54.129559Z",
     "iopub.status.busy": "2021-06-22T11:09:54.128655Z",
     "iopub.status.idle": "2021-06-22T11:09:54.133782Z",
     "shell.execute_reply": "2021-06-22T11:09:54.133289Z",
     "shell.execute_reply.started": "2021-06-22T09:28:48.074778Z"
    },
    "papermill": {
     "duration": 0.786773,
     "end_time": "2021-06-22T11:09:54.133930",
     "exception": false,
     "start_time": "2021-06-22T11:09:53.347157",
     "status": "completed"
    },
    "tags": []
   },
   "outputs": [
    {
     "data": {
      "text/html": [
       "<div>\n",
       "<style scoped>\n",
       "    .dataframe tbody tr th:only-of-type {\n",
       "        vertical-align: middle;\n",
       "    }\n",
       "\n",
       "    .dataframe tbody tr th {\n",
       "        vertical-align: top;\n",
       "    }\n",
       "\n",
       "    .dataframe thead th {\n",
       "        text-align: right;\n",
       "    }\n",
       "</style>\n",
       "<table border=\"1\" class=\"dataframe\">\n",
       "  <thead>\n",
       "    <tr style=\"text-align: right;\">\n",
       "      <th></th>\n",
       "      <th>Recommended Movie</th>\n",
       "      <th>Similarity Score</th>\n",
       "    </tr>\n",
       "  </thead>\n",
       "  <tbody>\n",
       "    <tr>\n",
       "      <th>583</th>\n",
       "      <td>Bolt</td>\n",
       "      <td>0.319383</td>\n",
       "    </tr>\n",
       "    <tr>\n",
       "      <th>2515</th>\n",
       "      <td>Tangled Ever After</td>\n",
       "      <td>0.317820</td>\n",
       "    </tr>\n",
       "    <tr>\n",
       "      <th>868</th>\n",
       "      <td>The Princess and the Frog</td>\n",
       "      <td>0.152309</td>\n",
       "    </tr>\n",
       "    <tr>\n",
       "      <th>734</th>\n",
       "      <td>Enchanted</td>\n",
       "      <td>0.126866</td>\n",
       "    </tr>\n",
       "    <tr>\n",
       "      <th>6060</th>\n",
       "      <td>A Cinderella Story: If the Shoe Fits</td>\n",
       "      <td>0.118172</td>\n",
       "    </tr>\n",
       "    <tr>\n",
       "      <th>847</th>\n",
       "      <td>Sleeping Beauty</td>\n",
       "      <td>0.111053</td>\n",
       "    </tr>\n",
       "    <tr>\n",
       "      <th>1155</th>\n",
       "      <td>Chicken Little</td>\n",
       "      <td>0.108881</td>\n",
       "    </tr>\n",
       "    <tr>\n",
       "      <th>11150</th>\n",
       "      <td>Prep &amp; Landing</td>\n",
       "      <td>0.101985</td>\n",
       "    </tr>\n",
       "    <tr>\n",
       "      <th>220</th>\n",
       "      <td>Aladdin</td>\n",
       "      <td>0.100159</td>\n",
       "    </tr>\n",
       "    <tr>\n",
       "      <th>2387</th>\n",
       "      <td>Another Cinderella Story</td>\n",
       "      <td>0.097008</td>\n",
       "    </tr>\n",
       "  </tbody>\n",
       "</table>\n",
       "</div>"
      ],
      "text/plain": [
       "                          Recommended Movie  Similarity Score\n",
       "583                                    Bolt          0.319383\n",
       "2515                     Tangled Ever After          0.317820\n",
       "868               The Princess and the Frog          0.152309\n",
       "734                               Enchanted          0.126866\n",
       "6060   A Cinderella Story: If the Shoe Fits          0.118172\n",
       "847                         Sleeping Beauty          0.111053\n",
       "1155                         Chicken Little          0.108881\n",
       "11150                        Prep & Landing          0.101985\n",
       "220                                 Aladdin          0.100159\n",
       "2387               Another Cinderella Story          0.097008"
      ]
     },
     "execution_count": 25,
     "metadata": {},
     "output_type": "execute_result"
    }
   ],
   "source": [
    "get_recommendation(\"Tangled\")"
   ]
  },
  {
   "cell_type": "code",
   "execution_count": 26,
   "id": "exempt-weight",
   "metadata": {
    "execution": {
     "iopub.execute_input": "2021-06-22T11:09:55.665933Z",
     "iopub.status.busy": "2021-06-22T11:09:55.664977Z",
     "iopub.status.idle": "2021-06-22T11:09:55.669298Z",
     "shell.execute_reply": "2021-06-22T11:09:55.668669Z",
     "shell.execute_reply.started": "2021-06-22T09:28:48.121182Z"
    },
    "papermill": {
     "duration": 0.784788,
     "end_time": "2021-06-22T11:09:55.669436",
     "exception": false,
     "start_time": "2021-06-22T11:09:54.884648",
     "status": "completed"
    },
    "tags": []
   },
   "outputs": [
    {
     "data": {
      "text/html": [
       "<div>\n",
       "<style scoped>\n",
       "    .dataframe tbody tr th:only-of-type {\n",
       "        vertical-align: middle;\n",
       "    }\n",
       "\n",
       "    .dataframe tbody tr th {\n",
       "        vertical-align: top;\n",
       "    }\n",
       "\n",
       "    .dataframe thead th {\n",
       "        text-align: right;\n",
       "    }\n",
       "</style>\n",
       "<table border=\"1\" class=\"dataframe\">\n",
       "  <thead>\n",
       "    <tr style=\"text-align: right;\">\n",
       "      <th></th>\n",
       "      <th>Recommended Movie</th>\n",
       "      <th>Similarity Score</th>\n",
       "    </tr>\n",
       "  </thead>\n",
       "  <tbody>\n",
       "    <tr>\n",
       "      <th>24</th>\n",
       "      <td>Skyfall</td>\n",
       "      <td>0.252677</td>\n",
       "    </tr>\n",
       "    <tr>\n",
       "      <th>291</th>\n",
       "      <td>Quantum of Solace</td>\n",
       "      <td>0.181519</td>\n",
       "    </tr>\n",
       "    <tr>\n",
       "      <th>1003</th>\n",
       "      <td>Die Another Day</td>\n",
       "      <td>0.159738</td>\n",
       "    </tr>\n",
       "    <tr>\n",
       "      <th>1276</th>\n",
       "      <td>The World Is Not Enough</td>\n",
       "      <td>0.103503</td>\n",
       "    </tr>\n",
       "    <tr>\n",
       "      <th>184</th>\n",
       "      <td>Casino Royale</td>\n",
       "      <td>0.096311</td>\n",
       "    </tr>\n",
       "    <tr>\n",
       "      <th>13682</th>\n",
       "      <td>Everything or Nothing</td>\n",
       "      <td>0.087342</td>\n",
       "    </tr>\n",
       "    <tr>\n",
       "      <th>16751</th>\n",
       "      <td>Stoned</td>\n",
       "      <td>0.078104</td>\n",
       "    </tr>\n",
       "    <tr>\n",
       "      <th>1282</th>\n",
       "      <td>Johnny English</td>\n",
       "      <td>0.073981</td>\n",
       "    </tr>\n",
       "    <tr>\n",
       "      <th>247</th>\n",
       "      <td>Mission: Impossible - Rogue Nation</td>\n",
       "      <td>0.069224</td>\n",
       "    </tr>\n",
       "    <tr>\n",
       "      <th>1946</th>\n",
       "      <td>Octopussy</td>\n",
       "      <td>0.066787</td>\n",
       "    </tr>\n",
       "  </tbody>\n",
       "</table>\n",
       "</div>"
      ],
      "text/plain": [
       "                        Recommended Movie  Similarity Score\n",
       "24                                Skyfall          0.252677\n",
       "291                     Quantum of Solace          0.181519\n",
       "1003                      Die Another Day          0.159738\n",
       "1276              The World Is Not Enough          0.103503\n",
       "184                         Casino Royale          0.096311\n",
       "13682               Everything or Nothing          0.087342\n",
       "16751                              Stoned          0.078104\n",
       "1282                       Johnny English          0.073981\n",
       "247    Mission: Impossible - Rogue Nation          0.069224\n",
       "1946                            Octopussy          0.066787"
      ]
     },
     "execution_count": 26,
     "metadata": {},
     "output_type": "execute_result"
    }
   ],
   "source": [
    "get_recommendation('Spectre')"
   ]
  },
  {
   "cell_type": "markdown",
   "id": "widespread-parker",
   "metadata": {
    "papermill": {
     "duration": 0.750642,
     "end_time": "2021-06-22T11:09:57.225678",
     "exception": false,
     "start_time": "2021-06-22T11:09:56.475036",
     "status": "completed"
    },
    "tags": []
   },
   "source": [
    "# Recommender 3: Collaborative Filtering\n",
    "Based on records from various users provide recommendations based on user similarities"
   ]
  },
  {
   "cell_type": "code",
   "execution_count": 27,
   "id": "automated-february",
   "metadata": {
    "execution": {
     "iopub.execute_input": "2021-06-22T11:09:58.735506Z",
     "iopub.status.busy": "2021-06-22T11:09:58.734807Z",
     "iopub.status.idle": "2021-06-22T11:09:58.738257Z",
     "shell.execute_reply": "2021-06-22T11:09:58.737737Z",
     "shell.execute_reply.started": "2021-06-22T09:28:48.163382Z"
    },
    "papermill": {
     "duration": 0.761842,
     "end_time": "2021-06-22T11:09:58.738398",
     "exception": false,
     "start_time": "2021-06-22T11:09:57.976556",
     "status": "completed"
    },
    "tags": []
   },
   "outputs": [],
   "source": [
    "from sklearn.metrics.pairwise import cosine_similarity"
   ]
  },
  {
   "cell_type": "markdown",
   "id": "utility-block",
   "metadata": {
    "papermill": {
     "duration": 0.749586,
     "end_time": "2021-06-22T11:10:00.301488",
     "exception": false,
     "start_time": "2021-06-22T11:09:59.551902",
     "status": "completed"
    },
    "tags": []
   },
   "source": [
    "## 1. Using mean of other user' weighted ratings based on similarity matrix"
   ]
  },
  {
   "cell_type": "code",
   "execution_count": 28,
   "id": "competitive-ordinary",
   "metadata": {
    "execution": {
     "iopub.execute_input": "2021-06-22T11:10:01.815194Z",
     "iopub.status.busy": "2021-06-22T11:10:01.813354Z",
     "iopub.status.idle": "2021-06-22T11:10:12.797939Z",
     "shell.execute_reply": "2021-06-22T11:10:12.798751Z",
     "shell.execute_reply.started": "2021-06-22T10:01:26.603588Z"
    },
    "papermill": {
     "duration": 11.745834,
     "end_time": "2021-06-22T11:10:12.799245",
     "exception": false,
     "start_time": "2021-06-22T11:10:01.053411",
     "status": "completed"
    },
    "tags": []
   },
   "outputs": [],
   "source": [
    "# merge df1 and df5 to get movie titles and drop rows for which title is not available\n",
    "data = pd.merge(df1, df5[['id', 'title']], left_on='movieId', right_on='id')\n",
    "\n",
    "# get total counts of no. of occurence of movie\n",
    "data['count'] = data.groupby('movieId').transform('count')['userId']\n",
    "\n",
    "# fetch top 100 movies based on count\n",
    "movieId = data.drop_duplicates('movieId').sort_values(\n",
    "    'count', ascending=False).iloc[:100]['movieId']\n",
    "\n",
    "# filter out data as per the movieId\n",
    "data = data[data['movieId'].isin(movieId)].reset_index(drop=True)\n",
    "\n",
    "# get total counts of movies each user has seen\n",
    "data['count'] = data.groupby('userId').transform('count')['movieId']\n",
    "\n",
    "# fetch top 20000 users based on no. of movies watched\n",
    "userId = data.drop_duplicates('userId').sort_values(\n",
    "    'count', ascending=False).iloc[:20001]['userId']\n",
    "\n",
    "# filter out data as per the userId\n",
    "data = data[data['userId'].isin(userId)].reset_index(drop=True)"
   ]
  },
  {
   "cell_type": "code",
   "execution_count": 29,
   "id": "distinguished-colonial",
   "metadata": {
    "execution": {
     "iopub.execute_input": "2021-06-22T11:10:14.314515Z",
     "iopub.status.busy": "2021-06-22T11:10:14.313491Z",
     "iopub.status.idle": "2021-06-22T11:10:14.909214Z",
     "shell.execute_reply": "2021-06-22T11:10:14.908559Z",
     "shell.execute_reply.started": "2021-06-22T10:01:39.765777Z"
    },
    "papermill": {
     "duration": 1.348061,
     "end_time": "2021-06-22T11:10:14.909352",
     "exception": false,
     "start_time": "2021-06-22T11:10:13.561291",
     "status": "completed"
    },
    "tags": []
   },
   "outputs": [
    {
     "data": {
      "text/html": [
       "<div>\n",
       "<style scoped>\n",
       "    .dataframe tbody tr th:only-of-type {\n",
       "        vertical-align: middle;\n",
       "    }\n",
       "\n",
       "    .dataframe tbody tr th {\n",
       "        vertical-align: top;\n",
       "    }\n",
       "\n",
       "    .dataframe thead th {\n",
       "        text-align: right;\n",
       "    }\n",
       "</style>\n",
       "<table border=\"1\" class=\"dataframe\">\n",
       "  <thead>\n",
       "    <tr style=\"text-align: right;\">\n",
       "      <th>movieId</th>\n",
       "      <th>2</th>\n",
       "      <th>6</th>\n",
       "      <th>17</th>\n",
       "      <th>19</th>\n",
       "      <th>21</th>\n",
       "      <th>25</th>\n",
       "      <th>62</th>\n",
       "      <th>95</th>\n",
       "      <th>110</th>\n",
       "      <th>111</th>\n",
       "      <th>...</th>\n",
       "      <th>4011</th>\n",
       "      <th>4226</th>\n",
       "      <th>4886</th>\n",
       "      <th>4896</th>\n",
       "      <th>4973</th>\n",
       "      <th>4993</th>\n",
       "      <th>4995</th>\n",
       "      <th>8961</th>\n",
       "      <th>44191</th>\n",
       "      <th>58559</th>\n",
       "    </tr>\n",
       "    <tr>\n",
       "      <th>userId</th>\n",
       "      <th></th>\n",
       "      <th></th>\n",
       "      <th></th>\n",
       "      <th></th>\n",
       "      <th></th>\n",
       "      <th></th>\n",
       "      <th></th>\n",
       "      <th></th>\n",
       "      <th></th>\n",
       "      <th></th>\n",
       "      <th></th>\n",
       "      <th></th>\n",
       "      <th></th>\n",
       "      <th></th>\n",
       "      <th></th>\n",
       "      <th></th>\n",
       "      <th></th>\n",
       "      <th></th>\n",
       "      <th></th>\n",
       "      <th></th>\n",
       "      <th></th>\n",
       "    </tr>\n",
       "  </thead>\n",
       "  <tbody>\n",
       "    <tr>\n",
       "      <th>24</th>\n",
       "      <td>3.0</td>\n",
       "      <td>4.0</td>\n",
       "      <td>3.0</td>\n",
       "      <td>NaN</td>\n",
       "      <td>4.0</td>\n",
       "      <td>3.0</td>\n",
       "      <td>2.0</td>\n",
       "      <td>NaN</td>\n",
       "      <td>5.0</td>\n",
       "      <td>5.0</td>\n",
       "      <td>...</td>\n",
       "      <td>NaN</td>\n",
       "      <td>NaN</td>\n",
       "      <td>NaN</td>\n",
       "      <td>NaN</td>\n",
       "      <td>NaN</td>\n",
       "      <td>NaN</td>\n",
       "      <td>NaN</td>\n",
       "      <td>NaN</td>\n",
       "      <td>NaN</td>\n",
       "      <td>NaN</td>\n",
       "    </tr>\n",
       "    <tr>\n",
       "      <th>34</th>\n",
       "      <td>3.0</td>\n",
       "      <td>4.0</td>\n",
       "      <td>NaN</td>\n",
       "      <td>NaN</td>\n",
       "      <td>NaN</td>\n",
       "      <td>NaN</td>\n",
       "      <td>NaN</td>\n",
       "      <td>NaN</td>\n",
       "      <td>5.0</td>\n",
       "      <td>4.5</td>\n",
       "      <td>...</td>\n",
       "      <td>5.0</td>\n",
       "      <td>5.0</td>\n",
       "      <td>1.5</td>\n",
       "      <td>NaN</td>\n",
       "      <td>4.0</td>\n",
       "      <td>4.5</td>\n",
       "      <td>3.0</td>\n",
       "      <td>3.5</td>\n",
       "      <td>2.0</td>\n",
       "      <td>4.0</td>\n",
       "    </tr>\n",
       "    <tr>\n",
       "      <th>46</th>\n",
       "      <td>NaN</td>\n",
       "      <td>3.0</td>\n",
       "      <td>NaN</td>\n",
       "      <td>3.5</td>\n",
       "      <td>4.0</td>\n",
       "      <td>NaN</td>\n",
       "      <td>NaN</td>\n",
       "      <td>NaN</td>\n",
       "      <td>NaN</td>\n",
       "      <td>NaN</td>\n",
       "      <td>...</td>\n",
       "      <td>NaN</td>\n",
       "      <td>4.0</td>\n",
       "      <td>4.5</td>\n",
       "      <td>NaN</td>\n",
       "      <td>NaN</td>\n",
       "      <td>4.0</td>\n",
       "      <td>NaN</td>\n",
       "      <td>4.5</td>\n",
       "      <td>NaN</td>\n",
       "      <td>NaN</td>\n",
       "    </tr>\n",
       "    <tr>\n",
       "      <th>49</th>\n",
       "      <td>4.5</td>\n",
       "      <td>NaN</td>\n",
       "      <td>NaN</td>\n",
       "      <td>3.5</td>\n",
       "      <td>NaN</td>\n",
       "      <td>NaN</td>\n",
       "      <td>NaN</td>\n",
       "      <td>NaN</td>\n",
       "      <td>4.0</td>\n",
       "      <td>5.0</td>\n",
       "      <td>...</td>\n",
       "      <td>NaN</td>\n",
       "      <td>5.0</td>\n",
       "      <td>3.0</td>\n",
       "      <td>5.0</td>\n",
       "      <td>4.0</td>\n",
       "      <td>5.0</td>\n",
       "      <td>NaN</td>\n",
       "      <td>4.0</td>\n",
       "      <td>5.0</td>\n",
       "      <td>NaN</td>\n",
       "    </tr>\n",
       "    <tr>\n",
       "      <th>62</th>\n",
       "      <td>2.0</td>\n",
       "      <td>NaN</td>\n",
       "      <td>NaN</td>\n",
       "      <td>4.0</td>\n",
       "      <td>NaN</td>\n",
       "      <td>NaN</td>\n",
       "      <td>3.5</td>\n",
       "      <td>NaN</td>\n",
       "      <td>NaN</td>\n",
       "      <td>4.0</td>\n",
       "      <td>...</td>\n",
       "      <td>4.5</td>\n",
       "      <td>4.0</td>\n",
       "      <td>3.5</td>\n",
       "      <td>4.0</td>\n",
       "      <td>NaN</td>\n",
       "      <td>4.0</td>\n",
       "      <td>NaN</td>\n",
       "      <td>NaN</td>\n",
       "      <td>NaN</td>\n",
       "      <td>NaN</td>\n",
       "    </tr>\n",
       "  </tbody>\n",
       "</table>\n",
       "<p>5 rows × 100 columns</p>\n",
       "</div>"
      ],
      "text/plain": [
       "movieId  2      6      17     19     21     25     62     95     110    111    \\\n",
       "userId                                                                          \n",
       "24         3.0    4.0    3.0    NaN    4.0    3.0    2.0    NaN    5.0    5.0   \n",
       "34         3.0    4.0    NaN    NaN    NaN    NaN    NaN    NaN    5.0    4.5   \n",
       "46         NaN    3.0    NaN    3.5    4.0    NaN    NaN    NaN    NaN    NaN   \n",
       "49         4.5    NaN    NaN    3.5    NaN    NaN    NaN    NaN    4.0    5.0   \n",
       "62         2.0    NaN    NaN    4.0    NaN    NaN    3.5    NaN    NaN    4.0   \n",
       "\n",
       "movieId  ...  4011   4226   4886   4896   4973   4993   4995   8961   44191  \\\n",
       "userId   ...                                                                  \n",
       "24       ...    NaN    NaN    NaN    NaN    NaN    NaN    NaN    NaN    NaN   \n",
       "34       ...    5.0    5.0    1.5    NaN    4.0    4.5    3.0    3.5    2.0   \n",
       "46       ...    NaN    4.0    4.5    NaN    NaN    4.0    NaN    4.5    NaN   \n",
       "49       ...    NaN    5.0    3.0    5.0    4.0    5.0    NaN    4.0    5.0   \n",
       "62       ...    4.5    4.0    3.5    4.0    NaN    4.0    NaN    NaN    NaN   \n",
       "\n",
       "movieId  58559  \n",
       "userId          \n",
       "24         NaN  \n",
       "34         4.0  \n",
       "46         NaN  \n",
       "49         NaN  \n",
       "62         NaN  \n",
       "\n",
       "[5 rows x 100 columns]"
      ]
     },
     "execution_count": 29,
     "metadata": {},
     "output_type": "execute_result"
    }
   ],
   "source": [
    "# create a user movie rating matrix\n",
    "df = data.pivot(index='userId', columns='movieId', values='rating')\n",
    "df.head()"
   ]
  },
  {
   "cell_type": "code",
   "execution_count": 30,
   "id": "educational-dictionary",
   "metadata": {
    "execution": {
     "iopub.execute_input": "2021-06-22T11:10:16.422045Z",
     "iopub.status.busy": "2021-06-22T11:10:16.420813Z",
     "iopub.status.idle": "2021-06-22T11:10:19.662000Z",
     "shell.execute_reply": "2021-06-22T11:10:19.661438Z",
     "shell.execute_reply.started": "2021-06-22T10:01:43.570490Z"
    },
    "papermill": {
     "duration": 3.998918,
     "end_time": "2021-06-22T11:10:19.662136",
     "exception": false,
     "start_time": "2021-06-22T11:10:15.663218",
     "status": "completed"
    },
    "tags": []
   },
   "outputs": [],
   "source": [
    "# replace NaN with user based average rating\n",
    "df_imputed = df.fillna(df.mean(axis=0))\n",
    "\n",
    "# get similarity between all users\n",
    "similarity_matrix = cosine_similarity(df_imputed.values)"
   ]
  },
  {
   "cell_type": "code",
   "execution_count": 31,
   "id": "requested-punishment",
   "metadata": {
    "execution": {
     "iopub.execute_input": "2021-06-22T11:10:21.272388Z",
     "iopub.status.busy": "2021-06-22T11:10:21.271627Z",
     "iopub.status.idle": "2021-06-22T11:10:21.274998Z",
     "shell.execute_reply": "2021-06-22T11:10:21.274521Z",
     "shell.execute_reply.started": "2021-06-22T09:29:02.427625Z"
    },
    "papermill": {
     "duration": 0.86513,
     "end_time": "2021-06-22T11:10:21.275136",
     "exception": false,
     "start_time": "2021-06-22T11:10:20.410006",
     "status": "completed"
    },
    "tags": []
   },
   "outputs": [],
   "source": [
    "def get_recommendation(user_index):\n",
    "    idx = user_index\n",
    "    sim_scores = list(enumerate(similarity_matrix[idx]))\n",
    "\n",
    "    # get movies that are unrated by the given user\n",
    "    unrated_movies = df.iloc[idx][df.iloc[idx].isna()].index\n",
    "\n",
    "    # get weighted ratings of unrated movies by all other users\n",
    "    movie_ratings = (df_imputed.iloc[similarity_matrix[idx]][unrated_movies].T * [\n",
    "        x[1] for x in sim_scores]).T\n",
    "\n",
    "    # get top 100 similar users by skipping the current user\n",
    "    sim_scores = sorted(sim_scores, key=lambda x: x[1], reverse=True)[1:101]\n",
    "\n",
    "    # get mean of movie rating by top 100 most similar users for the unrated movies\n",
    "    movie_ratings = movie_ratings.iloc[[x[0] for x in sim_scores]].mean()\n",
    "\n",
    "    # get recommended movie titles in sorted order\n",
    "    recommended_movies = df5[df5['id'].isin(movie_ratings.reset_index().sort_values(\n",
    "        0, ascending=False)['movieId'])][['title', 'id']]\n",
    "    assumed_ratings = sorted(movie_ratings, reverse=True)\n",
    "\n",
    "    return pd.DataFrame({'movieId':recommended_movies[:10]['id'], \n",
    "                         'Recommended Movie':recommended_movies[:10]['title'], \n",
    "                         'Assumed Rating':assumed_ratings[:10]})"
   ]
  },
  {
   "cell_type": "code",
   "execution_count": 32,
   "id": "critical-produce",
   "metadata": {
    "execution": {
     "iopub.execute_input": "2021-06-22T11:10:22.790862Z",
     "iopub.status.busy": "2021-06-22T11:10:22.790212Z",
     "iopub.status.idle": "2021-06-22T11:10:22.874885Z",
     "shell.execute_reply": "2021-06-22T11:10:22.874260Z",
     "shell.execute_reply.started": "2021-06-22T09:29:02.439310Z"
    },
    "papermill": {
     "duration": 0.849157,
     "end_time": "2021-06-22T11:10:22.875017",
     "exception": false,
     "start_time": "2021-06-22T11:10:22.025860",
     "status": "completed"
    },
    "tags": []
   },
   "outputs": [
    {
     "data": {
      "text/html": [
       "<div>\n",
       "<style scoped>\n",
       "    .dataframe tbody tr th:only-of-type {\n",
       "        vertical-align: middle;\n",
       "    }\n",
       "\n",
       "    .dataframe tbody tr th {\n",
       "        vertical-align: top;\n",
       "    }\n",
       "\n",
       "    .dataframe thead th {\n",
       "        text-align: right;\n",
       "    }\n",
       "</style>\n",
       "<table border=\"1\" class=\"dataframe\">\n",
       "  <thead>\n",
       "    <tr style=\"text-align: right;\">\n",
       "      <th></th>\n",
       "      <th>movieId</th>\n",
       "      <th>Recommended Movie</th>\n",
       "      <th>Assumed Rating</th>\n",
       "      <th>userId</th>\n",
       "      <th>Movie Watched</th>\n",
       "      <th>Rated</th>\n",
       "    </tr>\n",
       "  </thead>\n",
       "  <tbody>\n",
       "    <tr>\n",
       "      <th>0</th>\n",
       "      <td>6</td>\n",
       "      <td>Judgment Night</td>\n",
       "      <td>4.932211</td>\n",
       "      <td>1156</td>\n",
       "      <td>The Man with the Golden Arm</td>\n",
       "      <td>5.0</td>\n",
       "    </tr>\n",
       "    <tr>\n",
       "      <th>1</th>\n",
       "      <td>329</td>\n",
       "      <td>Jurassic Park</td>\n",
       "      <td>4.932211</td>\n",
       "      <td>1156</td>\n",
       "      <td>Terminator 3: Rise of the Machines</td>\n",
       "      <td>5.0</td>\n",
       "    </tr>\n",
       "    <tr>\n",
       "      <th>2</th>\n",
       "      <td>62</td>\n",
       "      <td>2001: A Space Odyssey</td>\n",
       "      <td>4.932211</td>\n",
       "      <td>1156</td>\n",
       "      <td>5 Card Stud</td>\n",
       "      <td>5.0</td>\n",
       "    </tr>\n",
       "    <tr>\n",
       "      <th>3</th>\n",
       "      <td>223</td>\n",
       "      <td>Rebecca</td>\n",
       "      <td>4.932211</td>\n",
       "      <td>1156</td>\n",
       "      <td>Sleepless in Seattle</td>\n",
       "      <td>5.0</td>\n",
       "    </tr>\n",
       "    <tr>\n",
       "      <th>4</th>\n",
       "      <td>454</td>\n",
       "      <td>Romeo + Juliet</td>\n",
       "      <td>4.932211</td>\n",
       "      <td>1156</td>\n",
       "      <td>48 Hrs.</td>\n",
       "      <td>5.0</td>\n",
       "    </tr>\n",
       "    <tr>\n",
       "      <th>5</th>\n",
       "      <td>500</td>\n",
       "      <td>Reservoir Dogs</td>\n",
       "      <td>4.932211</td>\n",
       "      <td>1156</td>\n",
       "      <td>Rope</td>\n",
       "      <td>5.0</td>\n",
       "    </tr>\n",
       "    <tr>\n",
       "      <th>6</th>\n",
       "      <td>185</td>\n",
       "      <td>A Clockwork Orange</td>\n",
       "      <td>4.932211</td>\n",
       "      <td>1156</td>\n",
       "      <td>Beauty and the Beast</td>\n",
       "      <td>5.0</td>\n",
       "    </tr>\n",
       "    <tr>\n",
       "      <th>7</th>\n",
       "      <td>595</td>\n",
       "      <td>To Kill a Mockingbird</td>\n",
       "      <td>4.085496</td>\n",
       "      <td>1156</td>\n",
       "      <td>The Million Dollar Hotel</td>\n",
       "      <td>5.0</td>\n",
       "    </tr>\n",
       "    <tr>\n",
       "      <th>8</th>\n",
       "      <td>539</td>\n",
       "      <td>Psycho</td>\n",
       "      <td>3.945768</td>\n",
       "      <td>1156</td>\n",
       "      <td>The 39 Steps</td>\n",
       "      <td>5.0</td>\n",
       "    </tr>\n",
       "    <tr>\n",
       "      <th>9</th>\n",
       "      <td>288</td>\n",
       "      <td>High Noon</td>\n",
       "      <td>3.945768</td>\n",
       "      <td>1156</td>\n",
       "      <td>Solaris</td>\n",
       "      <td>5.0</td>\n",
       "    </tr>\n",
       "  </tbody>\n",
       "</table>\n",
       "</div>"
      ],
      "text/plain": [
       "   movieId      Recommended Movie  Assumed Rating  userId  \\\n",
       "0        6         Judgment Night        4.932211    1156   \n",
       "1      329          Jurassic Park        4.932211    1156   \n",
       "2       62  2001: A Space Odyssey        4.932211    1156   \n",
       "3      223                Rebecca        4.932211    1156   \n",
       "4      454         Romeo + Juliet        4.932211    1156   \n",
       "5      500         Reservoir Dogs        4.932211    1156   \n",
       "6      185     A Clockwork Orange        4.932211    1156   \n",
       "7      595  To Kill a Mockingbird        4.085496    1156   \n",
       "8      539                 Psycho        3.945768    1156   \n",
       "9      288              High Noon        3.945768    1156   \n",
       "\n",
       "                        Movie Watched  Rated  \n",
       "0         The Man with the Golden Arm    5.0  \n",
       "1  Terminator 3: Rise of the Machines    5.0  \n",
       "2                         5 Card Stud    5.0  \n",
       "3                Sleepless in Seattle    5.0  \n",
       "4                             48 Hrs.    5.0  \n",
       "5                                Rope    5.0  \n",
       "6                Beauty and the Beast    5.0  \n",
       "7            The Million Dollar Hotel    5.0  \n",
       "8                        The 39 Steps    5.0  \n",
       "9                             Solaris    5.0  "
      ]
     },
     "execution_count": 32,
     "metadata": {},
     "output_type": "execute_result"
    }
   ],
   "source": [
    "user_id = 101\n",
    "recommended_movies = get_recommendation(user_id).reset_index(drop=True)\n",
    "# get other high rated movies by user\n",
    "temp = data[data['userId']==df.index[user_id]].sort_values(\n",
    "    'rating', ascending=False)[['rating', 'title', 'userId']].iloc[:10].reset_index(drop=True)\n",
    "recommended_movies['userId'] = temp['userId']\n",
    "recommended_movies['Movie Watched'] = temp['title']\n",
    "recommended_movies['Rated']= temp['rating']\n",
    "recommended_movies"
   ]
  },
  {
   "cell_type": "code",
   "execution_count": 33,
   "id": "rental-north",
   "metadata": {
    "execution": {
     "iopub.execute_input": "2021-06-22T11:10:24.400657Z",
     "iopub.status.busy": "2021-06-22T11:10:24.389179Z",
     "iopub.status.idle": "2021-06-22T11:10:24.466813Z",
     "shell.execute_reply": "2021-06-22T11:10:24.466243Z",
     "shell.execute_reply.started": "2021-06-22T09:29:02.550254Z"
    },
    "papermill": {
     "duration": 0.839855,
     "end_time": "2021-06-22T11:10:24.466949",
     "exception": false,
     "start_time": "2021-06-22T11:10:23.627094",
     "status": "completed"
    },
    "tags": []
   },
   "outputs": [
    {
     "data": {
      "text/html": [
       "<div>\n",
       "<style scoped>\n",
       "    .dataframe tbody tr th:only-of-type {\n",
       "        vertical-align: middle;\n",
       "    }\n",
       "\n",
       "    .dataframe tbody tr th {\n",
       "        vertical-align: top;\n",
       "    }\n",
       "\n",
       "    .dataframe thead th {\n",
       "        text-align: right;\n",
       "    }\n",
       "</style>\n",
       "<table border=\"1\" class=\"dataframe\">\n",
       "  <thead>\n",
       "    <tr style=\"text-align: right;\">\n",
       "      <th></th>\n",
       "      <th>movieId</th>\n",
       "      <th>Recommended Movie</th>\n",
       "      <th>Assumed Rating</th>\n",
       "      <th>userId</th>\n",
       "      <th>Movie Watched</th>\n",
       "      <th>Rated</th>\n",
       "    </tr>\n",
       "  </thead>\n",
       "  <tbody>\n",
       "    <tr>\n",
       "      <th>0</th>\n",
       "      <td>6</td>\n",
       "      <td>Judgment Night</td>\n",
       "      <td>4.947474</td>\n",
       "      <td>210430</td>\n",
       "      <td>License to Wed</td>\n",
       "      <td>5.0</td>\n",
       "    </tr>\n",
       "    <tr>\n",
       "      <th>1</th>\n",
       "      <td>329</td>\n",
       "      <td>Jurassic Park</td>\n",
       "      <td>4.947474</td>\n",
       "      <td>210430</td>\n",
       "      <td>The Prisoner of Zenda</td>\n",
       "      <td>5.0</td>\n",
       "    </tr>\n",
       "    <tr>\n",
       "      <th>2</th>\n",
       "      <td>62</td>\n",
       "      <td>2001: A Space Odyssey</td>\n",
       "      <td>4.947474</td>\n",
       "      <td>210430</td>\n",
       "      <td>High Noon</td>\n",
       "      <td>4.5</td>\n",
       "    </tr>\n",
       "    <tr>\n",
       "      <th>3</th>\n",
       "      <td>454</td>\n",
       "      <td>Romeo + Juliet</td>\n",
       "      <td>4.947474</td>\n",
       "      <td>210430</td>\n",
       "      <td>Monsieur  Hulot's Holiday</td>\n",
       "      <td>4.5</td>\n",
       "    </tr>\n",
       "    <tr>\n",
       "      <th>4</th>\n",
       "      <td>500</td>\n",
       "      <td>Reservoir Dogs</td>\n",
       "      <td>4.947474</td>\n",
       "      <td>210430</td>\n",
       "      <td>The Man with the Golden Arm</td>\n",
       "      <td>4.5</td>\n",
       "    </tr>\n",
       "    <tr>\n",
       "      <th>5</th>\n",
       "      <td>185</td>\n",
       "      <td>A Clockwork Orange</td>\n",
       "      <td>4.132242</td>\n",
       "      <td>210430</td>\n",
       "      <td>Say Anything...</td>\n",
       "      <td>4.5</td>\n",
       "    </tr>\n",
       "    <tr>\n",
       "      <th>6</th>\n",
       "      <td>595</td>\n",
       "      <td>To Kill a Mockingbird</td>\n",
       "      <td>4.103356</td>\n",
       "      <td>210430</td>\n",
       "      <td>Once Were Warriors</td>\n",
       "      <td>4.5</td>\n",
       "    </tr>\n",
       "    <tr>\n",
       "      <th>7</th>\n",
       "      <td>539</td>\n",
       "      <td>Psycho</td>\n",
       "      <td>3.957979</td>\n",
       "      <td>210430</td>\n",
       "      <td>The Bourne Supremacy</td>\n",
       "      <td>4.5</td>\n",
       "    </tr>\n",
       "    <tr>\n",
       "      <th>8</th>\n",
       "      <td>339</td>\n",
       "      <td>Night on Earth</td>\n",
       "      <td>3.957979</td>\n",
       "      <td>210430</td>\n",
       "      <td>Beetlejuice</td>\n",
       "      <td>4.5</td>\n",
       "    </tr>\n",
       "    <tr>\n",
       "      <th>9</th>\n",
       "      <td>1968</td>\n",
       "      <td>Fools Rush In</td>\n",
       "      <td>3.957979</td>\n",
       "      <td>210430</td>\n",
       "      <td>The Talented Mr. Ripley</td>\n",
       "      <td>4.0</td>\n",
       "    </tr>\n",
       "  </tbody>\n",
       "</table>\n",
       "</div>"
      ],
      "text/plain": [
       "   movieId      Recommended Movie  Assumed Rating  userId  \\\n",
       "0        6         Judgment Night        4.947474  210430   \n",
       "1      329          Jurassic Park        4.947474  210430   \n",
       "2       62  2001: A Space Odyssey        4.947474  210430   \n",
       "3      454         Romeo + Juliet        4.947474  210430   \n",
       "4      500         Reservoir Dogs        4.947474  210430   \n",
       "5      185     A Clockwork Orange        4.132242  210430   \n",
       "6      595  To Kill a Mockingbird        4.103356  210430   \n",
       "7      539                 Psycho        3.957979  210430   \n",
       "8      339         Night on Earth        3.957979  210430   \n",
       "9     1968          Fools Rush In        3.957979  210430   \n",
       "\n",
       "                 Movie Watched  Rated  \n",
       "0               License to Wed    5.0  \n",
       "1        The Prisoner of Zenda    5.0  \n",
       "2                    High Noon    4.5  \n",
       "3    Monsieur  Hulot's Holiday    4.5  \n",
       "4  The Man with the Golden Arm    4.5  \n",
       "5              Say Anything...    4.5  \n",
       "6           Once Were Warriors    4.5  \n",
       "7         The Bourne Supremacy    4.5  \n",
       "8                  Beetlejuice    4.5  \n",
       "9      The Talented Mr. Ripley    4.0  "
      ]
     },
     "execution_count": 33,
     "metadata": {},
     "output_type": "execute_result"
    }
   ],
   "source": [
    "user_id = 15554\n",
    "recommended_movies = get_recommendation(user_id).reset_index(drop=True)\n",
    "# get other high rated movies by user\n",
    "temp = data[data['userId']==df.index[user_id]].sort_values(\n",
    "    'rating', ascending=False)[['rating', 'title', 'userId']].iloc[:10].reset_index(drop=True)\n",
    "recommended_movies['userId'] = temp['userId']\n",
    "recommended_movies['Movie Watched'] = temp['title']\n",
    "recommended_movies['Rated']= temp['rating']\n",
    "recommended_movies"
   ]
  },
  {
   "cell_type": "markdown",
   "id": "built-mozambique",
   "metadata": {
    "papermill": {
     "duration": 0.750616,
     "end_time": "2021-06-22T11:10:25.972028",
     "exception": false,
     "start_time": "2021-06-22T11:10:25.221412",
     "status": "completed"
    },
    "tags": []
   },
   "source": [
    "## 2. Using Surprise library"
   ]
  },
  {
   "cell_type": "code",
   "execution_count": 34,
   "id": "voluntary-importance",
   "metadata": {
    "execution": {
     "iopub.execute_input": "2021-06-22T11:10:27.480842Z",
     "iopub.status.busy": "2021-06-22T11:10:27.480120Z",
     "iopub.status.idle": "2021-06-22T11:10:27.534010Z",
     "shell.execute_reply": "2021-06-22T11:10:27.533452Z",
     "shell.execute_reply.started": "2021-06-22T09:29:02.643567Z"
    },
    "papermill": {
     "duration": 0.809371,
     "end_time": "2021-06-22T11:10:27.534236",
     "exception": false,
     "start_time": "2021-06-22T11:10:26.724865",
     "status": "completed"
    },
    "tags": []
   },
   "outputs": [],
   "source": [
    "from surprise import Reader, Dataset, SVD, SVDpp, SlopeOne, NMF, NormalPredictor, KNNBaseline, \\\n",
    "KNNBasic, KNNWithMeans, KNNWithZScore, BaselineOnly, CoClustering\n",
    "from surprise.model_selection import train_test_split, cross_validate"
   ]
  },
  {
   "cell_type": "code",
   "execution_count": 35,
   "id": "complicated-listening",
   "metadata": {
    "execution": {
     "iopub.execute_input": "2021-06-22T11:10:29.142270Z",
     "iopub.status.busy": "2021-06-22T11:10:29.116192Z",
     "iopub.status.idle": "2021-06-22T11:10:33.969576Z",
     "shell.execute_reply": "2021-06-22T11:10:33.968976Z",
     "shell.execute_reply.started": "2021-06-22T09:29:02.705299Z"
    },
    "papermill": {
     "duration": 5.640169,
     "end_time": "2021-06-22T11:10:33.969734",
     "exception": false,
     "start_time": "2021-06-22T11:10:28.329565",
     "status": "completed"
    },
    "tags": []
   },
   "outputs": [],
   "source": [
    "reader = Reader(rating_scale=(0, 10))\n",
    "surprise_data = Dataset.load_from_df(data[['userId', 'movieId', 'rating']], reader)\n",
    "trainset, testset = train_test_split(surprise_data, test_size=0.25)"
   ]
  },
  {
   "cell_type": "code",
   "execution_count": 36,
   "id": "enormous-radar",
   "metadata": {
    "execution": {
     "iopub.execute_input": "2021-06-22T11:10:35.478921Z",
     "iopub.status.busy": "2021-06-22T11:10:35.478217Z",
     "iopub.status.idle": "2021-06-22T11:15:21.672038Z",
     "shell.execute_reply": "2021-06-22T11:15:21.671505Z",
     "shell.execute_reply.started": "2021-06-22T09:29:07.979054Z"
    },
    "papermill": {
     "duration": 286.952041,
     "end_time": "2021-06-22T11:15:21.672205",
     "exception": false,
     "start_time": "2021-06-22T11:10:34.720164",
     "status": "completed"
    },
    "tags": []
   },
   "outputs": [
    {
     "name": "stdout",
     "output_type": "stream",
     "text": [
      "test_rmse     0.76989\n",
      "fit_time     85.92201\n",
      "test_time    5.669261\n",
      "Algorithm         SVD\n",
      "dtype: object\n"
     ]
    },
    {
     "data": {
      "text/html": [
       "<div>\n",
       "<style scoped>\n",
       "    .dataframe tbody tr th:only-of-type {\n",
       "        vertical-align: middle;\n",
       "    }\n",
       "\n",
       "    .dataframe tbody tr th {\n",
       "        vertical-align: top;\n",
       "    }\n",
       "\n",
       "    .dataframe thead th {\n",
       "        text-align: right;\n",
       "    }\n",
       "</style>\n",
       "<table border=\"1\" class=\"dataframe\">\n",
       "  <thead>\n",
       "    <tr style=\"text-align: right;\">\n",
       "      <th></th>\n",
       "      <th>test_rmse</th>\n",
       "      <th>fit_time</th>\n",
       "      <th>test_time</th>\n",
       "    </tr>\n",
       "    <tr>\n",
       "      <th>Algorithm</th>\n",
       "      <th></th>\n",
       "      <th></th>\n",
       "      <th></th>\n",
       "    </tr>\n",
       "  </thead>\n",
       "  <tbody>\n",
       "    <tr>\n",
       "      <th>SVD</th>\n",
       "      <td>0.76989</td>\n",
       "      <td>85.92201</td>\n",
       "      <td>5.669261</td>\n",
       "    </tr>\n",
       "  </tbody>\n",
       "</table>\n",
       "</div>"
      ],
      "text/plain": [
       "           test_rmse  fit_time  test_time\n",
       "Algorithm                                \n",
       "SVD          0.76989  85.92201   5.669261"
      ]
     },
     "execution_count": 36,
     "metadata": {},
     "output_type": "execute_result"
    }
   ],
   "source": [
    "benchmark = []\n",
    "# Iterate over all algorithms\n",
    "for algorithm in [SVD()]:\n",
    "#KNNBaseline(), CoClustering(), SVDpp(), SlopeOne(), NMF(), NormalPredictor(), KNNBasic(), KNNWithMeans(), KNNWithZScore(), \n",
    "#BaselineOnly()\n",
    "    # Perform cross validation\n",
    "    results = cross_validate(algorithm, surprise_data, measures=['RMSE'], cv=3, verbose=False)\n",
    "    \n",
    "    # Get results & append algorithm name\n",
    "    tmp = pd.DataFrame.from_dict(results).mean(axis=0)\n",
    "    tmp = tmp.append(pd.Series([str(algorithm).split(' ')[0].split('.')[-1]], index=['Algorithm']))\n",
    "    benchmark.append(tmp) \n",
    "    print(tmp)\n",
    "    \n",
    "pd.DataFrame(benchmark).set_index('Algorithm').sort_values('test_rmse') "
   ]
  },
  {
   "cell_type": "code",
   "execution_count": 37,
   "id": "laden-warrior",
   "metadata": {
    "execution": {
     "iopub.execute_input": "2021-06-22T11:15:23.195673Z",
     "iopub.status.busy": "2021-06-22T11:15:23.190415Z",
     "iopub.status.idle": "2021-06-22T11:17:00.789413Z",
     "shell.execute_reply": "2021-06-22T11:17:00.789988Z",
     "shell.execute_reply.started": "2021-06-22T09:34:11.369260Z"
    },
    "papermill": {
     "duration": 98.364135,
     "end_time": "2021-06-22T11:17:00.790210",
     "exception": false,
     "start_time": "2021-06-22T11:15:22.426075",
     "status": "completed"
    },
    "tags": []
   },
   "outputs": [
    {
     "data": {
      "text/plain": [
       "<surprise.prediction_algorithms.matrix_factorization.SVD at 0x7f54db3cd110>"
      ]
     },
     "execution_count": 37,
     "metadata": {},
     "output_type": "execute_result"
    }
   ],
   "source": [
    "svd = SVD() \n",
    "svd.fit(trainset)"
   ]
  },
  {
   "cell_type": "code",
   "execution_count": 38,
   "id": "acknowledged-context",
   "metadata": {
    "execution": {
     "iopub.execute_input": "2021-06-22T11:17:02.358421Z",
     "iopub.status.busy": "2021-06-22T11:17:02.357417Z",
     "iopub.status.idle": "2021-06-22T11:17:02.433830Z",
     "shell.execute_reply": "2021-06-22T11:17:02.433133Z",
     "shell.execute_reply.started": "2021-06-22T09:41:08.817227Z"
    },
    "papermill": {
     "duration": 0.897152,
     "end_time": "2021-06-22T11:17:02.433976",
     "exception": false,
     "start_time": "2021-06-22T11:17:01.536824",
     "status": "completed"
    },
    "tags": []
   },
   "outputs": [
    {
     "data": {
      "text/html": [
       "<div>\n",
       "<style scoped>\n",
       "    .dataframe tbody tr th:only-of-type {\n",
       "        vertical-align: middle;\n",
       "    }\n",
       "\n",
       "    .dataframe tbody tr th {\n",
       "        vertical-align: top;\n",
       "    }\n",
       "\n",
       "    .dataframe thead th {\n",
       "        text-align: right;\n",
       "    }\n",
       "</style>\n",
       "<table border=\"1\" class=\"dataframe\">\n",
       "  <thead>\n",
       "    <tr style=\"text-align: right;\">\n",
       "      <th></th>\n",
       "      <th>movieId</th>\n",
       "      <th>title</th>\n",
       "      <th>rating</th>\n",
       "      <th>userId</th>\n",
       "      <th>Movie Watched</th>\n",
       "      <th>Rated</th>\n",
       "    </tr>\n",
       "  </thead>\n",
       "  <tbody>\n",
       "    <tr>\n",
       "      <th>0</th>\n",
       "      <td>17</td>\n",
       "      <td>The Dark</td>\n",
       "      <td>4.123444</td>\n",
       "      <td>1156</td>\n",
       "      <td>The Man with the Golden Arm</td>\n",
       "      <td>5.0</td>\n",
       "    </tr>\n",
       "    <tr>\n",
       "      <th>1</th>\n",
       "      <td>919</td>\n",
       "      <td>Blood: The Last Vampire</td>\n",
       "      <td>4.113911</td>\n",
       "      <td>1156</td>\n",
       "      <td>Terminator 3: Rise of the Machines</td>\n",
       "      <td>5.0</td>\n",
       "    </tr>\n",
       "    <tr>\n",
       "      <th>2</th>\n",
       "      <td>1213</td>\n",
       "      <td>The Talented Mr. Ripley</td>\n",
       "      <td>4.057264</td>\n",
       "      <td>1156</td>\n",
       "      <td>5 Card Stud</td>\n",
       "      <td>5.0</td>\n",
       "    </tr>\n",
       "    <tr>\n",
       "      <th>3</th>\n",
       "      <td>595</td>\n",
       "      <td>To Kill a Mockingbird</td>\n",
       "      <td>4.044896</td>\n",
       "      <td>1156</td>\n",
       "      <td>Sleepless in Seattle</td>\n",
       "      <td>5.0</td>\n",
       "    </tr>\n",
       "    <tr>\n",
       "      <th>4</th>\n",
       "      <td>1584</td>\n",
       "      <td>School of Rock</td>\n",
       "      <td>4.037627</td>\n",
       "      <td>1156</td>\n",
       "      <td>48 Hrs.</td>\n",
       "      <td>5.0</td>\n",
       "    </tr>\n",
       "    <tr>\n",
       "      <th>5</th>\n",
       "      <td>364</td>\n",
       "      <td>Batman Returns</td>\n",
       "      <td>4.024408</td>\n",
       "      <td>1156</td>\n",
       "      <td>Rope</td>\n",
       "      <td>5.0</td>\n",
       "    </tr>\n",
       "    <tr>\n",
       "      <th>6</th>\n",
       "      <td>1246</td>\n",
       "      <td>Rocky Balboa</td>\n",
       "      <td>4.023949</td>\n",
       "      <td>1156</td>\n",
       "      <td>Beauty and the Beast</td>\n",
       "      <td>5.0</td>\n",
       "    </tr>\n",
       "    <tr>\n",
       "      <th>7</th>\n",
       "      <td>6</td>\n",
       "      <td>Judgment Night</td>\n",
       "      <td>4.012455</td>\n",
       "      <td>1156</td>\n",
       "      <td>The Million Dollar Hotel</td>\n",
       "      <td>5.0</td>\n",
       "    </tr>\n",
       "    <tr>\n",
       "      <th>8</th>\n",
       "      <td>4973</td>\n",
       "      <td>Under the Sand</td>\n",
       "      <td>4.011581</td>\n",
       "      <td>1156</td>\n",
       "      <td>The 39 Steps</td>\n",
       "      <td>5.0</td>\n",
       "    </tr>\n",
       "    <tr>\n",
       "      <th>9</th>\n",
       "      <td>1961</td>\n",
       "      <td>My Name Is Bruce</td>\n",
       "      <td>4.003065</td>\n",
       "      <td>1156</td>\n",
       "      <td>Solaris</td>\n",
       "      <td>5.0</td>\n",
       "    </tr>\n",
       "  </tbody>\n",
       "</table>\n",
       "</div>"
      ],
      "text/plain": [
       "   movieId                    title    rating  userId  \\\n",
       "0       17                 The Dark  4.123444    1156   \n",
       "1      919  Blood: The Last Vampire  4.113911    1156   \n",
       "2     1213  The Talented Mr. Ripley  4.057264    1156   \n",
       "3      595    To Kill a Mockingbird  4.044896    1156   \n",
       "4     1584           School of Rock  4.037627    1156   \n",
       "5      364           Batman Returns  4.024408    1156   \n",
       "6     1246             Rocky Balboa  4.023949    1156   \n",
       "7        6           Judgment Night  4.012455    1156   \n",
       "8     4973           Under the Sand  4.011581    1156   \n",
       "9     1961         My Name Is Bruce  4.003065    1156   \n",
       "\n",
       "                        Movie Watched  Rated  \n",
       "0         The Man with the Golden Arm    5.0  \n",
       "1  Terminator 3: Rise of the Machines    5.0  \n",
       "2                         5 Card Stud    5.0  \n",
       "3                Sleepless in Seattle    5.0  \n",
       "4                             48 Hrs.    5.0  \n",
       "5                                Rope    5.0  \n",
       "6                Beauty and the Beast    5.0  \n",
       "7            The Million Dollar Hotel    5.0  \n",
       "8                        The 39 Steps    5.0  \n",
       "9                             Solaris    5.0  "
      ]
     },
     "execution_count": 38,
     "metadata": {},
     "output_type": "execute_result"
    }
   ],
   "source": [
    "index_val = 101\n",
    "userId = df.index[index_val]\n",
    "movies = []\n",
    "ratings = []\n",
    "titles = []\n",
    "\n",
    "for movieId in df.iloc[index_val][df.iloc[index_val].isna()].index:\n",
    "    movies.append(movieId)\n",
    "    title = df5[df5['id']==movieId]['title'].values[0]\n",
    "    titles.append(title)\n",
    "    ratings.append(svd.predict(userId, movieId).est)\n",
    "\n",
    "prediction = pd.DataFrame({'movieId':movies, 'title':titles, 'rating':ratings, 'userId':userId}) \n",
    "prediction = prediction.sort_values('rating', ascending=False).reset_index(drop=True).iloc[:10]\n",
    "\n",
    "# get other high rated movies by user\n",
    "temp = data[data['userId']==userId].sort_values(\n",
    "    'rating', ascending=False)[['rating', 'title', 'userId']].iloc[:10].reset_index(drop=True)\n",
    "prediction['Movie Watched'] = temp['title']\n",
    "prediction['Rated']= temp['rating']\n",
    "prediction"
   ]
  },
  {
   "cell_type": "code",
   "execution_count": 39,
   "id": "unknown-bahamas",
   "metadata": {
    "execution": {
     "iopub.execute_input": "2021-06-22T11:17:03.982494Z",
     "iopub.status.busy": "2021-06-22T11:17:03.981619Z",
     "iopub.status.idle": "2021-06-22T11:17:04.052323Z",
     "shell.execute_reply": "2021-06-22T11:17:04.052759Z",
     "shell.execute_reply.started": "2021-06-22T09:40:56.384052Z"
    },
    "papermill": {
     "duration": 0.834639,
     "end_time": "2021-06-22T11:17:04.052929",
     "exception": false,
     "start_time": "2021-06-22T11:17:03.218290",
     "status": "completed"
    },
    "tags": []
   },
   "outputs": [
    {
     "data": {
      "text/html": [
       "<div>\n",
       "<style scoped>\n",
       "    .dataframe tbody tr th:only-of-type {\n",
       "        vertical-align: middle;\n",
       "    }\n",
       "\n",
       "    .dataframe tbody tr th {\n",
       "        vertical-align: top;\n",
       "    }\n",
       "\n",
       "    .dataframe thead th {\n",
       "        text-align: right;\n",
       "    }\n",
       "</style>\n",
       "<table border=\"1\" class=\"dataframe\">\n",
       "  <thead>\n",
       "    <tr style=\"text-align: right;\">\n",
       "      <th></th>\n",
       "      <th>movieId</th>\n",
       "      <th>title</th>\n",
       "      <th>rating</th>\n",
       "      <th>userId</th>\n",
       "      <th>Movie Watched</th>\n",
       "      <th>Rated</th>\n",
       "    </tr>\n",
       "  </thead>\n",
       "  <tbody>\n",
       "    <tr>\n",
       "      <th>0</th>\n",
       "      <td>1089</td>\n",
       "      <td>Point Break</td>\n",
       "      <td>4.252339</td>\n",
       "      <td>210430</td>\n",
       "      <td>License to Wed</td>\n",
       "      <td>5.0</td>\n",
       "    </tr>\n",
       "    <tr>\n",
       "      <th>1</th>\n",
       "      <td>2324</td>\n",
       "      <td>Local Color</td>\n",
       "      <td>4.203694</td>\n",
       "      <td>210430</td>\n",
       "      <td>The Prisoner of Zenda</td>\n",
       "      <td>5.0</td>\n",
       "    </tr>\n",
       "    <tr>\n",
       "      <th>2</th>\n",
       "      <td>58559</td>\n",
       "      <td>Confession of a Child of the Century</td>\n",
       "      <td>4.160858</td>\n",
       "      <td>210430</td>\n",
       "      <td>High Noon</td>\n",
       "      <td>4.5</td>\n",
       "    </tr>\n",
       "    <tr>\n",
       "      <th>3</th>\n",
       "      <td>912</td>\n",
       "      <td>The Thomas Crown Affair</td>\n",
       "      <td>4.103079</td>\n",
       "      <td>210430</td>\n",
       "      <td>Monsieur  Hulot's Holiday</td>\n",
       "      <td>4.5</td>\n",
       "    </tr>\n",
       "    <tr>\n",
       "      <th>4</th>\n",
       "      <td>551</td>\n",
       "      <td>The Poseidon Adventure</td>\n",
       "      <td>4.092581</td>\n",
       "      <td>210430</td>\n",
       "      <td>The Man with the Golden Arm</td>\n",
       "      <td>4.5</td>\n",
       "    </tr>\n",
       "    <tr>\n",
       "      <th>5</th>\n",
       "      <td>111</td>\n",
       "      <td>Scarface</td>\n",
       "      <td>4.082878</td>\n",
       "      <td>210430</td>\n",
       "      <td>Say Anything...</td>\n",
       "      <td>4.5</td>\n",
       "    </tr>\n",
       "    <tr>\n",
       "      <th>6</th>\n",
       "      <td>1968</td>\n",
       "      <td>Fools Rush In</td>\n",
       "      <td>3.986412</td>\n",
       "      <td>210430</td>\n",
       "      <td>Once Were Warriors</td>\n",
       "      <td>4.5</td>\n",
       "    </tr>\n",
       "    <tr>\n",
       "      <th>7</th>\n",
       "      <td>924</td>\n",
       "      <td>Dawn of the Dead</td>\n",
       "      <td>3.981295</td>\n",
       "      <td>210430</td>\n",
       "      <td>The Bourne Supremacy</td>\n",
       "      <td>4.5</td>\n",
       "    </tr>\n",
       "    <tr>\n",
       "      <th>8</th>\n",
       "      <td>1246</td>\n",
       "      <td>Rocky Balboa</td>\n",
       "      <td>3.973850</td>\n",
       "      <td>210430</td>\n",
       "      <td>Beetlejuice</td>\n",
       "      <td>4.5</td>\n",
       "    </tr>\n",
       "    <tr>\n",
       "      <th>9</th>\n",
       "      <td>1259</td>\n",
       "      <td>Notes on a Scandal</td>\n",
       "      <td>3.909606</td>\n",
       "      <td>210430</td>\n",
       "      <td>The Talented Mr. Ripley</td>\n",
       "      <td>4.0</td>\n",
       "    </tr>\n",
       "  </tbody>\n",
       "</table>\n",
       "</div>"
      ],
      "text/plain": [
       "   movieId                                 title    rating  userId  \\\n",
       "0     1089                           Point Break  4.252339  210430   \n",
       "1     2324                           Local Color  4.203694  210430   \n",
       "2    58559  Confession of a Child of the Century  4.160858  210430   \n",
       "3      912               The Thomas Crown Affair  4.103079  210430   \n",
       "4      551                The Poseidon Adventure  4.092581  210430   \n",
       "5      111                              Scarface  4.082878  210430   \n",
       "6     1968                         Fools Rush In  3.986412  210430   \n",
       "7      924                      Dawn of the Dead  3.981295  210430   \n",
       "8     1246                          Rocky Balboa  3.973850  210430   \n",
       "9     1259                    Notes on a Scandal  3.909606  210430   \n",
       "\n",
       "                 Movie Watched  Rated  \n",
       "0               License to Wed    5.0  \n",
       "1        The Prisoner of Zenda    5.0  \n",
       "2                    High Noon    4.5  \n",
       "3    Monsieur  Hulot's Holiday    4.5  \n",
       "4  The Man with the Golden Arm    4.5  \n",
       "5              Say Anything...    4.5  \n",
       "6           Once Were Warriors    4.5  \n",
       "7         The Bourne Supremacy    4.5  \n",
       "8                  Beetlejuice    4.5  \n",
       "9      The Talented Mr. Ripley    4.0  "
      ]
     },
     "execution_count": 39,
     "metadata": {},
     "output_type": "execute_result"
    }
   ],
   "source": [
    "index_val = 15554\n",
    "userId = df.index[index_val]\n",
    "df.iloc[index_val][df.iloc[index_val].isna()].index\n",
    "movies = []\n",
    "ratings = []\n",
    "titles = []\n",
    "\n",
    "for movieId in df.iloc[index_val][df.iloc[index_val].isna()].index:\n",
    "    movies.append(movieId)\n",
    "    title = df5[df5['id']==movieId]['title'].values[0]\n",
    "    titles.append(title)\n",
    "    ratings.append(svd.predict(userId, movieId).est)\n",
    "\n",
    "prediction = pd.DataFrame({'movieId':movies, 'title':titles, 'rating':ratings, 'userId':userId})  \n",
    "prediction = prediction.sort_values('rating', ascending=False).reset_index(drop=True).iloc[:10]\n",
    "\n",
    "# get other high rated movies by user\n",
    "temp = data[data['userId']==userId].sort_values(\n",
    "    'rating', ascending=False)[['rating', 'title', 'userId']].iloc[:10].reset_index(drop=True)\n",
    "prediction['Movie Watched'] = temp['title']\n",
    "prediction['Rated']= temp['rating']\n",
    "prediction"
   ]
  },
  {
   "cell_type": "markdown",
   "id": "several-kazakhstan",
   "metadata": {
    "papermill": {
     "duration": 0.749727,
     "end_time": "2021-06-22T11:17:05.552439",
     "exception": false,
     "start_time": "2021-06-22T11:17:04.802712",
     "status": "completed"
    },
    "tags": []
   },
   "source": [
    "# 3. Using LightFM\n",
    "Using the user ratings along with the movie overview"
   ]
  },
  {
   "cell_type": "code",
   "execution_count": 40,
   "id": "hairy-physics",
   "metadata": {
    "execution": {
     "iopub.execute_input": "2021-06-22T11:17:07.065495Z",
     "iopub.status.busy": "2021-06-22T11:17:07.064759Z",
     "iopub.status.idle": "2021-06-22T11:17:07.082607Z",
     "shell.execute_reply": "2021-06-22T11:17:07.082010Z",
     "shell.execute_reply.started": "2021-06-22T09:35:52.524300Z"
    },
    "papermill": {
     "duration": 0.777544,
     "end_time": "2021-06-22T11:17:07.082777",
     "exception": false,
     "start_time": "2021-06-22T11:17:06.305233",
     "status": "completed"
    },
    "tags": []
   },
   "outputs": [],
   "source": [
    "from scipy.sparse import csr_matrix\n",
    "from lightfm import LightFM"
   ]
  },
  {
   "cell_type": "code",
   "execution_count": 41,
   "id": "secret-collect",
   "metadata": {
    "execution": {
     "iopub.execute_input": "2021-06-22T11:17:08.614704Z",
     "iopub.status.busy": "2021-06-22T11:17:08.613715Z",
     "iopub.status.idle": "2021-06-22T11:17:09.492708Z",
     "shell.execute_reply": "2021-06-22T11:17:09.492038Z",
     "shell.execute_reply.started": "2021-06-22T10:42:22.688060Z"
    },
    "papermill": {
     "duration": 1.660046,
     "end_time": "2021-06-22T11:17:09.492867",
     "exception": false,
     "start_time": "2021-06-22T11:17:07.832821",
     "status": "completed"
    },
    "tags": []
   },
   "outputs": [
    {
     "name": "stderr",
     "output_type": "stream",
     "text": [
      "/opt/conda/lib/python3.7/site-packages/ipykernel_launcher.py:8: SettingWithCopyWarning:\n",
      "\n",
      "\n",
      "A value is trying to be set on a copy of a slice from a DataFrame.\n",
      "Try using .loc[row_indexer,col_indexer] = value instead\n",
      "\n",
      "See the caveats in the documentation: https://pandas.pydata.org/pandas-docs/stable/user_guide/indexing.html#returning-a-view-versus-a-copy\n",
      "\n",
      "100%|██████████| 100/100 [00:00<00:00, 130.22it/s]\n",
      "/opt/conda/lib/python3.7/site-packages/ipykernel_launcher.py:11: SettingWithCopyWarning:\n",
      "\n",
      "\n",
      "A value is trying to be set on a copy of a slice from a DataFrame.\n",
      "Try using .loc[row_indexer,col_indexer] = value instead\n",
      "\n",
      "See the caveats in the documentation: https://pandas.pydata.org/pandas-docs/stable/user_guide/indexing.html#returning-a-view-versus-a-copy\n",
      "\n"
     ]
    },
    {
     "name": "stdout",
     "output_type": "stream",
     "text": [
      "(100, 1873)\n"
     ]
    }
   ],
   "source": [
    "# prepare item features\n",
    "moviesId = df.columns\n",
    "\n",
    "# get overview of the movies\n",
    "movies_metadata = df5[df5['id'].isin(moviesId)]\n",
    "\n",
    "# replace NaN values with empty string\n",
    "movies_metadata['overview'] = movies_metadata['overview'].fillna('')\n",
    "\n",
    "# cleaning the text\n",
    "movies_metadata['overview'] = movies_metadata['overview'].progress_apply(text_process)\n",
    "\n",
    "# convert overview column data to matrix\n",
    "tfidf = TfidfVectorizer()#ngram_range=(1,1), min_df=0.0001)\n",
    "tfidf_matrix = tfidf.fit_transform(movies_metadata['overview'])\n",
    "\n",
    "print(tfidf_matrix.shape)"
   ]
  },
  {
   "cell_type": "code",
   "execution_count": 42,
   "id": "comprehensive-portugal",
   "metadata": {
    "execution": {
     "iopub.execute_input": "2021-06-22T11:17:11.008047Z",
     "iopub.status.busy": "2021-06-22T11:17:11.007357Z",
     "iopub.status.idle": "2021-06-22T11:17:11.126510Z",
     "shell.execute_reply": "2021-06-22T11:17:11.125967Z",
     "shell.execute_reply.started": "2021-06-22T09:35:52.549953Z"
    },
    "papermill": {
     "duration": 0.87684,
     "end_time": "2021-06-22T11:17:11.126652",
     "exception": false,
     "start_time": "2021-06-22T11:17:10.249812",
     "status": "completed"
    },
    "tags": []
   },
   "outputs": [
    {
     "data": {
      "text/plain": [
       "<20001x100 sparse matrix of type '<class 'numpy.float64'>'\n",
       "\twith 2000100 stored elements in Compressed Sparse Row format>"
      ]
     },
     "execution_count": 42,
     "metadata": {},
     "output_type": "execute_result"
    }
   ],
   "source": [
    "csr_data = csr_matrix(df_imputed.values) \n",
    "csr_data"
   ]
  },
  {
   "cell_type": "code",
   "execution_count": 43,
   "id": "cognitive-baltimore",
   "metadata": {
    "execution": {
     "iopub.execute_input": "2021-06-22T11:17:12.681041Z",
     "iopub.status.busy": "2021-06-22T11:17:12.680382Z",
     "iopub.status.idle": "2021-06-22T11:18:40.363493Z",
     "shell.execute_reply": "2021-06-22T11:18:40.364271Z",
     "shell.execute_reply.started": "2021-06-22T10:45:52.127292Z"
    },
    "papermill": {
     "duration": 88.441737,
     "end_time": "2021-06-22T11:18:40.364507",
     "exception": false,
     "start_time": "2021-06-22T11:17:11.922770",
     "status": "completed"
    },
    "tags": []
   },
   "outputs": [
    {
     "name": "stderr",
     "output_type": "stream",
     "text": [
      "Epoch: 100%|██████████| 15/15 [01:27<00:00,  5.84s/it]\n"
     ]
    },
    {
     "data": {
      "text/plain": [
       "<lightfm.lightfm.LightFM at 0x7f54d8999350>"
      ]
     },
     "execution_count": 43,
     "metadata": {},
     "output_type": "execute_result"
    }
   ],
   "source": [
    "# Instantiate and train the model\n",
    "model = LightFM(loss='warp')\n",
    "model.fit(csr_data, item_features=tfidf_matrix, epochs=15, num_threads=2, verbose=True)"
   ]
  },
  {
   "cell_type": "code",
   "execution_count": 44,
   "id": "automotive-stevens",
   "metadata": {
    "execution": {
     "iopub.execute_input": "2021-06-22T11:18:41.881681Z",
     "iopub.status.busy": "2021-06-22T11:18:41.880699Z",
     "iopub.status.idle": "2021-06-22T11:18:41.888806Z",
     "shell.execute_reply": "2021-06-22T11:18:41.889366Z",
     "shell.execute_reply.started": "2021-06-22T11:01:16.159492Z"
    },
    "papermill": {
     "duration": 0.769282,
     "end_time": "2021-06-22T11:18:41.889532",
     "exception": false,
     "start_time": "2021-06-22T11:18:41.120250",
     "status": "completed"
    },
    "tags": []
   },
   "outputs": [],
   "source": [
    "def get_recommendation(user_index):\n",
    "    idx = user_index\n",
    "    # get scores for all the movies\n",
    "    n_users, n_items = csr_data.shape\n",
    "    scores = pd.Series(model.predict(0, np.arange(n_items), item_features=tfidf_matrix))\n",
    "    scores.index = df.columns\n",
    "    scores = scores.reset_index()\n",
    "\n",
    "    # get movies that are unrated by the given user\n",
    "    unrated_movies = df.iloc[idx][df.iloc[idx].isna()].index\n",
    "\n",
    "    scores = scores[scores['movieId'].isin(unrated_movies)].reset_index(drop=True)\n",
    "    scores = scores.sort_values(0, ascending=False).iloc[:10]\n",
    "\n",
    "    # get recommended movie titles in sorted order\n",
    "    recommended_movies = df5[df5['id'].isin(scores.movieId)][['title', 'id']]\n",
    "\n",
    "    return pd.DataFrame({'movieId':recommended_movies['id'], \n",
    "                         'Recommended Movie':recommended_movies['title']})"
   ]
  },
  {
   "cell_type": "code",
   "execution_count": 45,
   "id": "furnished-audience",
   "metadata": {
    "execution": {
     "iopub.execute_input": "2021-06-22T11:18:43.413407Z",
     "iopub.status.busy": "2021-06-22T11:18:43.412442Z",
     "iopub.status.idle": "2021-06-22T11:18:43.458657Z",
     "shell.execute_reply": "2021-06-22T11:18:43.459157Z",
     "shell.execute_reply.started": "2021-06-22T10:56:04.207761Z"
    },
    "papermill": {
     "duration": 0.814644,
     "end_time": "2021-06-22T11:18:43.459322",
     "exception": false,
     "start_time": "2021-06-22T11:18:42.644678",
     "status": "completed"
    },
    "tags": []
   },
   "outputs": [
    {
     "name": "stdout",
     "output_type": "stream",
     "text": [
      "index val: 101\n"
     ]
    },
    {
     "data": {
      "text/html": [
       "<div>\n",
       "<style scoped>\n",
       "    .dataframe tbody tr th:only-of-type {\n",
       "        vertical-align: middle;\n",
       "    }\n",
       "\n",
       "    .dataframe tbody tr th {\n",
       "        vertical-align: top;\n",
       "    }\n",
       "\n",
       "    .dataframe thead th {\n",
       "        text-align: right;\n",
       "    }\n",
       "</style>\n",
       "<table border=\"1\" class=\"dataframe\">\n",
       "  <thead>\n",
       "    <tr style=\"text-align: right;\">\n",
       "      <th></th>\n",
       "      <th>movieId</th>\n",
       "      <th>Recommended Movie</th>\n",
       "      <th>userId</th>\n",
       "      <th>Movie Watched</th>\n",
       "      <th>Rated</th>\n",
       "    </tr>\n",
       "  </thead>\n",
       "  <tbody>\n",
       "    <tr>\n",
       "      <th>0</th>\n",
       "      <td>6</td>\n",
       "      <td>Judgment Night</td>\n",
       "      <td>1156</td>\n",
       "      <td>The Man with the Golden Arm</td>\n",
       "      <td>5.0</td>\n",
       "    </tr>\n",
       "    <tr>\n",
       "      <th>1</th>\n",
       "      <td>4011</td>\n",
       "      <td>Beetlejuice</td>\n",
       "      <td>1156</td>\n",
       "      <td>Terminator 3: Rise of the Machines</td>\n",
       "      <td>5.0</td>\n",
       "    </tr>\n",
       "    <tr>\n",
       "      <th>2</th>\n",
       "      <td>1923</td>\n",
       "      <td>Twin Peaks: Fire Walk with Me</td>\n",
       "      <td>1156</td>\n",
       "      <td>5 Card Stud</td>\n",
       "      <td>5.0</td>\n",
       "    </tr>\n",
       "    <tr>\n",
       "      <th>3</th>\n",
       "      <td>608</td>\n",
       "      <td>Men in Black II</td>\n",
       "      <td>1156</td>\n",
       "      <td>Sleepless in Seattle</td>\n",
       "      <td>5.0</td>\n",
       "    </tr>\n",
       "    <tr>\n",
       "      <th>4</th>\n",
       "      <td>153</td>\n",
       "      <td>Lost in Translation</td>\n",
       "      <td>1156</td>\n",
       "      <td>48 Hrs.</td>\n",
       "      <td>5.0</td>\n",
       "    </tr>\n",
       "    <tr>\n",
       "      <th>5</th>\n",
       "      <td>316</td>\n",
       "      <td>Grill Point</td>\n",
       "      <td>1156</td>\n",
       "      <td>Rope</td>\n",
       "      <td>5.0</td>\n",
       "    </tr>\n",
       "    <tr>\n",
       "      <th>6</th>\n",
       "      <td>25</td>\n",
       "      <td>Jarhead</td>\n",
       "      <td>1156</td>\n",
       "      <td>Beauty and the Beast</td>\n",
       "      <td>5.0</td>\n",
       "    </tr>\n",
       "    <tr>\n",
       "      <th>7</th>\n",
       "      <td>231</td>\n",
       "      <td>Syriana</td>\n",
       "      <td>1156</td>\n",
       "      <td>The Million Dollar Hotel</td>\n",
       "      <td>5.0</td>\n",
       "    </tr>\n",
       "    <tr>\n",
       "      <th>8</th>\n",
       "      <td>2355</td>\n",
       "      <td>Reign Over Me</td>\n",
       "      <td>1156</td>\n",
       "      <td>The 39 Steps</td>\n",
       "      <td>5.0</td>\n",
       "    </tr>\n",
       "    <tr>\n",
       "      <th>9</th>\n",
       "      <td>2012</td>\n",
       "      <td>Silent Light</td>\n",
       "      <td>1156</td>\n",
       "      <td>Solaris</td>\n",
       "      <td>5.0</td>\n",
       "    </tr>\n",
       "  </tbody>\n",
       "</table>\n",
       "</div>"
      ],
      "text/plain": [
       "   movieId              Recommended Movie  userId  \\\n",
       "0        6                 Judgment Night    1156   \n",
       "1     4011                    Beetlejuice    1156   \n",
       "2     1923  Twin Peaks: Fire Walk with Me    1156   \n",
       "3      608                Men in Black II    1156   \n",
       "4      153            Lost in Translation    1156   \n",
       "5      316                    Grill Point    1156   \n",
       "6       25                        Jarhead    1156   \n",
       "7      231                        Syriana    1156   \n",
       "8     2355                  Reign Over Me    1156   \n",
       "9     2012                   Silent Light    1156   \n",
       "\n",
       "                        Movie Watched  Rated  \n",
       "0         The Man with the Golden Arm    5.0  \n",
       "1  Terminator 3: Rise of the Machines    5.0  \n",
       "2                         5 Card Stud    5.0  \n",
       "3                Sleepless in Seattle    5.0  \n",
       "4                             48 Hrs.    5.0  \n",
       "5                                Rope    5.0  \n",
       "6                Beauty and the Beast    5.0  \n",
       "7            The Million Dollar Hotel    5.0  \n",
       "8                        The 39 Steps    5.0  \n",
       "9                             Solaris    5.0  "
      ]
     },
     "execution_count": 45,
     "metadata": {},
     "output_type": "execute_result"
    }
   ],
   "source": [
    "user_id = 1156\n",
    "temp = df.reset_index()\n",
    "user_idx = int(temp[temp['userId']==user_id].index[0])\n",
    "print('index val:', user_idx)\n",
    "recommended_movies = get_recommendation(user_idx).reset_index(drop=True)\n",
    "# get other high rated movies by user\n",
    "temp = data[data['userId']==user_id].sort_values(\n",
    "    'rating', ascending=False)[['rating', 'title', 'userId']].iloc[:10].reset_index(drop=True)\n",
    "recommended_movies['userId'] = temp['userId']\n",
    "recommended_movies['Movie Watched'] = temp['title']\n",
    "recommended_movies['Rated']= temp['rating']\n",
    "recommended_movies"
   ]
  },
  {
   "cell_type": "code",
   "execution_count": 46,
   "id": "wanted-wyoming",
   "metadata": {
    "execution": {
     "iopub.execute_input": "2021-06-22T11:18:44.984604Z",
     "iopub.status.busy": "2021-06-22T11:18:44.983645Z",
     "iopub.status.idle": "2021-06-22T11:18:45.028325Z",
     "shell.execute_reply": "2021-06-22T11:18:45.027778Z",
     "shell.execute_reply.started": "2021-06-22T10:56:14.143752Z"
    },
    "papermill": {
     "duration": 0.807331,
     "end_time": "2021-06-22T11:18:45.028461",
     "exception": false,
     "start_time": "2021-06-22T11:18:44.221130",
     "status": "completed"
    },
    "tags": []
   },
   "outputs": [
    {
     "name": "stdout",
     "output_type": "stream",
     "text": [
      "index val: 15554\n"
     ]
    },
    {
     "data": {
      "text/html": [
       "<div>\n",
       "<style scoped>\n",
       "    .dataframe tbody tr th:only-of-type {\n",
       "        vertical-align: middle;\n",
       "    }\n",
       "\n",
       "    .dataframe tbody tr th {\n",
       "        vertical-align: top;\n",
       "    }\n",
       "\n",
       "    .dataframe thead th {\n",
       "        text-align: right;\n",
       "    }\n",
       "</style>\n",
       "<table border=\"1\" class=\"dataframe\">\n",
       "  <thead>\n",
       "    <tr style=\"text-align: right;\">\n",
       "      <th></th>\n",
       "      <th>movieId</th>\n",
       "      <th>Recommended Movie</th>\n",
       "      <th>userId</th>\n",
       "      <th>Movie Watched</th>\n",
       "      <th>Rated</th>\n",
       "    </tr>\n",
       "  </thead>\n",
       "  <tbody>\n",
       "    <tr>\n",
       "      <th>0</th>\n",
       "      <td>6</td>\n",
       "      <td>Judgment Night</td>\n",
       "      <td>210430</td>\n",
       "      <td>License to Wed</td>\n",
       "      <td>5.0</td>\n",
       "    </tr>\n",
       "    <tr>\n",
       "      <th>1</th>\n",
       "      <td>1089</td>\n",
       "      <td>Point Break</td>\n",
       "      <td>210430</td>\n",
       "      <td>The Prisoner of Zenda</td>\n",
       "      <td>5.0</td>\n",
       "    </tr>\n",
       "    <tr>\n",
       "      <th>2</th>\n",
       "      <td>161</td>\n",
       "      <td>Ocean's Eleven</td>\n",
       "      <td>210430</td>\n",
       "      <td>High Noon</td>\n",
       "      <td>4.5</td>\n",
       "    </tr>\n",
       "    <tr>\n",
       "      <th>3</th>\n",
       "      <td>153</td>\n",
       "      <td>Lost in Translation</td>\n",
       "      <td>210430</td>\n",
       "      <td>Monsieur  Hulot's Holiday</td>\n",
       "      <td>4.5</td>\n",
       "    </tr>\n",
       "    <tr>\n",
       "      <th>4</th>\n",
       "      <td>316</td>\n",
       "      <td>Grill Point</td>\n",
       "      <td>210430</td>\n",
       "      <td>The Man with the Golden Arm</td>\n",
       "      <td>4.5</td>\n",
       "    </tr>\n",
       "    <tr>\n",
       "      <th>5</th>\n",
       "      <td>25</td>\n",
       "      <td>Jarhead</td>\n",
       "      <td>210430</td>\n",
       "      <td>Say Anything...</td>\n",
       "      <td>4.5</td>\n",
       "    </tr>\n",
       "    <tr>\n",
       "      <th>6</th>\n",
       "      <td>231</td>\n",
       "      <td>Syriana</td>\n",
       "      <td>210430</td>\n",
       "      <td>Once Were Warriors</td>\n",
       "      <td>4.5</td>\n",
       "    </tr>\n",
       "    <tr>\n",
       "      <th>7</th>\n",
       "      <td>2355</td>\n",
       "      <td>Reign Over Me</td>\n",
       "      <td>210430</td>\n",
       "      <td>The Bourne Supremacy</td>\n",
       "      <td>4.5</td>\n",
       "    </tr>\n",
       "    <tr>\n",
       "      <th>8</th>\n",
       "      <td>2012</td>\n",
       "      <td>Silent Light</td>\n",
       "      <td>210430</td>\n",
       "      <td>Beetlejuice</td>\n",
       "      <td>4.5</td>\n",
       "    </tr>\n",
       "    <tr>\n",
       "      <th>9</th>\n",
       "      <td>1387</td>\n",
       "      <td>Superstar: The Karen Carpenter Story</td>\n",
       "      <td>210430</td>\n",
       "      <td>The Talented Mr. Ripley</td>\n",
       "      <td>4.0</td>\n",
       "    </tr>\n",
       "  </tbody>\n",
       "</table>\n",
       "</div>"
      ],
      "text/plain": [
       "   movieId                     Recommended Movie  userId  \\\n",
       "0        6                        Judgment Night  210430   \n",
       "1     1089                           Point Break  210430   \n",
       "2      161                        Ocean's Eleven  210430   \n",
       "3      153                   Lost in Translation  210430   \n",
       "4      316                           Grill Point  210430   \n",
       "5       25                               Jarhead  210430   \n",
       "6      231                               Syriana  210430   \n",
       "7     2355                         Reign Over Me  210430   \n",
       "8     2012                          Silent Light  210430   \n",
       "9     1387  Superstar: The Karen Carpenter Story  210430   \n",
       "\n",
       "                 Movie Watched  Rated  \n",
       "0               License to Wed    5.0  \n",
       "1        The Prisoner of Zenda    5.0  \n",
       "2                    High Noon    4.5  \n",
       "3    Monsieur  Hulot's Holiday    4.5  \n",
       "4  The Man with the Golden Arm    4.5  \n",
       "5              Say Anything...    4.5  \n",
       "6           Once Were Warriors    4.5  \n",
       "7         The Bourne Supremacy    4.5  \n",
       "8                  Beetlejuice    4.5  \n",
       "9      The Talented Mr. Ripley    4.0  "
      ]
     },
     "execution_count": 46,
     "metadata": {},
     "output_type": "execute_result"
    }
   ],
   "source": [
    "user_id = 210430\n",
    "temp = df.reset_index()\n",
    "user_idx = int(temp[temp['userId']==user_id].index[0])\n",
    "print('index val:', user_idx)\n",
    "recommended_movies = get_recommendation(user_idx).reset_index(drop=True)\n",
    "# get other high rated movies by user\n",
    "temp = data[data['userId']==user_id].sort_values(\n",
    "    'rating', ascending=False)[['rating', 'title', 'userId']].iloc[:10].reset_index(drop=True)\n",
    "recommended_movies['userId'] = temp['userId']\n",
    "recommended_movies['Movie Watched'] = temp['title']\n",
    "recommended_movies['Rated']= temp['rating']\n",
    "recommended_movies"
   ]
  }
 ],
 "metadata": {
  "kernelspec": {
   "display_name": "Python 3",
   "language": "python",
   "name": "python3"
  },
  "language_info": {
   "codemirror_mode": {
    "name": "ipython",
    "version": 3
   },
   "file_extension": ".py",
   "mimetype": "text/x-python",
   "name": "python",
   "nbconvert_exporter": "python",
   "pygments_lexer": "ipython3",
   "version": "3.7.10"
  },
  "papermill": {
   "default_parameters": {},
   "duration": 890.122475,
   "end_time": "2021-06-22T11:18:48.401136",
   "environment_variables": {},
   "exception": null,
   "input_path": "__notebook__.ipynb",
   "output_path": "__notebook__.ipynb",
   "parameters": {},
   "start_time": "2021-06-22T11:03:58.278661",
   "version": "2.3.3"
  }
 },
 "nbformat": 4,
 "nbformat_minor": 5
}
